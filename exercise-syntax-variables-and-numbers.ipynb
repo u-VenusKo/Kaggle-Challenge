{
 "cells": [
  {
   "cell_type": "markdown",
   "id": "4002ec0b",
   "metadata": {
    "papermill": {
     "duration": 0.007944,
     "end_time": "2022-09-12T04:59:21.109025",
     "exception": false,
     "start_time": "2022-09-12T04:59:21.101081",
     "status": "completed"
    },
    "tags": []
   },
   "source": [
    "**This notebook is an exercise in the [Python](https://www.kaggle.com/learn/python) course.  You can reference the tutorial at [this link](https://www.kaggle.com/colinmorris/hello-python).**\n",
    "\n",
    "---\n"
   ]
  },
  {
   "cell_type": "markdown",
   "id": "083cbd3e",
   "metadata": {
    "papermill": {
     "duration": 0.00651,
     "end_time": "2022-09-12T04:59:21.122434",
     "exception": false,
     "start_time": "2022-09-12T04:59:21.115924",
     "status": "completed"
    },
    "tags": []
   },
   "source": [
    "Welcome to your first set of Python coding problems.  If this is your first time using Kaggle Notebooks, welcome! \n",
    "\n",
    "Notebooks are composed of blocks (called \"cells\") of text and code. Each of these is editable, though you'll mainly be editing the code cells to answer some questions.\n",
    "\n",
    "To get started, try running the code cell below (by pressing the ► button, or clicking on the cell and pressing ctrl+enter on your keyboard)."
   ]
  },
  {
   "cell_type": "code",
   "execution_count": 1,
   "id": "a58fb1fa",
   "metadata": {
    "execution": {
     "iopub.execute_input": "2022-09-12T04:59:21.138295Z",
     "iopub.status.busy": "2022-09-12T04:59:21.137554Z",
     "iopub.status.idle": "2022-09-12T04:59:21.149190Z",
     "shell.execute_reply": "2022-09-12T04:59:21.148378Z"
    },
    "papermill": {
     "duration": 0.0224,
     "end_time": "2022-09-12T04:59:21.151544",
     "exception": false,
     "start_time": "2022-09-12T04:59:21.129144",
     "status": "completed"
    },
    "tags": []
   },
   "outputs": [
    {
     "name": "stdout",
     "output_type": "stream",
     "text": [
      "You've successfully run some Python code\n",
      "Congratulations!\n"
     ]
    }
   ],
   "source": [
    "print(\"You've successfully run some Python code\")\n",
    "print(\"Congratulations!\")"
   ]
  },
  {
   "cell_type": "code",
   "execution_count": 2,
   "id": "66f1bce2",
   "metadata": {
    "execution": {
     "iopub.execute_input": "2022-09-12T04:59:21.167354Z",
     "iopub.status.busy": "2022-09-12T04:59:21.166563Z",
     "iopub.status.idle": "2022-09-12T04:59:21.172148Z",
     "shell.execute_reply": "2022-09-12T04:59:21.170769Z"
    },
    "papermill": {
     "duration": 0.016867,
     "end_time": "2022-09-12T04:59:21.175494",
     "exception": false,
     "start_time": "2022-09-12T04:59:21.158627",
     "status": "completed"
    },
    "tags": []
   },
   "outputs": [
    {
     "name": "stdout",
     "output_type": "stream",
     "text": [
      "You've successfully run some Python code\n",
      "Congratulations!\n",
      "Hello, my name is Venus\n"
     ]
    }
   ],
   "source": [
    "print(\"You've successfully run some Python code\")\n",
    "print(\"Congratulations!\")\n",
    "print(\"Hello, my name is Venus\")"
   ]
  },
  {
   "cell_type": "markdown",
   "id": "1286d832",
   "metadata": {
    "papermill": {
     "duration": 0.006386,
     "end_time": "2022-09-12T04:59:21.189170",
     "exception": false,
     "start_time": "2022-09-12T04:59:21.182784",
     "status": "completed"
    },
    "tags": []
   },
   "source": [
    "Try adding another line of code in the cell above and re-running it. \n",
    "\n",
    "Now let's get a little fancier:  Add a new code cell by clicking on an existing code cell, hitting the escape key, and then hitting the `a` or `b` key.  The `a` key will add a cell above the current cell, and `b` adds a cell below.\n",
    "\n",
    "Great! Now you know how to use Notebooks.\n",
    "\n",
    "Each hands-on exercise starts by setting up our feedback and code checking mechanism. Run the code cell below to do that. Then you'll be ready to move on to question 0."
   ]
  },
  {
   "cell_type": "code",
   "execution_count": 3,
   "id": "93027615",
   "metadata": {
    "_kg_hide-input": true,
    "_kg_hide-output": true,
    "execution": {
     "iopub.execute_input": "2022-09-12T04:59:21.204457Z",
     "iopub.status.busy": "2022-09-12T04:59:21.204028Z",
     "iopub.status.idle": "2022-09-12T04:59:21.248133Z",
     "shell.execute_reply": "2022-09-12T04:59:21.246671Z"
    },
    "papermill": {
     "duration": 0.054782,
     "end_time": "2022-09-12T04:59:21.250669",
     "exception": false,
     "start_time": "2022-09-12T04:59:21.195887",
     "status": "completed"
    },
    "tags": []
   },
   "outputs": [
    {
     "name": "stdout",
     "output_type": "stream",
     "text": [
      "Setup complete! You're ready to start question 0.\n"
     ]
    }
   ],
   "source": [
    "from learntools.core import binder; binder.bind(globals())\n",
    "from learntools.python.ex1 import *\n",
    "print(\"Setup complete! You're ready to start question 0.\")"
   ]
  },
  {
   "cell_type": "markdown",
   "id": "3f8c12d3",
   "metadata": {
    "papermill": {
     "duration": 0.006915,
     "end_time": "2022-09-12T04:59:21.264470",
     "exception": false,
     "start_time": "2022-09-12T04:59:21.257555",
     "status": "completed"
    },
    "tags": []
   },
   "source": [
    "# 0.\n",
    "\n",
    "*This is a silly question intended as an introduction to the format we use for hands-on exercises throughout all Kaggle courses.*\n",
    "\n",
    "**What is your favorite color? **\n",
    "\n",
    "To complete this question, create a variable called `color` in the cell below with an appropriate value. The function call `q0.check()` (which we've already provided in the cell below) will check your answer."
   ]
  },
  {
   "cell_type": "code",
   "execution_count": 4,
   "id": "a87b6490",
   "metadata": {
    "execution": {
     "iopub.execute_input": "2022-09-12T04:59:21.280530Z",
     "iopub.status.busy": "2022-09-12T04:59:21.279894Z",
     "iopub.status.idle": "2022-09-12T04:59:21.290697Z",
     "shell.execute_reply": "2022-09-12T04:59:21.289629Z"
    },
    "papermill": {
     "duration": 0.021425,
     "end_time": "2022-09-12T04:59:21.292989",
     "exception": false,
     "start_time": "2022-09-12T04:59:21.271564",
     "status": "completed"
    },
    "tags": []
   },
   "outputs": [
    {
     "data": {
      "application/javascript": [
       "parent.postMessage({\"jupyterEvent\": \"custom.exercise_interaction\", \"data\": {\"outcomeType\": 1, \"valueTowardsCompletion\": 0.25, \"interactionType\": 1, \"questionType\": 2, \"questionId\": \"0_ExerciseFormatTutorial\", \"learnToolsVersion\": \"0.3.4\", \"failureMessage\": \"\", \"exceptionClass\": \"\", \"trace\": \"\"}}, \"*\")"
      ],
      "text/plain": [
       "<IPython.core.display.Javascript object>"
      ]
     },
     "metadata": {},
     "output_type": "display_data"
    },
    {
     "data": {
      "text/markdown": [
       "<span style=\"color:#33cc33\">Correct:</span> What?! You got it right without needing a hint or anything? Drats. Well hey, you should still continue to the next step to get some practice asking for a hint and checking solutions. (Even though you obviously don't need any help here.)"
      ],
      "text/plain": [
       "Correct: What?! You got it right without needing a hint or anything? Drats. Well hey, you should still continue to the next step to get some practice asking for a hint and checking solutions. (Even though you obviously don't need any help here.)"
      ]
     },
     "metadata": {},
     "output_type": "display_data"
    }
   ],
   "source": [
    "# create a variable called color with an appropriate value on the line below\n",
    "# (Remember, strings in Python must be enclosed in 'single' or \"double\" quotes)\n",
    "color = \"Blue\"\n",
    "# Check your answer\n",
    "q0.check()\n"
   ]
  },
  {
   "cell_type": "markdown",
   "id": "ac760f5c",
   "metadata": {
    "papermill": {
     "duration": 0.006843,
     "end_time": "2022-09-12T04:59:21.307022",
     "exception": false,
     "start_time": "2022-09-12T04:59:21.300179",
     "status": "completed"
    },
    "tags": []
   },
   "source": [
    "Didn't get the right answer? How do you not even know your own favorite color?!\n",
    "\n",
    "Delete the `#` in the line below to make one of the lines run. You can choose between getting a hint or the full answer by choosing which line to remove the `#` from. \n",
    "\n",
    "Removing the `#` is called uncommenting, because it changes that line from a \"comment\" which Python doesn't run to code, which Python does run."
   ]
  },
  {
   "cell_type": "code",
   "execution_count": 5,
   "id": "92bdf064",
   "metadata": {
    "execution": {
     "iopub.execute_input": "2022-09-12T04:59:21.323541Z",
     "iopub.status.busy": "2022-09-12T04:59:21.322776Z",
     "iopub.status.idle": "2022-09-12T04:59:21.327559Z",
     "shell.execute_reply": "2022-09-12T04:59:21.326724Z"
    },
    "papermill": {
     "duration": 0.015723,
     "end_time": "2022-09-12T04:59:21.329867",
     "exception": false,
     "start_time": "2022-09-12T04:59:21.314144",
     "status": "completed"
    },
    "tags": []
   },
   "outputs": [],
   "source": [
    "#q0.hint()\n",
    "#q0.solution()"
   ]
  },
  {
   "cell_type": "markdown",
   "id": "81071374",
   "metadata": {
    "papermill": {
     "duration": 0.006959,
     "end_time": "2022-09-12T04:59:21.344022",
     "exception": false,
     "start_time": "2022-09-12T04:59:21.337063",
     "status": "completed"
    },
    "tags": []
   },
   "source": [
    "The upcoming questions work the same way. The only thing that will change are the question numbers. For the next question, you'll call `q1.check()`, `q1.hint()`, `q1.solution()`, for question 2, you'll call `q2.check()`, and so on."
   ]
  },
  {
   "cell_type": "markdown",
   "id": "b6903898",
   "metadata": {
    "papermill": {
     "duration": 0.007693,
     "end_time": "2022-09-12T04:59:21.359038",
     "exception": false,
     "start_time": "2022-09-12T04:59:21.351345",
     "status": "completed"
    },
    "tags": []
   },
   "source": [
    "<hr/>\n",
    "\n",
    "# 1.\n",
    "\n",
    "Complete the code below. In case it's helpful, here is the table of available arithmetic operations:\n",
    "\n",
    "\n",
    "\n",
    "| Operator     | Name           | Description                                            |\n",
    "|--------------|----------------|--------------------------------------------------------|\n",
    "| ``a + b``    | Addition       | Sum of ``a`` and ``b``                                 |\n",
    "| ``a - b``    | Subtraction    | Difference of ``a`` and ``b``                          |\n",
    "| ``a * b``    | Multiplication | Product of ``a`` and ``b``                             |\n",
    "| ``a / b``    | True division  | Quotient of ``a`` and ``b``                            |\n",
    "| ``a // b``   | Floor division | Quotient of ``a`` and ``b``, removing fractional parts |\n",
    "| ``a % b``    | Modulus        | Integer remainder after division of ``a`` by ``b``     |\n",
    "| ``a ** b``   | Exponentiation | ``a`` raised to the power of ``b``                     |\n",
    "| ``-a``       | Negation       | The negative of ``a``                                  |\n",
    "\n",
    "<span style=\"display:none\"></span>\n"
   ]
  },
  {
   "cell_type": "code",
   "execution_count": 6,
   "id": "a24c2320",
   "metadata": {
    "execution": {
     "iopub.execute_input": "2022-09-12T04:59:21.375646Z",
     "iopub.status.busy": "2022-09-12T04:59:21.374875Z",
     "iopub.status.idle": "2022-09-12T04:59:21.384738Z",
     "shell.execute_reply": "2022-09-12T04:59:21.383875Z"
    },
    "papermill": {
     "duration": 0.021182,
     "end_time": "2022-09-12T04:59:21.387362",
     "exception": false,
     "start_time": "2022-09-12T04:59:21.366180",
     "status": "completed"
    },
    "tags": []
   },
   "outputs": [
    {
     "data": {
      "application/javascript": [
       "parent.postMessage({\"jupyterEvent\": \"custom.exercise_interaction\", \"data\": {\"outcomeType\": 1, \"valueTowardsCompletion\": 0.25, \"interactionType\": 1, \"questionType\": 1, \"questionId\": \"1_CircleArea\", \"learnToolsVersion\": \"0.3.4\", \"failureMessage\": \"\", \"exceptionClass\": \"\", \"trace\": \"\"}}, \"*\")"
      ],
      "text/plain": [
       "<IPython.core.display.Javascript object>"
      ]
     },
     "metadata": {},
     "output_type": "display_data"
    },
    {
     "data": {
      "text/markdown": [
       "<span style=\"color:#33cc33\">Correct</span>"
      ],
      "text/plain": [
       "Correct"
      ]
     },
     "metadata": {},
     "output_type": "display_data"
    }
   ],
   "source": [
    "pi = 3.14159 # approximate\n",
    "diameter = 3\n",
    "\n",
    "# Create a variable called 'radius' equal to half the diameter\n",
    "radius = diameter / 2\n",
    "\n",
    "# Create a variable called 'area', using the formula for the area of a circle: pi times the radius squared\n",
    "area = pi * radius ** 2\n",
    "\n",
    "# Check your answer\n",
    "q1.check()"
   ]
  },
  {
   "cell_type": "markdown",
   "id": "fd4a8421",
   "metadata": {
    "papermill": {
     "duration": 0.007149,
     "end_time": "2022-09-12T04:59:21.401959",
     "exception": false,
     "start_time": "2022-09-12T04:59:21.394810",
     "status": "completed"
    },
    "tags": []
   },
   "source": [
    "<hr/>\n",
    "\n",
    "# 2.\n",
    "\n",
    "Add code to the following cell to swap variables `a` and `b` (so that `a` refers to the object previously referred to by `b` and vice versa)."
   ]
  },
  {
   "cell_type": "code",
   "execution_count": 7,
   "id": "8f7ecbaf",
   "metadata": {
    "execution": {
     "iopub.execute_input": "2022-09-12T04:59:21.418487Z",
     "iopub.status.busy": "2022-09-12T04:59:21.418078Z",
     "iopub.status.idle": "2022-09-12T04:59:21.429190Z",
     "shell.execute_reply": "2022-09-12T04:59:21.428023Z"
    },
    "papermill": {
     "duration": 0.022524,
     "end_time": "2022-09-12T04:59:21.431719",
     "exception": false,
     "start_time": "2022-09-12T04:59:21.409195",
     "status": "completed"
    },
    "tags": []
   },
   "outputs": [
    {
     "data": {
      "application/javascript": [
       "parent.postMessage({\"jupyterEvent\": \"custom.exercise_interaction\", \"data\": {\"outcomeType\": 1, \"valueTowardsCompletion\": 0.25, \"interactionType\": 1, \"questionType\": 2, \"questionId\": \"2_VariableSwap\", \"learnToolsVersion\": \"0.3.4\", \"failureMessage\": \"\", \"exceptionClass\": \"\", \"trace\": \"\"}}, \"*\")"
      ],
      "text/plain": [
       "<IPython.core.display.Javascript object>"
      ]
     },
     "metadata": {},
     "output_type": "display_data"
    },
    {
     "data": {
      "text/markdown": [
       "<span style=\"color:#33cc33\">Correct:</span> \n",
       "\n",
       "The most straightforward solution is to use a third variable to temporarily store one of the old values. e.g.:\n",
       "\n",
       "    tmp = a\n",
       "    a = b\n",
       "    b = tmp\n",
       "\n",
       "If you've read lots of Python code, you might have seen the following trick to swap two variables in one line:\n",
       "\n",
       "    a, b = b, a\n",
       "\n",
       "We'll demystify this bit of Python magic later when we talk about *tuples*."
      ],
      "text/plain": [
       "Correct: \n",
       "\n",
       "The most straightforward solution is to use a third variable to temporarily store one of the old values. e.g.:\n",
       "\n",
       "    tmp = a\n",
       "    a = b\n",
       "    b = tmp\n",
       "\n",
       "If you've read lots of Python code, you might have seen the following trick to swap two variables in one line:\n",
       "\n",
       "    a, b = b, a\n",
       "\n",
       "We'll demystify this bit of Python magic later when we talk about *tuples*."
      ]
     },
     "metadata": {},
     "output_type": "display_data"
    }
   ],
   "source": [
    "########### Setup code - don't touch this part ######################\n",
    "# If you're curious, these are examples of lists. We'll talk about \n",
    "# them in depth a few lessons from now. For now, just know that they're\n",
    "# yet another type of Python object, like int or float.\n",
    "a = [1, 2, 3]\n",
    "b = [3, 2, 1]\n",
    "\n",
    "q2.store_original_ids()\n",
    "######################################################################\n",
    "\n",
    "# Your code goes here. Swap the values to which a and b refer.\n",
    "# If you get stuck, you can always uncomment one or both of the lines in\n",
    "# the next cell for a hint, or to peek at the solution.\n",
    "c = []\n",
    "c = b\n",
    "b = a\n",
    "a = c\n",
    "######################################################################\n",
    "\n",
    "# Check your answer\n",
    "q2.check()"
   ]
  },
  {
   "cell_type": "code",
   "execution_count": 8,
   "id": "4cb3319c",
   "metadata": {
    "execution": {
     "iopub.execute_input": "2022-09-12T04:59:21.449781Z",
     "iopub.status.busy": "2022-09-12T04:59:21.449110Z",
     "iopub.status.idle": "2022-09-12T04:59:21.453724Z",
     "shell.execute_reply": "2022-09-12T04:59:21.452710Z"
    },
    "papermill": {
     "duration": 0.016471,
     "end_time": "2022-09-12T04:59:21.456094",
     "exception": false,
     "start_time": "2022-09-12T04:59:21.439623",
     "status": "completed"
    },
    "tags": []
   },
   "outputs": [],
   "source": [
    "#q2.hint()"
   ]
  },
  {
   "cell_type": "code",
   "execution_count": 9,
   "id": "b23a1951",
   "metadata": {
    "execution": {
     "iopub.execute_input": "2022-09-12T04:59:21.474551Z",
     "iopub.status.busy": "2022-09-12T04:59:21.473750Z",
     "iopub.status.idle": "2022-09-12T04:59:21.478566Z",
     "shell.execute_reply": "2022-09-12T04:59:21.477665Z"
    },
    "papermill": {
     "duration": 0.016581,
     "end_time": "2022-09-12T04:59:21.480870",
     "exception": false,
     "start_time": "2022-09-12T04:59:21.464289",
     "status": "completed"
    },
    "tags": []
   },
   "outputs": [],
   "source": [
    "#q2.solution()"
   ]
  },
  {
   "cell_type": "markdown",
   "id": "b3ae6a6e",
   "metadata": {
    "papermill": {
     "duration": 0.007421,
     "end_time": "2022-09-12T04:59:21.496503",
     "exception": false,
     "start_time": "2022-09-12T04:59:21.489082",
     "status": "completed"
    },
    "tags": []
   },
   "source": [
    "<hr/>\n",
    "\n",
    "# 3a.\n",
    "\n",
    "Add parentheses to the following expression so that it evaluates to 1."
   ]
  },
  {
   "cell_type": "code",
   "execution_count": 10,
   "id": "78357e09",
   "metadata": {
    "execution": {
     "iopub.execute_input": "2022-09-12T04:59:21.514313Z",
     "iopub.status.busy": "2022-09-12T04:59:21.513497Z",
     "iopub.status.idle": "2022-09-12T04:59:21.521128Z",
     "shell.execute_reply": "2022-09-12T04:59:21.520085Z"
    },
    "papermill": {
     "duration": 0.019205,
     "end_time": "2022-09-12T04:59:21.523403",
     "exception": false,
     "start_time": "2022-09-12T04:59:21.504198",
     "status": "completed"
    },
    "tags": []
   },
   "outputs": [
    {
     "data": {
      "text/plain": [
       "1"
      ]
     },
     "execution_count": 10,
     "metadata": {},
     "output_type": "execute_result"
    }
   ],
   "source": [
    "(5 - 3) // 2"
   ]
  },
  {
   "cell_type": "code",
   "execution_count": 11,
   "id": "329c22bf",
   "metadata": {
    "execution": {
     "iopub.execute_input": "2022-09-12T04:59:21.541568Z",
     "iopub.status.busy": "2022-09-12T04:59:21.540767Z",
     "iopub.status.idle": "2022-09-12T04:59:21.545529Z",
     "shell.execute_reply": "2022-09-12T04:59:21.544676Z"
    },
    "papermill": {
     "duration": 0.016391,
     "end_time": "2022-09-12T04:59:21.547885",
     "exception": false,
     "start_time": "2022-09-12T04:59:21.531494",
     "status": "completed"
    },
    "tags": []
   },
   "outputs": [],
   "source": [
    "#q3.a.hint()"
   ]
  },
  {
   "cell_type": "code",
   "execution_count": 12,
   "id": "eda9bc3c",
   "metadata": {
    "execution": {
     "iopub.execute_input": "2022-09-12T04:59:21.565681Z",
     "iopub.status.busy": "2022-09-12T04:59:21.564889Z",
     "iopub.status.idle": "2022-09-12T04:59:21.573903Z",
     "shell.execute_reply": "2022-09-12T04:59:21.573050Z"
    },
    "papermill": {
     "duration": 0.020388,
     "end_time": "2022-09-12T04:59:21.576078",
     "exception": false,
     "start_time": "2022-09-12T04:59:21.555690",
     "status": "completed"
    },
    "tags": []
   },
   "outputs": [
    {
     "data": {
      "application/javascript": [
       "parent.postMessage({\"jupyterEvent\": \"custom.exercise_interaction\", \"data\": {\"interactionType\": 3, \"questionType\": 4, \"questionId\": \"3.1_ArithmeticParensEasy\", \"learnToolsVersion\": \"0.3.4\", \"valueTowardsCompletion\": 0.0, \"failureMessage\": \"\", \"exceptionClass\": \"\", \"trace\": \"\", \"outcomeType\": 4}}, \"*\")"
      ],
      "text/plain": [
       "<IPython.core.display.Javascript object>"
      ]
     },
     "metadata": {},
     "output_type": "display_data"
    },
    {
     "data": {
      "text/markdown": [
       "<span style=\"color:#33cc99\">Solution:</span> \n",
       "```python\n",
       "(5 - 3) // 2\n",
       "```"
      ],
      "text/plain": [
       "Solution: \n",
       "```python\n",
       "(5 - 3) // 2\n",
       "```"
      ]
     },
     "metadata": {},
     "output_type": "display_data"
    }
   ],
   "source": [
    "# Check your answer (Run this code cell to receive credit!)\n",
    "q3.a.solution()"
   ]
  },
  {
   "cell_type": "markdown",
   "id": "09ddf362",
   "metadata": {
    "papermill": {
     "duration": 0.007649,
     "end_time": "2022-09-12T04:59:21.591639",
     "exception": false,
     "start_time": "2022-09-12T04:59:21.583990",
     "status": "completed"
    },
    "tags": []
   },
   "source": [
    "# 3b.  <span title=\"A bit spicy\" style=\"color: darkgreen \">🌶️</span>\n",
    "\n",
    "<small>Questions, like this one, marked a spicy pepper are a bit harder.</small>\n",
    "\n",
    "Add parentheses to the following expression so that it evaluates to 0."
   ]
  },
  {
   "cell_type": "code",
   "execution_count": 13,
   "id": "f02fad55",
   "metadata": {
    "execution": {
     "iopub.execute_input": "2022-09-12T04:59:21.609728Z",
     "iopub.status.busy": "2022-09-12T04:59:21.608979Z",
     "iopub.status.idle": "2022-09-12T04:59:21.615908Z",
     "shell.execute_reply": "2022-09-12T04:59:21.615039Z"
    },
    "papermill": {
     "duration": 0.018541,
     "end_time": "2022-09-12T04:59:21.618185",
     "exception": false,
     "start_time": "2022-09-12T04:59:21.599644",
     "status": "completed"
    },
    "tags": []
   },
   "outputs": [
    {
     "data": {
      "text/plain": [
       "0"
      ]
     },
     "execution_count": 13,
     "metadata": {},
     "output_type": "execute_result"
    }
   ],
   "source": [
    "(8 - 3) * (2 - (1 + 1))"
   ]
  },
  {
   "cell_type": "code",
   "execution_count": 14,
   "id": "5a989c1f",
   "metadata": {
    "execution": {
     "iopub.execute_input": "2022-09-12T04:59:21.636657Z",
     "iopub.status.busy": "2022-09-12T04:59:21.635857Z",
     "iopub.status.idle": "2022-09-12T04:59:21.645245Z",
     "shell.execute_reply": "2022-09-12T04:59:21.644253Z"
    },
    "papermill": {
     "duration": 0.021411,
     "end_time": "2022-09-12T04:59:21.647677",
     "exception": false,
     "start_time": "2022-09-12T04:59:21.626266",
     "status": "completed"
    },
    "tags": []
   },
   "outputs": [
    {
     "data": {
      "application/javascript": [
       "parent.postMessage({\"jupyterEvent\": \"custom.exercise_interaction\", \"data\": {\"interactionType\": 3, \"questionType\": 4, \"questionId\": \"3.2_ArithmeticParensHard\", \"learnToolsVersion\": \"0.3.4\", \"valueTowardsCompletion\": 0.0, \"failureMessage\": \"\", \"exceptionClass\": \"\", \"trace\": \"\", \"outcomeType\": 4}}, \"*\")"
      ],
      "text/plain": [
       "<IPython.core.display.Javascript object>"
      ]
     },
     "metadata": {},
     "output_type": "display_data"
    },
    {
     "data": {
      "text/markdown": [
       "<span style=\"color:#33cc99\">Solution:</span> `(8 - 3) * (2 - (1 + 1))` is one solution. There may be others."
      ],
      "text/plain": [
       "Solution: `(8 - 3) * (2 - (1 + 1))` is one solution. There may be others."
      ]
     },
     "metadata": {},
     "output_type": "display_data"
    }
   ],
   "source": [
    "# Check your answer (Run this code cell to receive credit!)\n",
    "q3.b.solution()"
   ]
  },
  {
   "cell_type": "markdown",
   "id": "85e82da1",
   "metadata": {
    "papermill": {
     "duration": 0.007844,
     "end_time": "2022-09-12T04:59:21.663892",
     "exception": false,
     "start_time": "2022-09-12T04:59:21.656048",
     "status": "completed"
    },
    "tags": []
   },
   "source": [
    "<hr/>\n",
    "\n",
    "# 4. \n",
    "Alice, Bob and Carol have agreed to pool their Halloween candy and split it evenly among themselves.\n",
    "For the sake of their friendship, any candies left over will be smashed. For example, if they collectively\n",
    "bring home 91 candies, they'll take 30 each and smash 1.\n",
    "\n",
    "Write an arithmetic expression below to calculate how many candies they must smash for a given haul."
   ]
  },
  {
   "cell_type": "code",
   "execution_count": 15,
   "id": "086ae91c",
   "metadata": {
    "execution": {
     "iopub.execute_input": "2022-09-12T04:59:21.682390Z",
     "iopub.status.busy": "2022-09-12T04:59:21.681957Z",
     "iopub.status.idle": "2022-09-12T04:59:21.691672Z",
     "shell.execute_reply": "2022-09-12T04:59:21.690565Z"
    },
    "papermill": {
     "duration": 0.021923,
     "end_time": "2022-09-12T04:59:21.694115",
     "exception": false,
     "start_time": "2022-09-12T04:59:21.672192",
     "status": "completed"
    },
    "tags": []
   },
   "outputs": [
    {
     "data": {
      "application/javascript": [
       "parent.postMessage({\"jupyterEvent\": \"custom.exercise_interaction\", \"data\": {\"outcomeType\": 4, \"interactionType\": 1, \"questionType\": 1, \"questionId\": \"4_CandySplitting\", \"learnToolsVersion\": \"0.3.4\", \"valueTowardsCompletion\": 0.0, \"failureMessage\": \"\", \"exceptionClass\": \"\", \"trace\": \"\"}}, \"*\")"
      ],
      "text/plain": [
       "<IPython.core.display.Javascript object>"
      ]
     },
     "metadata": {},
     "output_type": "display_data"
    },
    {
     "data": {
      "text/markdown": [
       "<span style=\"color:#ccaa33\">Check:</span> When you've updated the starter code, `check()` will tell you whether your code is correct. You need to update the code that creates variable `to_smash`"
      ],
      "text/plain": [
       "Check: When you've updated the starter code, `check()` will tell you whether your code is correct. You need to update the code that creates variable `to_smash`"
      ]
     },
     "metadata": {},
     "output_type": "display_data"
    }
   ],
   "source": [
    "# Variables representing the number of candies collected by alice, bob, and carol\n",
    "alice_candies = 121\n",
    "bob_candies = 77\n",
    "carol_candies = 109\n",
    "\n",
    "# Your code goes here! Replace the right-hand side of this assignment with an expression\n",
    "# involving alice_candies, bob_candies, and carol_candies\n",
    "to_smash = -1\n",
    "\n",
    "\n",
    "# Check your answer\n",
    "q4.check()"
   ]
  },
  {
   "cell_type": "code",
   "execution_count": 16,
   "id": "597fe413",
   "metadata": {
    "execution": {
     "iopub.execute_input": "2022-09-12T04:59:21.713366Z",
     "iopub.status.busy": "2022-09-12T04:59:21.712938Z",
     "iopub.status.idle": "2022-09-12T04:59:21.721256Z",
     "shell.execute_reply": "2022-09-12T04:59:21.720522Z"
    },
    "papermill": {
     "duration": 0.020552,
     "end_time": "2022-09-12T04:59:21.723271",
     "exception": false,
     "start_time": "2022-09-12T04:59:21.702719",
     "status": "completed"
    },
    "tags": []
   },
   "outputs": [
    {
     "data": {
      "application/javascript": [
       "parent.postMessage({\"jupyterEvent\": \"custom.exercise_interaction\", \"data\": {\"outcomeType\": 1, \"valueTowardsCompletion\": 0.25, \"interactionType\": 1, \"questionType\": 1, \"questionId\": \"4_CandySplitting\", \"learnToolsVersion\": \"0.3.4\", \"failureMessage\": \"\", \"exceptionClass\": \"\", \"trace\": \"\"}}, \"*\")"
      ],
      "text/plain": [
       "<IPython.core.display.Javascript object>"
      ]
     },
     "metadata": {},
     "output_type": "display_data"
    },
    {
     "data": {
      "text/markdown": [
       "<span style=\"color:#33cc33\">Correct</span>"
      ],
      "text/plain": [
       "Correct"
      ]
     },
     "metadata": {},
     "output_type": "display_data"
    }
   ],
   "source": [
    "# Variables representing the number of candies collected by alice, bob, and carol\n",
    "alice_candies = 121\n",
    "bob_candies = 77\n",
    "carol_candies = 109\n",
    "\n",
    "# Your code goes here! Replace the right-hand side of this assignment with an expression\n",
    "# involving alice_candies, bob_candies, and carol_candies\n",
    "to_smash = ((alice_candies + bob_candies + carol_candies) % 3)\n",
    "\n",
    "\n",
    "\n",
    "# Check your answer\n",
    "q4.check()"
   ]
  },
  {
   "cell_type": "code",
   "execution_count": 17,
   "id": "ac9b6a33",
   "metadata": {
    "execution": {
     "iopub.execute_input": "2022-09-12T04:59:21.743429Z",
     "iopub.status.busy": "2022-09-12T04:59:21.742286Z",
     "iopub.status.idle": "2022-09-12T04:59:21.746622Z",
     "shell.execute_reply": "2022-09-12T04:59:21.745715Z"
    },
    "papermill": {
     "duration": 0.016539,
     "end_time": "2022-09-12T04:59:21.748739",
     "exception": false,
     "start_time": "2022-09-12T04:59:21.732200",
     "status": "completed"
    },
    "tags": []
   },
   "outputs": [],
   "source": [
    "#q4.hint()\n",
    "#q4.solution()"
   ]
  },
  {
   "cell_type": "markdown",
   "id": "0cf4ce6c",
   "metadata": {
    "papermill": {
     "duration": 0.008369,
     "end_time": "2022-09-12T04:59:21.766075",
     "exception": false,
     "start_time": "2022-09-12T04:59:21.757706",
     "status": "completed"
    },
    "tags": []
   },
   "source": [
    "# Keep Going\n",
    "\n",
    "Next up, you'll **[learn to write new functions and understand functions others write](https://www.kaggle.com/colinmorris/functions-and-getting-help)**. This will make you at least 10 times more productive as a Python programmer. "
   ]
  },
  {
   "cell_type": "markdown",
   "id": "b12979ce",
   "metadata": {
    "papermill": {
     "duration": 0.008401,
     "end_time": "2022-09-12T04:59:21.783192",
     "exception": false,
     "start_time": "2022-09-12T04:59:21.774791",
     "status": "completed"
    },
    "tags": []
   },
   "source": [
    "---\n",
    "\n",
    "\n",
    "\n",
    "\n",
    "*Have questions or comments? Visit the [course discussion forum](https://www.kaggle.com/learn/python/discussion) to chat with other learners.*"
   ]
  }
 ],
 "metadata": {
  "kernelspec": {
   "display_name": "Python 3",
   "language": "python",
   "name": "python3"
  },
  "language_info": {
   "codemirror_mode": {
    "name": "ipython",
    "version": 3
   },
   "file_extension": ".py",
   "mimetype": "text/x-python",
   "name": "python",
   "nbconvert_exporter": "python",
   "pygments_lexer": "ipython3",
   "version": "3.7.12"
  },
  "papermill": {
   "default_parameters": {},
   "duration": 10.059611,
   "end_time": "2022-09-12T04:59:22.412695",
   "environment_variables": {},
   "exception": null,
   "input_path": "__notebook__.ipynb",
   "output_path": "__notebook__.ipynb",
   "parameters": {},
   "start_time": "2022-09-12T04:59:12.353084",
   "version": "2.3.4"
  }
 },
 "nbformat": 4,
 "nbformat_minor": 5
}
