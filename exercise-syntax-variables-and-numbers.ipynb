{
 "cells": [
  {
   "cell_type": "markdown",
   "id": "ee9ccd40",
   "metadata": {
    "papermill": {
     "duration": 0.008018,
     "end_time": "2022-09-12T15:14:28.981625",
     "exception": false,
     "start_time": "2022-09-12T15:14:28.973607",
     "status": "completed"
    },
    "tags": []
   },
   "source": [
    "**This notebook is an exercise in the [Python](https://www.kaggle.com/learn/python) course.  You can reference the tutorial at [this link](https://www.kaggle.com/colinmorris/hello-python).**\n",
    "\n",
    "---\n"
   ]
  },
  {
   "cell_type": "markdown",
   "id": "3aa6e841",
   "metadata": {
    "papermill": {
     "duration": 0.006766,
     "end_time": "2022-09-12T15:14:28.996840",
     "exception": false,
     "start_time": "2022-09-12T15:14:28.990074",
     "status": "completed"
    },
    "tags": []
   },
   "source": [
    "Welcome to your first set of Python coding problems.  If this is your first time using Kaggle Notebooks, welcome! \n",
    "\n",
    "Notebooks are composed of blocks (called \"cells\") of text and code. Each of these is editable, though you'll mainly be editing the code cells to answer some questions.\n",
    "\n",
    "To get started, try running the code cell below (by pressing the ► button, or clicking on the cell and pressing ctrl+enter on your keyboard)."
   ]
  },
  {
   "cell_type": "code",
   "execution_count": 1,
   "id": "c97238db",
   "metadata": {
    "execution": {
     "iopub.execute_input": "2022-09-12T15:14:29.013557Z",
     "iopub.status.busy": "2022-09-12T15:14:29.012407Z",
     "iopub.status.idle": "2022-09-12T15:14:29.029568Z",
     "shell.execute_reply": "2022-09-12T15:14:29.028196Z"
    },
    "papermill": {
     "duration": 0.028722,
     "end_time": "2022-09-12T15:14:29.032446",
     "exception": false,
     "start_time": "2022-09-12T15:14:29.003724",
     "status": "completed"
    },
    "tags": []
   },
   "outputs": [
    {
     "name": "stdout",
     "output_type": "stream",
     "text": [
      "You've successfully run some Python code\n",
      "Congratulations!\n"
     ]
    }
   ],
   "source": [
    "print(\"You've successfully run some Python code\")\n",
    "print(\"Congratulations!\")"
   ]
  },
  {
   "cell_type": "code",
   "execution_count": 2,
   "id": "2a653f5a",
   "metadata": {
    "execution": {
     "iopub.execute_input": "2022-09-12T15:14:29.050016Z",
     "iopub.status.busy": "2022-09-12T15:14:29.049471Z",
     "iopub.status.idle": "2022-09-12T15:14:29.056822Z",
     "shell.execute_reply": "2022-09-12T15:14:29.055419Z"
    },
    "papermill": {
     "duration": 0.01976,
     "end_time": "2022-09-12T15:14:29.059722",
     "exception": false,
     "start_time": "2022-09-12T15:14:29.039962",
     "status": "completed"
    },
    "tags": []
   },
   "outputs": [
    {
     "name": "stdout",
     "output_type": "stream",
     "text": [
      "You've successfully run some Python code\n",
      "Congratulations!\n",
      "Hello, my name is Venus\n"
     ]
    }
   ],
   "source": [
    "print(\"You've successfully run some Python code\")\n",
    "print(\"Congratulations!\")\n",
    "print(\"Hello, my name is Venus\")"
   ]
  },
  {
   "cell_type": "markdown",
   "id": "a86a8eee",
   "metadata": {
    "papermill": {
     "duration": 0.006519,
     "end_time": "2022-09-12T15:14:29.073266",
     "exception": false,
     "start_time": "2022-09-12T15:14:29.066747",
     "status": "completed"
    },
    "tags": []
   },
   "source": [
    "Try adding another line of code in the cell above and re-running it. \n",
    "\n",
    "Now let's get a little fancier:  Add a new code cell by clicking on an existing code cell, hitting the escape key, and then hitting the `a` or `b` key.  The `a` key will add a cell above the current cell, and `b` adds a cell below.\n",
    "\n",
    "Great! Now you know how to use Notebooks.\n",
    "\n",
    "Each hands-on exercise starts by setting up our feedback and code checking mechanism. Run the code cell below to do that. Then you'll be ready to move on to question 0."
   ]
  },
  {
   "cell_type": "code",
   "execution_count": 3,
   "id": "4d226227",
   "metadata": {
    "_kg_hide-input": true,
    "_kg_hide-output": true,
    "execution": {
     "iopub.execute_input": "2022-09-12T15:14:29.088358Z",
     "iopub.status.busy": "2022-09-12T15:14:29.087944Z",
     "iopub.status.idle": "2022-09-12T15:14:29.134244Z",
     "shell.execute_reply": "2022-09-12T15:14:29.133033Z"
    },
    "papermill": {
     "duration": 0.056752,
     "end_time": "2022-09-12T15:14:29.136696",
     "exception": false,
     "start_time": "2022-09-12T15:14:29.079944",
     "status": "completed"
    },
    "tags": []
   },
   "outputs": [
    {
     "name": "stdout",
     "output_type": "stream",
     "text": [
      "Setup complete! You're ready to start question 0.\n"
     ]
    }
   ],
   "source": [
    "from learntools.core import binder; binder.bind(globals())\n",
    "from learntools.python.ex1 import *\n",
    "print(\"Setup complete! You're ready to start question 0.\")"
   ]
  },
  {
   "cell_type": "markdown",
   "id": "103d4e3a",
   "metadata": {
    "papermill": {
     "duration": 0.006547,
     "end_time": "2022-09-12T15:14:29.150060",
     "exception": false,
     "start_time": "2022-09-12T15:14:29.143513",
     "status": "completed"
    },
    "tags": []
   },
   "source": [
    "# 0.\n",
    "\n",
    "*This is a silly question intended as an introduction to the format we use for hands-on exercises throughout all Kaggle courses.*\n",
    "\n",
    "**What is your favorite color? **\n",
    "\n",
    "To complete this question, create a variable called `color` in the cell below with an appropriate value. The function call `q0.check()` (which we've already provided in the cell below) will check your answer."
   ]
  },
  {
   "cell_type": "code",
   "execution_count": 4,
   "id": "f5a24366",
   "metadata": {
    "execution": {
     "iopub.execute_input": "2022-09-12T15:14:29.165552Z",
     "iopub.status.busy": "2022-09-12T15:14:29.165128Z",
     "iopub.status.idle": "2022-09-12T15:14:29.178792Z",
     "shell.execute_reply": "2022-09-12T15:14:29.177987Z"
    },
    "papermill": {
     "duration": 0.027392,
     "end_time": "2022-09-12T15:14:29.184242",
     "exception": false,
     "start_time": "2022-09-12T15:14:29.156850",
     "status": "completed"
    },
    "tags": []
   },
   "outputs": [
    {
     "data": {
      "application/javascript": [
       "parent.postMessage({\"jupyterEvent\": \"custom.exercise_interaction\", \"data\": {\"outcomeType\": 1, \"valueTowardsCompletion\": 0.25, \"interactionType\": 1, \"questionType\": 2, \"questionId\": \"0_ExerciseFormatTutorial\", \"learnToolsVersion\": \"0.3.4\", \"failureMessage\": \"\", \"exceptionClass\": \"\", \"trace\": \"\"}}, \"*\")"
      ],
      "text/plain": [
       "<IPython.core.display.Javascript object>"
      ]
     },
     "metadata": {},
     "output_type": "display_data"
    },
    {
     "data": {
      "text/markdown": [
       "<span style=\"color:#33cc33\">Correct:</span> What?! You got it right without needing a hint or anything? Drats. Well hey, you should still continue to the next step to get some practice asking for a hint and checking solutions. (Even though you obviously don't need any help here.)"
      ],
      "text/plain": [
       "Correct: What?! You got it right without needing a hint or anything? Drats. Well hey, you should still continue to the next step to get some practice asking for a hint and checking solutions. (Even though you obviously don't need any help here.)"
      ]
     },
     "metadata": {},
     "output_type": "display_data"
    }
   ],
   "source": [
    "# create a variable called color with an appropriate value on the line below\n",
    "# (Remember, strings in Python must be enclosed in 'single' or \"double\" quotes)\n",
    "color = \"Blue\"\n",
    "# Check your answer\n",
    "q0.check()\n"
   ]
  },
  {
   "cell_type": "markdown",
   "id": "baea6031",
   "metadata": {
    "papermill": {
     "duration": 0.007676,
     "end_time": "2022-09-12T15:14:29.202681",
     "exception": false,
     "start_time": "2022-09-12T15:14:29.195005",
     "status": "completed"
    },
    "tags": []
   },
   "source": [
    "Didn't get the right answer? How do you not even know your own favorite color?!\n",
    "\n",
    "Delete the `#` in the line below to make one of the lines run. You can choose between getting a hint or the full answer by choosing which line to remove the `#` from. \n",
    "\n",
    "Removing the `#` is called uncommenting, because it changes that line from a \"comment\" which Python doesn't run to code, which Python does run."
   ]
  },
  {
   "cell_type": "code",
   "execution_count": 5,
   "id": "2b7757e7",
   "metadata": {
    "execution": {
     "iopub.execute_input": "2022-09-12T15:14:29.222444Z",
     "iopub.status.busy": "2022-09-12T15:14:29.221096Z",
     "iopub.status.idle": "2022-09-12T15:14:29.227284Z",
     "shell.execute_reply": "2022-09-12T15:14:29.226241Z"
    },
    "papermill": {
     "duration": 0.018834,
     "end_time": "2022-09-12T15:14:29.229795",
     "exception": false,
     "start_time": "2022-09-12T15:14:29.210961",
     "status": "completed"
    },
    "tags": []
   },
   "outputs": [],
   "source": [
    "#q0.hint()\n",
    "#q0.solution()"
   ]
  },
  {
   "cell_type": "markdown",
   "id": "bee8c841",
   "metadata": {
    "papermill": {
     "duration": 0.007048,
     "end_time": "2022-09-12T15:14:29.244368",
     "exception": false,
     "start_time": "2022-09-12T15:14:29.237320",
     "status": "completed"
    },
    "tags": []
   },
   "source": [
    "The upcoming questions work the same way. The only thing that will change are the question numbers. For the next question, you'll call `q1.check()`, `q1.hint()`, `q1.solution()`, for question 2, you'll call `q2.check()`, and so on."
   ]
  },
  {
   "cell_type": "markdown",
   "id": "fa48bb00",
   "metadata": {
    "papermill": {
     "duration": 0.009394,
     "end_time": "2022-09-12T15:14:29.261175",
     "exception": false,
     "start_time": "2022-09-12T15:14:29.251781",
     "status": "completed"
    },
    "tags": []
   },
   "source": [
    "<hr/>\n",
    "\n",
    "# 1.\n",
    "\n",
    "Complete the code below. In case it's helpful, here is the table of available arithmetic operations:\n",
    "\n",
    "\n",
    "\n",
    "| Operator     | Name           | Description                                            |\n",
    "|--------------|----------------|--------------------------------------------------------|\n",
    "| ``a + b``    | Addition       | Sum of ``a`` and ``b``                                 |\n",
    "| ``a - b``    | Subtraction    | Difference of ``a`` and ``b``                          |\n",
    "| ``a * b``    | Multiplication | Product of ``a`` and ``b``                             |\n",
    "| ``a / b``    | True division  | Quotient of ``a`` and ``b``                            |\n",
    "| ``a // b``   | Floor division | Quotient of ``a`` and ``b``, removing fractional parts |\n",
    "| ``a % b``    | Modulus        | Integer remainder after division of ``a`` by ``b``     |\n",
    "| ``a ** b``   | Exponentiation | ``a`` raised to the power of ``b``                     |\n",
    "| ``-a``       | Negation       | The negative of ``a``                                  |\n",
    "\n",
    "<span style=\"display:none\"></span>\n"
   ]
  },
  {
   "cell_type": "code",
   "execution_count": 6,
   "id": "6fc447d3",
   "metadata": {
    "execution": {
     "iopub.execute_input": "2022-09-12T15:14:29.277680Z",
     "iopub.status.busy": "2022-09-12T15:14:29.277285Z",
     "iopub.status.idle": "2022-09-12T15:14:29.287623Z",
     "shell.execute_reply": "2022-09-12T15:14:29.286512Z"
    },
    "papermill": {
     "duration": 0.021307,
     "end_time": "2022-09-12T15:14:29.289999",
     "exception": false,
     "start_time": "2022-09-12T15:14:29.268692",
     "status": "completed"
    },
    "tags": []
   },
   "outputs": [
    {
     "data": {
      "application/javascript": [
       "parent.postMessage({\"jupyterEvent\": \"custom.exercise_interaction\", \"data\": {\"outcomeType\": 1, \"valueTowardsCompletion\": 0.25, \"interactionType\": 1, \"questionType\": 1, \"questionId\": \"1_CircleArea\", \"learnToolsVersion\": \"0.3.4\", \"failureMessage\": \"\", \"exceptionClass\": \"\", \"trace\": \"\"}}, \"*\")"
      ],
      "text/plain": [
       "<IPython.core.display.Javascript object>"
      ]
     },
     "metadata": {},
     "output_type": "display_data"
    },
    {
     "data": {
      "text/markdown": [
       "<span style=\"color:#33cc33\">Correct</span>"
      ],
      "text/plain": [
       "Correct"
      ]
     },
     "metadata": {},
     "output_type": "display_data"
    }
   ],
   "source": [
    "pi = 3.14159 # approximate\n",
    "diameter = 3\n",
    "\n",
    "# Create a variable called 'radius' equal to half the diameter\n",
    "radius = diameter / 2\n",
    "\n",
    "# Create a variable called 'area', using the formula for the area of a circle: pi times the radius squared\n",
    "area = pi * radius ** 2\n",
    "\n",
    "# Check your answer\n",
    "q1.check()"
   ]
  },
  {
   "cell_type": "markdown",
   "id": "8144ed27",
   "metadata": {
    "papermill": {
     "duration": 0.006999,
     "end_time": "2022-09-12T15:14:29.304415",
     "exception": false,
     "start_time": "2022-09-12T15:14:29.297416",
     "status": "completed"
    },
    "tags": []
   },
   "source": [
    "<hr/>\n",
    "\n",
    "# 2.\n",
    "\n",
    "Add code to the following cell to swap variables `a` and `b` (so that `a` refers to the object previously referred to by `b` and vice versa)."
   ]
  },
  {
   "cell_type": "code",
   "execution_count": 7,
   "id": "bf300b9b",
   "metadata": {
    "execution": {
     "iopub.execute_input": "2022-09-12T15:14:29.320806Z",
     "iopub.status.busy": "2022-09-12T15:14:29.320417Z",
     "iopub.status.idle": "2022-09-12T15:14:29.331261Z",
     "shell.execute_reply": "2022-09-12T15:14:29.330134Z"
    },
    "papermill": {
     "duration": 0.021918,
     "end_time": "2022-09-12T15:14:29.333613",
     "exception": false,
     "start_time": "2022-09-12T15:14:29.311695",
     "status": "completed"
    },
    "tags": []
   },
   "outputs": [
    {
     "data": {
      "application/javascript": [
       "parent.postMessage({\"jupyterEvent\": \"custom.exercise_interaction\", \"data\": {\"outcomeType\": 1, \"valueTowardsCompletion\": 0.25, \"interactionType\": 1, \"questionType\": 2, \"questionId\": \"2_VariableSwap\", \"learnToolsVersion\": \"0.3.4\", \"failureMessage\": \"\", \"exceptionClass\": \"\", \"trace\": \"\"}}, \"*\")"
      ],
      "text/plain": [
       "<IPython.core.display.Javascript object>"
      ]
     },
     "metadata": {},
     "output_type": "display_data"
    },
    {
     "data": {
      "text/markdown": [
       "<span style=\"color:#33cc33\">Correct:</span> \n",
       "\n",
       "The most straightforward solution is to use a third variable to temporarily store one of the old values. e.g.:\n",
       "\n",
       "    tmp = a\n",
       "    a = b\n",
       "    b = tmp\n",
       "\n",
       "If you've read lots of Python code, you might have seen the following trick to swap two variables in one line:\n",
       "\n",
       "    a, b = b, a\n",
       "\n",
       "We'll demystify this bit of Python magic later when we talk about *tuples*."
      ],
      "text/plain": [
       "Correct: \n",
       "\n",
       "The most straightforward solution is to use a third variable to temporarily store one of the old values. e.g.:\n",
       "\n",
       "    tmp = a\n",
       "    a = b\n",
       "    b = tmp\n",
       "\n",
       "If you've read lots of Python code, you might have seen the following trick to swap two variables in one line:\n",
       "\n",
       "    a, b = b, a\n",
       "\n",
       "We'll demystify this bit of Python magic later when we talk about *tuples*."
      ]
     },
     "metadata": {},
     "output_type": "display_data"
    }
   ],
   "source": [
    "########### Setup code - don't touch this part ######################\n",
    "# If you're curious, these are examples of lists. We'll talk about \n",
    "# them in depth a few lessons from now. For now, just know that they're\n",
    "# yet another type of Python object, like int or float.\n",
    "a = [1, 2, 3]\n",
    "b = [3, 2, 1]\n",
    "\n",
    "q2.store_original_ids()\n",
    "######################################################################\n",
    "\n",
    "# Your code goes here. Swap the values to which a and b refer.\n",
    "# If you get stuck, you can always uncomment one or both of the lines in\n",
    "# the next cell for a hint, or to peek at the solution.\n",
    "c = []\n",
    "c = b\n",
    "b = a\n",
    "a = c\n",
    "######################################################################\n",
    "\n",
    "# Check your answer\n",
    "q2.check()"
   ]
  },
  {
   "cell_type": "code",
   "execution_count": 8,
   "id": "9401d268",
   "metadata": {
    "execution": {
     "iopub.execute_input": "2022-09-12T15:14:29.350809Z",
     "iopub.status.busy": "2022-09-12T15:14:29.350399Z",
     "iopub.status.idle": "2022-09-12T15:14:29.355212Z",
     "shell.execute_reply": "2022-09-12T15:14:29.354132Z"
    },
    "papermill": {
     "duration": 0.016272,
     "end_time": "2022-09-12T15:14:29.357633",
     "exception": false,
     "start_time": "2022-09-12T15:14:29.341361",
     "status": "completed"
    },
    "tags": []
   },
   "outputs": [],
   "source": [
    "#q2.hint()"
   ]
  },
  {
   "cell_type": "code",
   "execution_count": 9,
   "id": "f479d3df",
   "metadata": {
    "execution": {
     "iopub.execute_input": "2022-09-12T15:14:29.374936Z",
     "iopub.status.busy": "2022-09-12T15:14:29.374440Z",
     "iopub.status.idle": "2022-09-12T15:14:29.380084Z",
     "shell.execute_reply": "2022-09-12T15:14:29.378482Z"
    },
    "papermill": {
     "duration": 0.017262,
     "end_time": "2022-09-12T15:14:29.382637",
     "exception": false,
     "start_time": "2022-09-12T15:14:29.365375",
     "status": "completed"
    },
    "tags": []
   },
   "outputs": [],
   "source": [
    "#q2.solution()"
   ]
  },
  {
   "cell_type": "markdown",
   "id": "f0434af8",
   "metadata": {
    "papermill": {
     "duration": 0.007354,
     "end_time": "2022-09-12T15:14:29.397725",
     "exception": false,
     "start_time": "2022-09-12T15:14:29.390371",
     "status": "completed"
    },
    "tags": []
   },
   "source": [
    "<hr/>\n",
    "\n",
    "# 3a.\n",
    "\n",
    "Add parentheses to the following expression so that it evaluates to 1."
   ]
  },
  {
   "cell_type": "code",
   "execution_count": 10,
   "id": "42b1d030",
   "metadata": {
    "execution": {
     "iopub.execute_input": "2022-09-12T15:14:29.415011Z",
     "iopub.status.busy": "2022-09-12T15:14:29.414611Z",
     "iopub.status.idle": "2022-09-12T15:14:29.420881Z",
     "shell.execute_reply": "2022-09-12T15:14:29.419870Z"
    },
    "papermill": {
     "duration": 0.017527,
     "end_time": "2022-09-12T15:14:29.423017",
     "exception": false,
     "start_time": "2022-09-12T15:14:29.405490",
     "status": "completed"
    },
    "tags": []
   },
   "outputs": [
    {
     "data": {
      "text/plain": [
       "1"
      ]
     },
     "execution_count": 10,
     "metadata": {},
     "output_type": "execute_result"
    }
   ],
   "source": [
    "(5 - 3) // 2"
   ]
  },
  {
   "cell_type": "code",
   "execution_count": 11,
   "id": "e1db86ff",
   "metadata": {
    "execution": {
     "iopub.execute_input": "2022-09-12T15:14:29.440204Z",
     "iopub.status.busy": "2022-09-12T15:14:29.439763Z",
     "iopub.status.idle": "2022-09-12T15:14:29.445154Z",
     "shell.execute_reply": "2022-09-12T15:14:29.443887Z"
    },
    "papermill": {
     "duration": 0.016734,
     "end_time": "2022-09-12T15:14:29.447626",
     "exception": false,
     "start_time": "2022-09-12T15:14:29.430892",
     "status": "completed"
    },
    "tags": []
   },
   "outputs": [],
   "source": [
    "#q3.a.hint()"
   ]
  },
  {
   "cell_type": "code",
   "execution_count": 12,
   "id": "1d538183",
   "metadata": {
    "execution": {
     "iopub.execute_input": "2022-09-12T15:14:29.465022Z",
     "iopub.status.busy": "2022-09-12T15:14:29.464615Z",
     "iopub.status.idle": "2022-09-12T15:14:29.469379Z",
     "shell.execute_reply": "2022-09-12T15:14:29.468295Z"
    },
    "papermill": {
     "duration": 0.015904,
     "end_time": "2022-09-12T15:14:29.471559",
     "exception": false,
     "start_time": "2022-09-12T15:14:29.455655",
     "status": "completed"
    },
    "tags": []
   },
   "outputs": [],
   "source": [
    "# Check your answer (Run this code cell to receive credit!)\n",
    "#q3.a.solution()"
   ]
  },
  {
   "cell_type": "markdown",
   "id": "74f2cd34",
   "metadata": {
    "papermill": {
     "duration": 0.007683,
     "end_time": "2022-09-12T15:14:29.487059",
     "exception": false,
     "start_time": "2022-09-12T15:14:29.479376",
     "status": "completed"
    },
    "tags": []
   },
   "source": [
    "# 3b.  <span title=\"A bit spicy\" style=\"color: darkgreen \">🌶️</span>\n",
    "\n",
    "<small>Questions, like this one, marked a spicy pepper are a bit harder.</small>\n",
    "\n",
    "Add parentheses to the following expression so that it evaluates to 0."
   ]
  },
  {
   "cell_type": "code",
   "execution_count": 13,
   "id": "e8f136dc",
   "metadata": {
    "execution": {
     "iopub.execute_input": "2022-09-12T15:14:29.504515Z",
     "iopub.status.busy": "2022-09-12T15:14:29.504067Z",
     "iopub.status.idle": "2022-09-12T15:14:29.509880Z",
     "shell.execute_reply": "2022-09-12T15:14:29.509150Z"
    },
    "papermill": {
     "duration": 0.017118,
     "end_time": "2022-09-12T15:14:29.512077",
     "exception": false,
     "start_time": "2022-09-12T15:14:29.494959",
     "status": "completed"
    },
    "tags": []
   },
   "outputs": [
    {
     "data": {
      "text/plain": [
       "0"
      ]
     },
     "execution_count": 13,
     "metadata": {},
     "output_type": "execute_result"
    }
   ],
   "source": [
    "(8 - 3) * (2 - (1 + 1))"
   ]
  },
  {
   "cell_type": "code",
   "execution_count": 14,
   "id": "53599a30",
   "metadata": {
    "execution": {
     "iopub.execute_input": "2022-09-12T15:14:29.529763Z",
     "iopub.status.busy": "2022-09-12T15:14:29.529364Z",
     "iopub.status.idle": "2022-09-12T15:14:29.533800Z",
     "shell.execute_reply": "2022-09-12T15:14:29.532659Z"
    },
    "papermill": {
     "duration": 0.016032,
     "end_time": "2022-09-12T15:14:29.536166",
     "exception": false,
     "start_time": "2022-09-12T15:14:29.520134",
     "status": "completed"
    },
    "tags": []
   },
   "outputs": [],
   "source": [
    "# Check your answer (Run this code cell to receive credit!)\n",
    "#q3.b.solution()"
   ]
  },
  {
   "cell_type": "markdown",
   "id": "0a656521",
   "metadata": {
    "papermill": {
     "duration": 0.007617,
     "end_time": "2022-09-12T15:14:29.551878",
     "exception": false,
     "start_time": "2022-09-12T15:14:29.544261",
     "status": "completed"
    },
    "tags": []
   },
   "source": [
    "<hr/>\n",
    "\n",
    "# 4. \n",
    "Alice, Bob and Carol have agreed to pool their Halloween candy and split it evenly among themselves.\n",
    "For the sake of their friendship, any candies left over will be smashed. For example, if they collectively\n",
    "bring home 91 candies, they'll take 30 each and smash 1.\n",
    "\n",
    "Write an arithmetic expression below to calculate how many candies they must smash for a given haul."
   ]
  },
  {
   "cell_type": "code",
   "execution_count": 15,
   "id": "7049c796",
   "metadata": {
    "execution": {
     "iopub.execute_input": "2022-09-12T15:14:29.569474Z",
     "iopub.status.busy": "2022-09-12T15:14:29.568969Z",
     "iopub.status.idle": "2022-09-12T15:14:29.578160Z",
     "shell.execute_reply": "2022-09-12T15:14:29.577353Z"
    },
    "papermill": {
     "duration": 0.020756,
     "end_time": "2022-09-12T15:14:29.580474",
     "exception": false,
     "start_time": "2022-09-12T15:14:29.559718",
     "status": "completed"
    },
    "tags": []
   },
   "outputs": [
    {
     "data": {
      "application/javascript": [
       "parent.postMessage({\"jupyterEvent\": \"custom.exercise_interaction\", \"data\": {\"outcomeType\": 4, \"interactionType\": 1, \"questionType\": 1, \"questionId\": \"4_CandySplitting\", \"learnToolsVersion\": \"0.3.4\", \"valueTowardsCompletion\": 0.0, \"failureMessage\": \"\", \"exceptionClass\": \"\", \"trace\": \"\"}}, \"*\")"
      ],
      "text/plain": [
       "<IPython.core.display.Javascript object>"
      ]
     },
     "metadata": {},
     "output_type": "display_data"
    },
    {
     "data": {
      "text/markdown": [
       "<span style=\"color:#ccaa33\">Check:</span> When you've updated the starter code, `check()` will tell you whether your code is correct. You need to update the code that creates variable `to_smash`"
      ],
      "text/plain": [
       "Check: When you've updated the starter code, `check()` will tell you whether your code is correct. You need to update the code that creates variable `to_smash`"
      ]
     },
     "metadata": {},
     "output_type": "display_data"
    }
   ],
   "source": [
    "# Variables representing the number of candies collected by alice, bob, and carol\n",
    "alice_candies = 121\n",
    "bob_candies = 77\n",
    "carol_candies = 109\n",
    "\n",
    "# Your code goes here! Replace the right-hand side of this assignment with an expression\n",
    "# involving alice_candies, bob_candies, and carol_candies\n",
    "to_smash = -1\n",
    "\n",
    "\n",
    "# Check your answer\n",
    "q4.check()"
   ]
  },
  {
   "cell_type": "code",
   "execution_count": 16,
   "id": "9632b99f",
   "metadata": {
    "execution": {
     "iopub.execute_input": "2022-09-12T15:14:29.598377Z",
     "iopub.status.busy": "2022-09-12T15:14:29.598007Z",
     "iopub.status.idle": "2022-09-12T15:14:29.606027Z",
     "shell.execute_reply": "2022-09-12T15:14:29.605037Z"
    },
    "papermill": {
     "duration": 0.019624,
     "end_time": "2022-09-12T15:14:29.608217",
     "exception": false,
     "start_time": "2022-09-12T15:14:29.588593",
     "status": "completed"
    },
    "tags": []
   },
   "outputs": [
    {
     "data": {
      "application/javascript": [
       "parent.postMessage({\"jupyterEvent\": \"custom.exercise_interaction\", \"data\": {\"outcomeType\": 1, \"valueTowardsCompletion\": 0.25, \"interactionType\": 1, \"questionType\": 1, \"questionId\": \"4_CandySplitting\", \"learnToolsVersion\": \"0.3.4\", \"failureMessage\": \"\", \"exceptionClass\": \"\", \"trace\": \"\"}}, \"*\")"
      ],
      "text/plain": [
       "<IPython.core.display.Javascript object>"
      ]
     },
     "metadata": {},
     "output_type": "display_data"
    },
    {
     "data": {
      "text/markdown": [
       "<span style=\"color:#33cc33\">Correct</span>"
      ],
      "text/plain": [
       "Correct"
      ]
     },
     "metadata": {},
     "output_type": "display_data"
    }
   ],
   "source": [
    "# Variables representing the number of candies collected by alice, bob, and carol\n",
    "alice_candies = 121\n",
    "bob_candies = 77\n",
    "carol_candies = 109\n",
    "\n",
    "# Your code goes here! Replace the right-hand side of this assignment with an expression\n",
    "# involving alice_candies, bob_candies, and carol_candies\n",
    "to_smash = ((alice_candies + bob_candies + carol_candies) % 3)\n",
    "\n",
    "\n",
    "\n",
    "# Check your answer\n",
    "q4.check()"
   ]
  },
  {
   "cell_type": "code",
   "execution_count": 17,
   "id": "45e880c0",
   "metadata": {
    "execution": {
     "iopub.execute_input": "2022-09-12T15:14:29.626751Z",
     "iopub.status.busy": "2022-09-12T15:14:29.626393Z",
     "iopub.status.idle": "2022-09-12T15:14:29.629870Z",
     "shell.execute_reply": "2022-09-12T15:14:29.629089Z"
    },
    "papermill": {
     "duration": 0.015559,
     "end_time": "2022-09-12T15:14:29.632025",
     "exception": false,
     "start_time": "2022-09-12T15:14:29.616466",
     "status": "completed"
    },
    "tags": []
   },
   "outputs": [],
   "source": [
    "#q4.hint()\n",
    "#q4.solution()"
   ]
  },
  {
   "cell_type": "markdown",
   "id": "19aa9ae7",
   "metadata": {
    "papermill": {
     "duration": 0.007897,
     "end_time": "2022-09-12T15:14:29.648272",
     "exception": false,
     "start_time": "2022-09-12T15:14:29.640375",
     "status": "completed"
    },
    "tags": []
   },
   "source": [
    "# Keep Going\n",
    "\n",
    "Next up, you'll **[learn to write new functions and understand functions others write](https://www.kaggle.com/colinmorris/functions-and-getting-help)**. This will make you at least 10 times more productive as a Python programmer. "
   ]
  },
  {
   "cell_type": "markdown",
   "id": "ca18b785",
   "metadata": {
    "papermill": {
     "duration": 0.007874,
     "end_time": "2022-09-12T15:14:29.664173",
     "exception": false,
     "start_time": "2022-09-12T15:14:29.656299",
     "status": "completed"
    },
    "tags": []
   },
   "source": [
    "---\n",
    "\n",
    "\n",
    "\n",
    "\n",
    "*Have questions or comments? Visit the [course discussion forum](https://www.kaggle.com/learn/python/discussion) to chat with other learners.*"
   ]
  }
 ],
 "metadata": {
  "kernelspec": {
   "display_name": "Python 3",
   "language": "python",
   "name": "python3"
  },
  "language_info": {
   "codemirror_mode": {
    "name": "ipython",
    "version": 3
   },
   "file_extension": ".py",
   "mimetype": "text/x-python",
   "name": "python",
   "nbconvert_exporter": "python",
   "pygments_lexer": "ipython3",
   "version": "3.7.12"
  },
  "papermill": {
   "default_parameters": {},
   "duration": 10.291173,
   "end_time": "2022-09-12T15:14:30.293183",
   "environment_variables": {},
   "exception": null,
   "input_path": "__notebook__.ipynb",
   "output_path": "__notebook__.ipynb",
   "parameters": {},
   "start_time": "2022-09-12T15:14:20.002010",
   "version": "2.3.4"
  }
 },
 "nbformat": 4,
 "nbformat_minor": 5
}
