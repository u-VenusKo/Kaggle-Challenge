{
 "cells": [
  {
   "cell_type": "markdown",
   "id": "eb8f9150",
   "metadata": {
    "papermill": {
     "duration": 0.007975,
     "end_time": "2022-09-13T07:04:44.075276",
     "exception": false,
     "start_time": "2022-09-13T07:04:44.067301",
     "status": "completed"
    },
    "tags": []
   },
   "source": [
    "**This notebook is an exercise in the [Intro to Programming](https://www.kaggle.com/learn/intro-to-programming) course.  You can reference the tutorial at [this link](https://www.kaggle.com/alexisbcook/functions).**\n",
    "\n",
    "---\n"
   ]
  },
  {
   "cell_type": "markdown",
   "id": "490888e8",
   "metadata": {
    "papermill": {
     "duration": 0.005993,
     "end_time": "2022-09-13T07:04:44.087752",
     "exception": false,
     "start_time": "2022-09-13T07:04:44.081759",
     "status": "completed"
    },
    "tags": []
   },
   "source": [
    "In the tutorial, you learned about functions. In this exercise, you'll write some of your own!\n",
    "\n",
    "# Set up the notebook\n",
    "\n",
    "Run the next code cell without changes to set up the notebook."
   ]
  },
  {
   "cell_type": "code",
   "execution_count": 1,
   "id": "968b7b26",
   "metadata": {
    "execution": {
     "iopub.execute_input": "2022-09-13T07:04:44.102316Z",
     "iopub.status.busy": "2022-09-13T07:04:44.101815Z",
     "iopub.status.idle": "2022-09-13T07:04:44.157997Z",
     "shell.execute_reply": "2022-09-13T07:04:44.156728Z"
    },
    "papermill": {
     "duration": 0.066902,
     "end_time": "2022-09-13T07:04:44.160860",
     "exception": false,
     "start_time": "2022-09-13T07:04:44.093958",
     "status": "completed"
    },
    "tags": []
   },
   "outputs": [
    {
     "name": "stdout",
     "output_type": "stream",
     "text": [
      "Setup complete.\n"
     ]
    }
   ],
   "source": [
    "# Set up the exercise\n",
    "import math\n",
    "from learntools.core import binder\n",
    "binder.bind(globals())\n",
    "from learntools.intro_to_programming.ex2 import *\n",
    "print('Setup complete.')"
   ]
  },
  {
   "cell_type": "markdown",
   "id": "f6cef0bb",
   "metadata": {
    "papermill": {
     "duration": 0.006088,
     "end_time": "2022-09-13T07:04:44.173655",
     "exception": false,
     "start_time": "2022-09-13T07:04:44.167567",
     "status": "completed"
    },
    "tags": []
   },
   "source": [
    "# Question 1\n",
    "\n",
    "In the [House Prices - Advanced Regression Techniques competition](https://www.kaggle.com/c/house-prices-advanced-regression-techniques/overview), you need to use information like the number of bedrooms and bathrooms to predict the price of a house.  Inspired by this competition, you'll write your own function to do this.\n",
    "\n",
    "In the next code cell, create a function `get_expected_cost()` that has two arguments:\n",
    "- `beds` - number of bedrooms \n",
    "- `baths` - number of bathrooms\n",
    "\n",
    "It should return the expected cost of a house with that number of bedrooms and bathrooms.  Assume that:\n",
    "- the expected cost for a house with 0 bedrooms and 0 bathrooms is `80000`.  \n",
    "- each bedroom adds `30000` to the expected cost\n",
    "- each bathroom adds `10000` to the expected cost.\n",
    "\n",
    "For instance, \n",
    "- a house with 1 bedroom and 1 bathroom has an expected cost of `120000`, and \n",
    "- a house with 2 bedrooms and 1 bathroom has an expected cost of `150000`."
   ]
  },
  {
   "cell_type": "code",
   "execution_count": 2,
   "id": "c73bd51b",
   "metadata": {
    "execution": {
     "iopub.execute_input": "2022-09-13T07:04:44.188812Z",
     "iopub.status.busy": "2022-09-13T07:04:44.188098Z",
     "iopub.status.idle": "2022-09-13T07:04:44.201479Z",
     "shell.execute_reply": "2022-09-13T07:04:44.199987Z"
    },
    "papermill": {
     "duration": 0.023451,
     "end_time": "2022-09-13T07:04:44.203933",
     "exception": false,
     "start_time": "2022-09-13T07:04:44.180482",
     "status": "completed"
    },
    "tags": []
   },
   "outputs": [
    {
     "data": {
      "application/javascript": [
       "parent.postMessage({\"jupyterEvent\": \"custom.exercise_interaction\", \"data\": {\"outcomeType\": 1, \"valueTowardsCompletion\": 0.2, \"interactionType\": 1, \"questionType\": 2, \"questionId\": \"1_GetExpectedCost\", \"learnToolsVersion\": \"0.3.4\", \"failureMessage\": \"\", \"exceptionClass\": \"\", \"trace\": \"\"}}, \"*\")"
      ],
      "text/plain": [
       "<IPython.core.display.Javascript object>"
      ]
     },
     "metadata": {},
     "output_type": "display_data"
    },
    {
     "data": {
      "text/markdown": [
       "<span style=\"color:#33cc33\">Correct</span>"
      ],
      "text/plain": [
       "Correct"
      ]
     },
     "metadata": {},
     "output_type": "display_data"
    }
   ],
   "source": [
    "# TODO: Complete the function\n",
    "def get_expected_cost(beds, baths):\n",
    "    value = 80000 + 30000 * beds + baths * 10000\n",
    "    return value\n",
    "\n",
    "# Check your answer \n",
    "q1.check()"
   ]
  },
  {
   "cell_type": "code",
   "execution_count": 3,
   "id": "4f2c779e",
   "metadata": {
    "execution": {
     "iopub.execute_input": "2022-09-13T07:04:44.219613Z",
     "iopub.status.busy": "2022-09-13T07:04:44.218848Z",
     "iopub.status.idle": "2022-09-13T07:04:44.223244Z",
     "shell.execute_reply": "2022-09-13T07:04:44.222052Z"
    },
    "papermill": {
     "duration": 0.014852,
     "end_time": "2022-09-13T07:04:44.225651",
     "exception": false,
     "start_time": "2022-09-13T07:04:44.210799",
     "status": "completed"
    },
    "tags": []
   },
   "outputs": [],
   "source": [
    "# Uncomment to see a hint\n",
    "#q1.hint()\n",
    "\n",
    "# Uncomment to view the solution\n",
    "#q1.solution()"
   ]
  },
  {
   "cell_type": "markdown",
   "id": "d271a94e",
   "metadata": {
    "papermill": {
     "duration": 0.006647,
     "end_time": "2022-09-13T07:04:44.238923",
     "exception": false,
     "start_time": "2022-09-13T07:04:44.232276",
     "status": "completed"
    },
    "tags": []
   },
   "source": [
    "# Question 2\n",
    "\n",
    "You are thinking about buying a home and want to get an idea of how much you will spend, based on the number of bedrooms and bathrooms.  You are trying to decide between four different options:\n",
    "- Option 1: house with two bedrooms and three bathrooms\n",
    "- Option 2: house with three bedrooms and two bathrooms\n",
    "- Option 3: house with three bedrooms and three bathrooms\n",
    "- Option 4: house with three bedrooms and four bathrooms\n",
    "\n",
    "Use the `get_expected_cost()` function you defined in question 1 to set `option_1`, `option_2`, `option_3`, and `option_4` to the expected cost of each option."
   ]
  },
  {
   "cell_type": "code",
   "execution_count": 4,
   "id": "59565d05",
   "metadata": {
    "execution": {
     "iopub.execute_input": "2022-09-13T07:04:44.255406Z",
     "iopub.status.busy": "2022-09-13T07:04:44.254267Z",
     "iopub.status.idle": "2022-09-13T07:04:44.267003Z",
     "shell.execute_reply": "2022-09-13T07:04:44.265663Z"
    },
    "papermill": {
     "duration": 0.023615,
     "end_time": "2022-09-13T07:04:44.269432",
     "exception": false,
     "start_time": "2022-09-13T07:04:44.245817",
     "status": "completed"
    },
    "tags": []
   },
   "outputs": [
    {
     "name": "stdout",
     "output_type": "stream",
     "text": [
      "170000\n",
      "190000\n",
      "200000\n",
      "210000\n"
     ]
    },
    {
     "data": {
      "application/javascript": [
       "parent.postMessage({\"jupyterEvent\": \"custom.exercise_interaction\", \"data\": {\"outcomeType\": 1, \"valueTowardsCompletion\": 0.2, \"interactionType\": 1, \"questionType\": 1, \"questionId\": \"2_RunGetExpectedCost\", \"learnToolsVersion\": \"0.3.4\", \"failureMessage\": \"\", \"exceptionClass\": \"\", \"trace\": \"\"}}, \"*\")"
      ],
      "text/plain": [
       "<IPython.core.display.Javascript object>"
      ]
     },
     "metadata": {},
     "output_type": "display_data"
    },
    {
     "data": {
      "text/markdown": [
       "<span style=\"color:#33cc33\">Correct</span>"
      ],
      "text/plain": [
       "Correct"
      ]
     },
     "metadata": {},
     "output_type": "display_data"
    }
   ],
   "source": [
    "# TODO: Use the get_expected_cost function to fill in each value\n",
    "option_one = get_expected_cost(2,3)\n",
    "option_two = get_expected_cost(3,2)\n",
    "option_three = get_expected_cost(3,3)\n",
    "option_four = get_expected_cost (3,4)\n",
    "\n",
    "print(option_one)\n",
    "print(option_two)\n",
    "print(option_three)\n",
    "print(option_four)\n",
    "\n",
    "# Check your answer\n",
    "q2.check()"
   ]
  },
  {
   "cell_type": "code",
   "execution_count": 5,
   "id": "8fa4211f",
   "metadata": {
    "execution": {
     "iopub.execute_input": "2022-09-13T07:04:44.285457Z",
     "iopub.status.busy": "2022-09-13T07:04:44.285027Z",
     "iopub.status.idle": "2022-09-13T07:04:44.289604Z",
     "shell.execute_reply": "2022-09-13T07:04:44.288343Z"
    },
    "papermill": {
     "duration": 0.015308,
     "end_time": "2022-09-13T07:04:44.291995",
     "exception": false,
     "start_time": "2022-09-13T07:04:44.276687",
     "status": "completed"
    },
    "tags": []
   },
   "outputs": [],
   "source": [
    "# Uncomment to see a hint\n",
    "#q2.hint()\n",
    "\n",
    "# Uncomment to view the solution\n",
    "#q2.solution()"
   ]
  },
  {
   "cell_type": "markdown",
   "id": "69dae360",
   "metadata": {
    "papermill": {
     "duration": 0.006486,
     "end_time": "2022-09-13T07:04:44.305603",
     "exception": false,
     "start_time": "2022-09-13T07:04:44.299117",
     "status": "completed"
    },
    "tags": []
   },
   "source": [
    "# Question 3\n",
    "\n",
    "You're a home decorator, and you'd like to use Python to streamline some of your work.  Specifically, you're creating a tool that you intend to use to calculate the cost of painting a room.\n",
    "\n",
    "As a first step, define a function `get_cost()` that takes as input:\n",
    "- `sqft_walls` = total square feet of walls to be painted\n",
    "- `sqft_ceiling` = square feet of ceiling to be painted\n",
    "- `sqft_per_gallon` = number of square feet that you can cover with one gallon of paint\n",
    "- `cost_per_gallon` = cost (in dollars) of one gallon of paint\n",
    "\n",
    "It should return the cost (in dollars) of putting one coat of paint on all walls and the ceiling.  Assume you can buy the exact amount of paint that you need, so you can buy partial gallons (e.g., if you need 7.523 gallons, you can buy that exact amount, instead of needing to buy 8 gallons and waste some paint).  Do not round your answer."
   ]
  },
  {
   "cell_type": "code",
   "execution_count": 6,
   "id": "d4329462",
   "metadata": {
    "execution": {
     "iopub.execute_input": "2022-09-13T07:04:44.322136Z",
     "iopub.status.busy": "2022-09-13T07:04:44.321436Z",
     "iopub.status.idle": "2022-09-13T07:04:44.332611Z",
     "shell.execute_reply": "2022-09-13T07:04:44.331386Z"
    },
    "papermill": {
     "duration": 0.022871,
     "end_time": "2022-09-13T07:04:44.335351",
     "exception": false,
     "start_time": "2022-09-13T07:04:44.312480",
     "status": "completed"
    },
    "tags": []
   },
   "outputs": [
    {
     "data": {
      "application/javascript": [
       "parent.postMessage({\"jupyterEvent\": \"custom.exercise_interaction\", \"data\": {\"outcomeType\": 1, \"valueTowardsCompletion\": 0.2, \"interactionType\": 1, \"questionType\": 2, \"questionId\": \"3_GetCostPaint\", \"learnToolsVersion\": \"0.3.4\", \"failureMessage\": \"\", \"exceptionClass\": \"\", \"trace\": \"\"}}, \"*\")"
      ],
      "text/plain": [
       "<IPython.core.display.Javascript object>"
      ]
     },
     "metadata": {},
     "output_type": "display_data"
    },
    {
     "data": {
      "text/markdown": [
       "<span style=\"color:#33cc33\">Correct</span>"
      ],
      "text/plain": [
       "Correct"
      ]
     },
     "metadata": {},
     "output_type": "display_data"
    }
   ],
   "source": [
    "# TODO: Finish defining the function\n",
    "def get_cost(sqft_walls, sqft_ceiling, sqft_per_gallon, cost_per_gallon):\n",
    "    sqft_to_paint = sqft_walls + sqft_ceiling\n",
    "    gallons_to_use =  sqft_to_paint/sqft_per_gallon\n",
    "    cost = gallons_to_use * cost_per_gallon\n",
    "    return cost\n",
    "\n",
    "# Check your answer\n",
    "q3.check()"
   ]
  },
  {
   "cell_type": "code",
   "execution_count": 7,
   "id": "c00290f0",
   "metadata": {
    "execution": {
     "iopub.execute_input": "2022-09-13T07:04:44.351620Z",
     "iopub.status.busy": "2022-09-13T07:04:44.351176Z",
     "iopub.status.idle": "2022-09-13T07:04:44.356165Z",
     "shell.execute_reply": "2022-09-13T07:04:44.354853Z"
    },
    "papermill": {
     "duration": 0.017143,
     "end_time": "2022-09-13T07:04:44.359648",
     "exception": false,
     "start_time": "2022-09-13T07:04:44.342505",
     "status": "completed"
    },
    "tags": []
   },
   "outputs": [],
   "source": [
    "# Uncomment to see a hint\n",
    "#q3.hint()\n",
    "\n",
    "# Uncomment to view the solution\n",
    "#q3.solution()"
   ]
  },
  {
   "cell_type": "markdown",
   "id": "6c44ec34",
   "metadata": {
    "papermill": {
     "duration": 0.006595,
     "end_time": "2022-09-13T07:04:44.373365",
     "exception": false,
     "start_time": "2022-09-13T07:04:44.366770",
     "status": "completed"
    },
    "tags": []
   },
   "source": [
    "# Question 4\n",
    "\n",
    "Use the `get_cost()` function you defined in Question 3 to calculate the cost of applying one coat of paint to a room with:\n",
    "- 432 square feet of walls, and\n",
    "- 144 square feet of ceiling.\n",
    "\n",
    "Assume that one gallon of paint covers 400 square feet and costs $15.  As in Question 3, assume you can buy partial gallons of paint.  Do not round your answer."
   ]
  },
  {
   "cell_type": "code",
   "execution_count": 8,
   "id": "922c0e92",
   "metadata": {
    "execution": {
     "iopub.execute_input": "2022-09-13T07:04:44.390268Z",
     "iopub.status.busy": "2022-09-13T07:04:44.389863Z",
     "iopub.status.idle": "2022-09-13T07:04:44.401275Z",
     "shell.execute_reply": "2022-09-13T07:04:44.399912Z"
    },
    "papermill": {
     "duration": 0.022791,
     "end_time": "2022-09-13T07:04:44.403912",
     "exception": false,
     "start_time": "2022-09-13T07:04:44.381121",
     "status": "completed"
    },
    "tags": []
   },
   "outputs": [
    {
     "data": {
      "application/javascript": [
       "parent.postMessage({\"jupyterEvent\": \"custom.exercise_interaction\", \"data\": {\"outcomeType\": 1, \"valueTowardsCompletion\": 0.2, \"interactionType\": 1, \"questionType\": 1, \"questionId\": \"4_GetCostPaintExample\", \"learnToolsVersion\": \"0.3.4\", \"failureMessage\": \"\", \"exceptionClass\": \"\", \"trace\": \"\"}}, \"*\")"
      ],
      "text/plain": [
       "<IPython.core.display.Javascript object>"
      ]
     },
     "metadata": {},
     "output_type": "display_data"
    },
    {
     "data": {
      "text/markdown": [
       "<span style=\"color:#33cc33\">Correct</span>"
      ],
      "text/plain": [
       "Correct"
      ]
     },
     "metadata": {},
     "output_type": "display_data"
    }
   ],
   "source": [
    "# TODO: Set the project_cost variable to the cost of the project\n",
    "square_feet_of_walls = 432\n",
    "square_feet_of_ceiling = 144\n",
    "square_feet_total = square_feet_of_walls + square_feet_of_ceiling\n",
    "gallons_to_use = square_feet_total / 400\n",
    "cost = gallons_to_use * 15\n",
    "\n",
    "project_cost = cost\n",
    "\n",
    "# Check your answer\n",
    "q4.check()"
   ]
  },
  {
   "cell_type": "code",
   "execution_count": 9,
   "id": "798a864f",
   "metadata": {
    "execution": {
     "iopub.execute_input": "2022-09-13T07:04:44.420855Z",
     "iopub.status.busy": "2022-09-13T07:04:44.420423Z",
     "iopub.status.idle": "2022-09-13T07:04:44.424606Z",
     "shell.execute_reply": "2022-09-13T07:04:44.423572Z"
    },
    "papermill": {
     "duration": 0.015808,
     "end_time": "2022-09-13T07:04:44.427056",
     "exception": false,
     "start_time": "2022-09-13T07:04:44.411248",
     "status": "completed"
    },
    "tags": []
   },
   "outputs": [],
   "source": [
    "# Uncomment to see a hint\n",
    "#q4.hint()\n",
    "\n",
    "# Uncomment to view the solution\n",
    "#q4.solution()"
   ]
  },
  {
   "cell_type": "markdown",
   "id": "adad79d9",
   "metadata": {
    "papermill": {
     "duration": 0.006998,
     "end_time": "2022-09-13T07:04:44.441403",
     "exception": false,
     "start_time": "2022-09-13T07:04:44.434405",
     "status": "completed"
    },
    "tags": []
   },
   "source": [
    "# 🌶️ Question 5\n",
    "\n",
    "Now say you can no longer buy fractions of a gallon.  (For instance, if you need 4.3 gallons to do a project, then you have to buy 5 gallons of paint.)\n",
    "\n",
    "With this new scenario, you will create a new function `get_actual_cost` that uses the same inputs and calculates the cost of your project.\n",
    "\n",
    "One function that you'll need to use to do this is `math.ceil()`.  We demonstrate usage of this function in the code cell below.  It takes as a number as input and rounds the number up to the nearest integer.  \n",
    "\n",
    "Run the next code cell to test this function for yourself.  Feel free to change the value of `test_value` and make sure `math.ceil()` returns the number you expect."
   ]
  },
  {
   "cell_type": "code",
   "execution_count": 10,
   "id": "298931d8",
   "metadata": {
    "execution": {
     "iopub.execute_input": "2022-09-13T07:04:44.458255Z",
     "iopub.status.busy": "2022-09-13T07:04:44.457324Z",
     "iopub.status.idle": "2022-09-13T07:04:44.464357Z",
     "shell.execute_reply": "2022-09-13T07:04:44.462955Z"
    },
    "papermill": {
     "duration": 0.018356,
     "end_time": "2022-09-13T07:04:44.467093",
     "exception": false,
     "start_time": "2022-09-13T07:04:44.448737",
     "status": "completed"
    },
    "tags": []
   },
   "outputs": [
    {
     "name": "stdout",
     "output_type": "stream",
     "text": [
      "15\n"
     ]
    }
   ],
   "source": [
    "test_value = 14.9\n",
    "\n",
    "rounded_value = math.ceil(test_value)\n",
    "print(rounded_value)"
   ]
  },
  {
   "cell_type": "markdown",
   "id": "89a9cab3",
   "metadata": {
    "papermill": {
     "duration": 0.007112,
     "end_time": "2022-09-13T07:04:44.481716",
     "exception": false,
     "start_time": "2022-09-13T07:04:44.474604",
     "status": "completed"
    },
    "tags": []
   },
   "source": [
    "Use the next code cell to define the function `get_actual_cost()`.  You'll need to use the `math.ceil()` function to do this.\n",
    "\n",
    "When answering this question, note that it's completely valid to define a function that makes use of another function.  For instance, we can define a function `round_up_and_divide_by_three` that makes use of the `math.ceil` function:\n",
    "```\n",
    "def round_up_and_divide_by_three(num):\n",
    "    new_value = math.ceil(num)\n",
    "    final_value = new_value / 3\n",
    "    return final_value\n",
    "```"
   ]
  },
  {
   "cell_type": "code",
   "execution_count": 11,
   "id": "a0c26287",
   "metadata": {
    "execution": {
     "iopub.execute_input": "2022-09-13T07:04:44.500383Z",
     "iopub.status.busy": "2022-09-13T07:04:44.499965Z",
     "iopub.status.idle": "2022-09-13T07:04:44.510897Z",
     "shell.execute_reply": "2022-09-13T07:04:44.509626Z"
    },
    "papermill": {
     "duration": 0.023133,
     "end_time": "2022-09-13T07:04:44.513553",
     "exception": false,
     "start_time": "2022-09-13T07:04:44.490420",
     "status": "completed"
    },
    "tags": []
   },
   "outputs": [
    {
     "data": {
      "application/javascript": [
       "parent.postMessage({\"jupyterEvent\": \"custom.exercise_interaction\", \"data\": {\"outcomeType\": 1, \"valueTowardsCompletion\": 0.2, \"interactionType\": 1, \"questionType\": 2, \"questionId\": \"5_NoMoreFractions\", \"learnToolsVersion\": \"0.3.4\", \"failureMessage\": \"\", \"exceptionClass\": \"\", \"trace\": \"\"}}, \"*\")"
      ],
      "text/plain": [
       "<IPython.core.display.Javascript object>"
      ]
     },
     "metadata": {},
     "output_type": "display_data"
    },
    {
     "data": {
      "text/markdown": [
       "<span style=\"color:#33cc33\">Correct</span>"
      ],
      "text/plain": [
       "Correct"
      ]
     },
     "metadata": {},
     "output_type": "display_data"
    }
   ],
   "source": [
    "def get_actual_cost(sqft_walls, sqft_ceiling, sqft_per_gallon, cost_per_gallon):\n",
    "    walls_to_paint = sqft_walls + sqft_ceiling\n",
    "    gallons_required = walls_to_paint / sqft_per_gallon\n",
    "    you_need = math.ceil(gallons_required)\n",
    "    final_cost = you_need * cost_per_gallon\n",
    "    return final_cost\n",
    "\n",
    "\n",
    "\n",
    "# Check your answer\n",
    "q5.check()"
   ]
  },
  {
   "cell_type": "code",
   "execution_count": 12,
   "id": "48bfe225",
   "metadata": {
    "execution": {
     "iopub.execute_input": "2022-09-13T07:04:44.531321Z",
     "iopub.status.busy": "2022-09-13T07:04:44.530926Z",
     "iopub.status.idle": "2022-09-13T07:04:44.535584Z",
     "shell.execute_reply": "2022-09-13T07:04:44.534595Z"
    },
    "papermill": {
     "duration": 0.01602,
     "end_time": "2022-09-13T07:04:44.537764",
     "exception": false,
     "start_time": "2022-09-13T07:04:44.521744",
     "status": "completed"
    },
    "tags": []
   },
   "outputs": [],
   "source": [
    "# Uncomment to see a hint\n",
    "#q5.hint()\n",
    "\n",
    "# Uncomment to view the solution\n",
    "#q5.solution()"
   ]
  },
  {
   "cell_type": "markdown",
   "id": "6e925ab8",
   "metadata": {
    "papermill": {
     "duration": 0.007529,
     "end_time": "2022-09-13T07:04:44.553573",
     "exception": false,
     "start_time": "2022-09-13T07:04:44.546044",
     "status": "completed"
    },
    "tags": []
   },
   "source": [
    "Once your function is verified as correct, run the next code cell to calculate the updated cost of your project."
   ]
  },
  {
   "cell_type": "code",
   "execution_count": 13,
   "id": "eeabeabb",
   "metadata": {
    "execution": {
     "iopub.execute_input": "2022-09-13T07:04:44.571434Z",
     "iopub.status.busy": "2022-09-13T07:04:44.571037Z",
     "iopub.status.idle": "2022-09-13T07:04:44.577907Z",
     "shell.execute_reply": "2022-09-13T07:04:44.576952Z"
    },
    "papermill": {
     "duration": 0.018995,
     "end_time": "2022-09-13T07:04:44.580167",
     "exception": false,
     "start_time": "2022-09-13T07:04:44.561172",
     "status": "completed"
    },
    "tags": []
   },
   "outputs": [
    {
     "data": {
      "text/plain": [
       "30"
      ]
     },
     "execution_count": 13,
     "metadata": {},
     "output_type": "execute_result"
    }
   ],
   "source": [
    "get_actual_cost(432, 144, 400, 15) "
   ]
  },
  {
   "cell_type": "markdown",
   "id": "807c003f",
   "metadata": {
    "papermill": {
     "duration": 0.007785,
     "end_time": "2022-09-13T07:04:44.595972",
     "exception": false,
     "start_time": "2022-09-13T07:04:44.588187",
     "status": "completed"
    },
    "tags": []
   },
   "source": [
    "Say you're working with a slightly larger room.  Run the next code cell to calculate the cost of the project."
   ]
  },
  {
   "cell_type": "code",
   "execution_count": 14,
   "id": "272096bc",
   "metadata": {
    "execution": {
     "iopub.execute_input": "2022-09-13T07:04:44.613111Z",
     "iopub.status.busy": "2022-09-13T07:04:44.612648Z",
     "iopub.status.idle": "2022-09-13T07:04:44.619583Z",
     "shell.execute_reply": "2022-09-13T07:04:44.618618Z"
    },
    "papermill": {
     "duration": 0.018298,
     "end_time": "2022-09-13T07:04:44.621998",
     "exception": false,
     "start_time": "2022-09-13T07:04:44.603700",
     "status": "completed"
    },
    "tags": []
   },
   "outputs": [
    {
     "data": {
      "text/plain": [
       "45"
      ]
     },
     "execution_count": 14,
     "metadata": {},
     "output_type": "execute_result"
    }
   ],
   "source": [
    "get_actual_cost(594, 288, 400, 15) "
   ]
  },
  {
   "cell_type": "markdown",
   "id": "180ba0e4",
   "metadata": {
    "papermill": {
     "duration": 0.007697,
     "end_time": "2022-09-13T07:04:44.637716",
     "exception": false,
     "start_time": "2022-09-13T07:04:44.630019",
     "status": "completed"
    },
    "tags": []
   },
   "source": [
    "# Keep going\n",
    "\n",
    "Continue to learn about **[data types](https://www.kaggle.com/alexisbcook/data-types)**."
   ]
  },
  {
   "cell_type": "markdown",
   "id": "25abc3a6",
   "metadata": {
    "papermill": {
     "duration": 0.007531,
     "end_time": "2022-09-13T07:04:44.653941",
     "exception": false,
     "start_time": "2022-09-13T07:04:44.646410",
     "status": "completed"
    },
    "tags": []
   },
   "source": [
    "---\n",
    "\n",
    "\n",
    "\n",
    "\n",
    "*Have questions or comments? Visit the [course discussion forum](https://www.kaggle.com/learn/intro-to-programming/discussion) to chat with other learners.*"
   ]
  }
 ],
 "metadata": {
  "kernelspec": {
   "display_name": "Python 3",
   "language": "python",
   "name": "python3"
  },
  "language_info": {
   "codemirror_mode": {
    "name": "ipython",
    "version": 3
   },
   "file_extension": ".py",
   "mimetype": "text/x-python",
   "name": "python",
   "nbconvert_exporter": "python",
   "pygments_lexer": "ipython3",
   "version": "3.7.12"
  },
  "papermill": {
   "default_parameters": {},
   "duration": 12.457615,
   "end_time": "2022-09-13T07:04:45.283998",
   "environment_variables": {},
   "exception": null,
   "input_path": "__notebook__.ipynb",
   "output_path": "__notebook__.ipynb",
   "parameters": {},
   "start_time": "2022-09-13T07:04:32.826383",
   "version": "2.3.4"
  }
 },
 "nbformat": 4,
 "nbformat_minor": 5
}
