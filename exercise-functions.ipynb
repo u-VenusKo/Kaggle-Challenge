{
 "cells": [
  {
   "cell_type": "markdown",
   "id": "44094cab",
   "metadata": {
    "papermill": {
     "duration": 0.007526,
     "end_time": "2022-09-13T07:05:47.549060",
     "exception": false,
     "start_time": "2022-09-13T07:05:47.541534",
     "status": "completed"
    },
    "tags": []
   },
   "source": [
    "**This notebook is an exercise in the [Intro to Programming](https://www.kaggle.com/learn/intro-to-programming) course.  You can reference the tutorial at [this link](https://www.kaggle.com/alexisbcook/functions).**\n",
    "\n",
    "---\n"
   ]
  },
  {
   "cell_type": "markdown",
   "id": "a2956ea2",
   "metadata": {
    "papermill": {
     "duration": 0.009049,
     "end_time": "2022-09-13T07:05:47.564859",
     "exception": false,
     "start_time": "2022-09-13T07:05:47.555810",
     "status": "completed"
    },
    "tags": []
   },
   "source": [
    "In the tutorial, you learned about functions. In this exercise, you'll write some of your own!\n",
    "\n",
    "# Set up the notebook\n",
    "\n",
    "Run the next code cell without changes to set up the notebook."
   ]
  },
  {
   "cell_type": "code",
   "execution_count": 1,
   "id": "36698eb3",
   "metadata": {
    "execution": {
     "iopub.execute_input": "2022-09-13T07:05:47.585036Z",
     "iopub.status.busy": "2022-09-13T07:05:47.584569Z",
     "iopub.status.idle": "2022-09-13T07:05:47.648781Z",
     "shell.execute_reply": "2022-09-13T07:05:47.647592Z"
    },
    "papermill": {
     "duration": 0.079014,
     "end_time": "2022-09-13T07:05:47.653198",
     "exception": false,
     "start_time": "2022-09-13T07:05:47.574184",
     "status": "completed"
    },
    "tags": []
   },
   "outputs": [
    {
     "name": "stdout",
     "output_type": "stream",
     "text": [
      "Setup complete.\n"
     ]
    }
   ],
   "source": [
    "# Set up the exercise\n",
    "import math\n",
    "from learntools.core import binder\n",
    "binder.bind(globals())\n",
    "from learntools.intro_to_programming.ex2 import *\n",
    "print('Setup complete.')"
   ]
  },
  {
   "cell_type": "markdown",
   "id": "2463cfcf",
   "metadata": {
    "papermill": {
     "duration": 0.005889,
     "end_time": "2022-09-13T07:05:47.666315",
     "exception": false,
     "start_time": "2022-09-13T07:05:47.660426",
     "status": "completed"
    },
    "tags": []
   },
   "source": [
    "# Question 1\n",
    "\n",
    "In the [House Prices - Advanced Regression Techniques competition](https://www.kaggle.com/c/house-prices-advanced-regression-techniques/overview), you need to use information like the number of bedrooms and bathrooms to predict the price of a house.  Inspired by this competition, you'll write your own function to do this.\n",
    "\n",
    "In the next code cell, create a function `get_expected_cost()` that has two arguments:\n",
    "- `beds` - number of bedrooms \n",
    "- `baths` - number of bathrooms\n",
    "\n",
    "It should return the expected cost of a house with that number of bedrooms and bathrooms.  Assume that:\n",
    "- the expected cost for a house with 0 bedrooms and 0 bathrooms is `80000`.  \n",
    "- each bedroom adds `30000` to the expected cost\n",
    "- each bathroom adds `10000` to the expected cost.\n",
    "\n",
    "For instance, \n",
    "- a house with 1 bedroom and 1 bathroom has an expected cost of `120000`, and \n",
    "- a house with 2 bedrooms and 1 bathroom has an expected cost of `150000`."
   ]
  },
  {
   "cell_type": "code",
   "execution_count": 2,
   "id": "3f743a73",
   "metadata": {
    "execution": {
     "iopub.execute_input": "2022-09-13T07:05:47.680920Z",
     "iopub.status.busy": "2022-09-13T07:05:47.679905Z",
     "iopub.status.idle": "2022-09-13T07:05:47.692196Z",
     "shell.execute_reply": "2022-09-13T07:05:47.691050Z"
    },
    "papermill": {
     "duration": 0.022319,
     "end_time": "2022-09-13T07:05:47.694745",
     "exception": false,
     "start_time": "2022-09-13T07:05:47.672426",
     "status": "completed"
    },
    "tags": []
   },
   "outputs": [
    {
     "data": {
      "application/javascript": [
       "parent.postMessage({\"jupyterEvent\": \"custom.exercise_interaction\", \"data\": {\"outcomeType\": 1, \"valueTowardsCompletion\": 0.2, \"interactionType\": 1, \"questionType\": 2, \"questionId\": \"1_GetExpectedCost\", \"learnToolsVersion\": \"0.3.4\", \"failureMessage\": \"\", \"exceptionClass\": \"\", \"trace\": \"\"}}, \"*\")"
      ],
      "text/plain": [
       "<IPython.core.display.Javascript object>"
      ]
     },
     "metadata": {},
     "output_type": "display_data"
    },
    {
     "data": {
      "text/markdown": [
       "<span style=\"color:#33cc33\">Correct</span>"
      ],
      "text/plain": [
       "Correct"
      ]
     },
     "metadata": {},
     "output_type": "display_data"
    }
   ],
   "source": [
    "# TODO: Complete the function\n",
    "def get_expected_cost(beds, baths):\n",
    "    value = 80000 + 30000 * beds + baths * 10000\n",
    "    return value\n",
    "\n",
    "# Check your answer \n",
    "q1.check()"
   ]
  },
  {
   "cell_type": "code",
   "execution_count": 3,
   "id": "d17e7289",
   "metadata": {
    "execution": {
     "iopub.execute_input": "2022-09-13T07:05:47.709363Z",
     "iopub.status.busy": "2022-09-13T07:05:47.708573Z",
     "iopub.status.idle": "2022-09-13T07:05:47.713243Z",
     "shell.execute_reply": "2022-09-13T07:05:47.712446Z"
    },
    "papermill": {
     "duration": 0.014507,
     "end_time": "2022-09-13T07:05:47.715516",
     "exception": false,
     "start_time": "2022-09-13T07:05:47.701009",
     "status": "completed"
    },
    "tags": []
   },
   "outputs": [],
   "source": [
    "# Uncomment to see a hint\n",
    "#q1.hint()\n",
    "\n",
    "# Uncomment to view the solution\n",
    "#q1.solution()"
   ]
  },
  {
   "cell_type": "markdown",
   "id": "9d6f1e2b",
   "metadata": {
    "papermill": {
     "duration": 0.005778,
     "end_time": "2022-09-13T07:05:47.727511",
     "exception": false,
     "start_time": "2022-09-13T07:05:47.721733",
     "status": "completed"
    },
    "tags": []
   },
   "source": [
    "# Question 2\n",
    "\n",
    "You are thinking about buying a home and want to get an idea of how much you will spend, based on the number of bedrooms and bathrooms.  You are trying to decide between four different options:\n",
    "- Option 1: house with two bedrooms and three bathrooms\n",
    "- Option 2: house with three bedrooms and two bathrooms\n",
    "- Option 3: house with three bedrooms and three bathrooms\n",
    "- Option 4: house with three bedrooms and four bathrooms\n",
    "\n",
    "Use the `get_expected_cost()` function you defined in question 1 to set `option_1`, `option_2`, `option_3`, and `option_4` to the expected cost of each option."
   ]
  },
  {
   "cell_type": "code",
   "execution_count": 4,
   "id": "4ab9d3dd",
   "metadata": {
    "execution": {
     "iopub.execute_input": "2022-09-13T07:05:47.742201Z",
     "iopub.status.busy": "2022-09-13T07:05:47.741390Z",
     "iopub.status.idle": "2022-09-13T07:05:47.753394Z",
     "shell.execute_reply": "2022-09-13T07:05:47.752237Z"
    },
    "papermill": {
     "duration": 0.021949,
     "end_time": "2022-09-13T07:05:47.755588",
     "exception": false,
     "start_time": "2022-09-13T07:05:47.733639",
     "status": "completed"
    },
    "tags": []
   },
   "outputs": [
    {
     "name": "stdout",
     "output_type": "stream",
     "text": [
      "170000\n",
      "190000\n",
      "200000\n",
      "210000\n"
     ]
    },
    {
     "data": {
      "application/javascript": [
       "parent.postMessage({\"jupyterEvent\": \"custom.exercise_interaction\", \"data\": {\"outcomeType\": 1, \"valueTowardsCompletion\": 0.2, \"interactionType\": 1, \"questionType\": 1, \"questionId\": \"2_RunGetExpectedCost\", \"learnToolsVersion\": \"0.3.4\", \"failureMessage\": \"\", \"exceptionClass\": \"\", \"trace\": \"\"}}, \"*\")"
      ],
      "text/plain": [
       "<IPython.core.display.Javascript object>"
      ]
     },
     "metadata": {},
     "output_type": "display_data"
    },
    {
     "data": {
      "text/markdown": [
       "<span style=\"color:#33cc33\">Correct</span>"
      ],
      "text/plain": [
       "Correct"
      ]
     },
     "metadata": {},
     "output_type": "display_data"
    }
   ],
   "source": [
    "# TODO: Use the get_expected_cost function to fill in each value\n",
    "option_one = get_expected_cost(2,3)\n",
    "option_two = get_expected_cost(3,2)\n",
    "option_three = get_expected_cost(3,3)\n",
    "option_four = get_expected_cost (3,4)\n",
    "\n",
    "print(option_one)\n",
    "print(option_two)\n",
    "print(option_three)\n",
    "print(option_four)\n",
    "\n",
    "# Check your answer\n",
    "q2.check()"
   ]
  },
  {
   "cell_type": "code",
   "execution_count": 5,
   "id": "f9cb844a",
   "metadata": {
    "execution": {
     "iopub.execute_input": "2022-09-13T07:05:47.775333Z",
     "iopub.status.busy": "2022-09-13T07:05:47.774939Z",
     "iopub.status.idle": "2022-09-13T07:05:47.780394Z",
     "shell.execute_reply": "2022-09-13T07:05:47.778917Z"
    },
    "papermill": {
     "duration": 0.02071,
     "end_time": "2022-09-13T07:05:47.783331",
     "exception": false,
     "start_time": "2022-09-13T07:05:47.762621",
     "status": "completed"
    },
    "tags": []
   },
   "outputs": [],
   "source": [
    "# Uncomment to see a hint\n",
    "#q2.hint()\n",
    "\n",
    "# Uncomment to view the solution\n",
    "#q2.solution()"
   ]
  },
  {
   "cell_type": "markdown",
   "id": "68221d20",
   "metadata": {
    "papermill": {
     "duration": 0.007594,
     "end_time": "2022-09-13T07:05:47.798504",
     "exception": false,
     "start_time": "2022-09-13T07:05:47.790910",
     "status": "completed"
    },
    "tags": []
   },
   "source": [
    "# Question 3\n",
    "\n",
    "You're a home decorator, and you'd like to use Python to streamline some of your work.  Specifically, you're creating a tool that you intend to use to calculate the cost of painting a room.\n",
    "\n",
    "As a first step, define a function `get_cost()` that takes as input:\n",
    "- `sqft_walls` = total square feet of walls to be painted\n",
    "- `sqft_ceiling` = square feet of ceiling to be painted\n",
    "- `sqft_per_gallon` = number of square feet that you can cover with one gallon of paint\n",
    "- `cost_per_gallon` = cost (in dollars) of one gallon of paint\n",
    "\n",
    "It should return the cost (in dollars) of putting one coat of paint on all walls and the ceiling.  Assume you can buy the exact amount of paint that you need, so you can buy partial gallons (e.g., if you need 7.523 gallons, you can buy that exact amount, instead of needing to buy 8 gallons and waste some paint).  Do not round your answer."
   ]
  },
  {
   "cell_type": "code",
   "execution_count": 6,
   "id": "b1298f47",
   "metadata": {
    "execution": {
     "iopub.execute_input": "2022-09-13T07:05:47.822001Z",
     "iopub.status.busy": "2022-09-13T07:05:47.821009Z",
     "iopub.status.idle": "2022-09-13T07:05:47.831164Z",
     "shell.execute_reply": "2022-09-13T07:05:47.830304Z"
    },
    "papermill": {
     "duration": 0.023494,
     "end_time": "2022-09-13T07:05:47.833369",
     "exception": false,
     "start_time": "2022-09-13T07:05:47.809875",
     "status": "completed"
    },
    "tags": []
   },
   "outputs": [
    {
     "data": {
      "application/javascript": [
       "parent.postMessage({\"jupyterEvent\": \"custom.exercise_interaction\", \"data\": {\"outcomeType\": 1, \"valueTowardsCompletion\": 0.2, \"interactionType\": 1, \"questionType\": 2, \"questionId\": \"3_GetCostPaint\", \"learnToolsVersion\": \"0.3.4\", \"failureMessage\": \"\", \"exceptionClass\": \"\", \"trace\": \"\"}}, \"*\")"
      ],
      "text/plain": [
       "<IPython.core.display.Javascript object>"
      ]
     },
     "metadata": {},
     "output_type": "display_data"
    },
    {
     "data": {
      "text/markdown": [
       "<span style=\"color:#33cc33\">Correct</span>"
      ],
      "text/plain": [
       "Correct"
      ]
     },
     "metadata": {},
     "output_type": "display_data"
    }
   ],
   "source": [
    "# TODO: Finish defining the function\n",
    "def get_cost(sqft_walls, sqft_ceiling, sqft_per_gallon, cost_per_gallon):\n",
    "    sqft_to_paint = sqft_walls + sqft_ceiling\n",
    "    gallons_to_use =  sqft_to_paint/sqft_per_gallon\n",
    "    cost = gallons_to_use * cost_per_gallon\n",
    "    return cost\n",
    "\n",
    "# Check your answer\n",
    "q3.check()"
   ]
  },
  {
   "cell_type": "code",
   "execution_count": 7,
   "id": "5ac0e0a0",
   "metadata": {
    "execution": {
     "iopub.execute_input": "2022-09-13T07:05:47.849126Z",
     "iopub.status.busy": "2022-09-13T07:05:47.848444Z",
     "iopub.status.idle": "2022-09-13T07:05:47.853326Z",
     "shell.execute_reply": "2022-09-13T07:05:47.852474Z"
    },
    "papermill": {
     "duration": 0.015526,
     "end_time": "2022-09-13T07:05:47.855799",
     "exception": false,
     "start_time": "2022-09-13T07:05:47.840273",
     "status": "completed"
    },
    "tags": []
   },
   "outputs": [],
   "source": [
    "# Uncomment to see a hint\n",
    "#q3.hint()\n",
    "\n",
    "# Uncomment to view the solution\n",
    "#q3.solution()"
   ]
  },
  {
   "cell_type": "markdown",
   "id": "6296c6c3",
   "metadata": {
    "papermill": {
     "duration": 0.006508,
     "end_time": "2022-09-13T07:05:47.869181",
     "exception": false,
     "start_time": "2022-09-13T07:05:47.862673",
     "status": "completed"
    },
    "tags": []
   },
   "source": [
    "# Question 4\n",
    "\n",
    "Use the `get_cost()` function you defined in Question 3 to calculate the cost of applying one coat of paint to a room with:\n",
    "- 432 square feet of walls, and\n",
    "- 144 square feet of ceiling.\n",
    "\n",
    "Assume that one gallon of paint covers 400 square feet and costs $15.  As in Question 3, assume you can buy partial gallons of paint.  Do not round your answer."
   ]
  },
  {
   "cell_type": "code",
   "execution_count": 8,
   "id": "94a7519d",
   "metadata": {
    "execution": {
     "iopub.execute_input": "2022-09-13T07:05:47.885396Z",
     "iopub.status.busy": "2022-09-13T07:05:47.884769Z",
     "iopub.status.idle": "2022-09-13T07:05:47.894154Z",
     "shell.execute_reply": "2022-09-13T07:05:47.893278Z"
    },
    "papermill": {
     "duration": 0.019519,
     "end_time": "2022-09-13T07:05:47.896257",
     "exception": false,
     "start_time": "2022-09-13T07:05:47.876738",
     "status": "completed"
    },
    "tags": []
   },
   "outputs": [
    {
     "data": {
      "application/javascript": [
       "parent.postMessage({\"jupyterEvent\": \"custom.exercise_interaction\", \"data\": {\"outcomeType\": 1, \"valueTowardsCompletion\": 0.2, \"interactionType\": 1, \"questionType\": 1, \"questionId\": \"4_GetCostPaintExample\", \"learnToolsVersion\": \"0.3.4\", \"failureMessage\": \"\", \"exceptionClass\": \"\", \"trace\": \"\"}}, \"*\")"
      ],
      "text/plain": [
       "<IPython.core.display.Javascript object>"
      ]
     },
     "metadata": {},
     "output_type": "display_data"
    },
    {
     "data": {
      "text/markdown": [
       "<span style=\"color:#33cc33\">Correct</span>"
      ],
      "text/plain": [
       "Correct"
      ]
     },
     "metadata": {},
     "output_type": "display_data"
    }
   ],
   "source": [
    "# TODO: Set the project_cost variable to the cost of the project\n",
    "square_feet_of_walls = 432\n",
    "square_feet_of_ceiling = 144\n",
    "square_feet_total = square_feet_of_walls + square_feet_of_ceiling\n",
    "gallons_to_use = square_feet_total / 400\n",
    "cost = gallons_to_use * 15\n",
    "\n",
    "project_cost = cost\n",
    "\n",
    "# Check your answer\n",
    "q4.check()"
   ]
  },
  {
   "cell_type": "code",
   "execution_count": 9,
   "id": "fbf29577",
   "metadata": {
    "execution": {
     "iopub.execute_input": "2022-09-13T07:05:47.912227Z",
     "iopub.status.busy": "2022-09-13T07:05:47.911471Z",
     "iopub.status.idle": "2022-09-13T07:05:47.916124Z",
     "shell.execute_reply": "2022-09-13T07:05:47.915265Z"
    },
    "papermill": {
     "duration": 0.015024,
     "end_time": "2022-09-13T07:05:47.918274",
     "exception": false,
     "start_time": "2022-09-13T07:05:47.903250",
     "status": "completed"
    },
    "tags": []
   },
   "outputs": [],
   "source": [
    "# Uncomment to see a hint\n",
    "#q4.hint()\n",
    "\n",
    "# Uncomment to view the solution\n",
    "#q4.solution()"
   ]
  },
  {
   "cell_type": "markdown",
   "id": "13c81978",
   "metadata": {
    "papermill": {
     "duration": 0.006553,
     "end_time": "2022-09-13T07:05:47.931824",
     "exception": false,
     "start_time": "2022-09-13T07:05:47.925271",
     "status": "completed"
    },
    "tags": []
   },
   "source": [
    "# 🌶️ Question 5\n",
    "\n",
    "Now say you can no longer buy fractions of a gallon.  (For instance, if you need 4.3 gallons to do a project, then you have to buy 5 gallons of paint.)\n",
    "\n",
    "With this new scenario, you will create a new function `get_actual_cost` that uses the same inputs and calculates the cost of your project.\n",
    "\n",
    "One function that you'll need to use to do this is `math.ceil()`.  We demonstrate usage of this function in the code cell below.  It takes as a number as input and rounds the number up to the nearest integer.  \n",
    "\n",
    "Run the next code cell to test this function for yourself.  Feel free to change the value of `test_value` and make sure `math.ceil()` returns the number you expect."
   ]
  },
  {
   "cell_type": "code",
   "execution_count": 10,
   "id": "7431cb31",
   "metadata": {
    "execution": {
     "iopub.execute_input": "2022-09-13T07:05:47.948326Z",
     "iopub.status.busy": "2022-09-13T07:05:47.947288Z",
     "iopub.status.idle": "2022-09-13T07:05:47.953312Z",
     "shell.execute_reply": "2022-09-13T07:05:47.951937Z"
    },
    "papermill": {
     "duration": 0.016725,
     "end_time": "2022-09-13T07:05:47.955754",
     "exception": false,
     "start_time": "2022-09-13T07:05:47.939029",
     "status": "completed"
    },
    "tags": []
   },
   "outputs": [
    {
     "name": "stdout",
     "output_type": "stream",
     "text": [
      "15\n"
     ]
    }
   ],
   "source": [
    "test_value = 14.9\n",
    "\n",
    "rounded_value = math.ceil(test_value)\n",
    "print(rounded_value)"
   ]
  },
  {
   "cell_type": "markdown",
   "id": "f10b1c85",
   "metadata": {
    "papermill": {
     "duration": 0.006779,
     "end_time": "2022-09-13T07:05:47.969874",
     "exception": false,
     "start_time": "2022-09-13T07:05:47.963095",
     "status": "completed"
    },
    "tags": []
   },
   "source": [
    "Use the next code cell to define the function `get_actual_cost()`.  You'll need to use the `math.ceil()` function to do this.\n",
    "\n",
    "When answering this question, note that it's completely valid to define a function that makes use of another function.  For instance, we can define a function `round_up_and_divide_by_three` that makes use of the `math.ceil` function:\n",
    "```\n",
    "def round_up_and_divide_by_three(num):\n",
    "    new_value = math.ceil(num)\n",
    "    final_value = new_value / 3\n",
    "    return final_value\n",
    "```"
   ]
  },
  {
   "cell_type": "code",
   "execution_count": 11,
   "id": "c2d64fcf",
   "metadata": {
    "execution": {
     "iopub.execute_input": "2022-09-13T07:05:47.985780Z",
     "iopub.status.busy": "2022-09-13T07:05:47.985366Z",
     "iopub.status.idle": "2022-09-13T07:05:47.993848Z",
     "shell.execute_reply": "2022-09-13T07:05:47.992825Z"
    },
    "papermill": {
     "duration": 0.018908,
     "end_time": "2022-09-13T07:05:47.995885",
     "exception": false,
     "start_time": "2022-09-13T07:05:47.976977",
     "status": "completed"
    },
    "tags": []
   },
   "outputs": [
    {
     "data": {
      "application/javascript": [
       "parent.postMessage({\"jupyterEvent\": \"custom.exercise_interaction\", \"data\": {\"outcomeType\": 1, \"valueTowardsCompletion\": 0.2, \"interactionType\": 1, \"questionType\": 2, \"questionId\": \"5_NoMoreFractions\", \"learnToolsVersion\": \"0.3.4\", \"failureMessage\": \"\", \"exceptionClass\": \"\", \"trace\": \"\"}}, \"*\")"
      ],
      "text/plain": [
       "<IPython.core.display.Javascript object>"
      ]
     },
     "metadata": {},
     "output_type": "display_data"
    },
    {
     "data": {
      "text/markdown": [
       "<span style=\"color:#33cc33\">Correct</span>"
      ],
      "text/plain": [
       "Correct"
      ]
     },
     "metadata": {},
     "output_type": "display_data"
    }
   ],
   "source": [
    "def get_actual_cost(sqft_walls, sqft_ceiling, sqft_per_gallon, cost_per_gallon):\n",
    "    walls_to_paint = sqft_walls + sqft_ceiling\n",
    "    gallons_required = walls_to_paint / sqft_per_gallon\n",
    "    you_need = math.ceil(gallons_required)\n",
    "    final_cost = you_need * cost_per_gallon\n",
    "    return final_cost\n",
    "\n",
    "\n",
    "\n",
    "# Check your answer\n",
    "q5.check()"
   ]
  },
  {
   "cell_type": "code",
   "execution_count": 12,
   "id": "4010a98f",
   "metadata": {
    "execution": {
     "iopub.execute_input": "2022-09-13T07:05:48.012796Z",
     "iopub.status.busy": "2022-09-13T07:05:48.011824Z",
     "iopub.status.idle": "2022-09-13T07:05:48.016049Z",
     "shell.execute_reply": "2022-09-13T07:05:48.015237Z"
    },
    "papermill": {
     "duration": 0.015025,
     "end_time": "2022-09-13T07:05:48.018228",
     "exception": false,
     "start_time": "2022-09-13T07:05:48.003203",
     "status": "completed"
    },
    "tags": []
   },
   "outputs": [],
   "source": [
    "# Uncomment to see a hint\n",
    "#q5.hint()\n",
    "\n",
    "# Uncomment to view the solution\n",
    "#q5.solution()"
   ]
  },
  {
   "cell_type": "markdown",
   "id": "e346ca04",
   "metadata": {
    "papermill": {
     "duration": 0.006919,
     "end_time": "2022-09-13T07:05:48.032344",
     "exception": false,
     "start_time": "2022-09-13T07:05:48.025425",
     "status": "completed"
    },
    "tags": []
   },
   "source": [
    "Once your function is verified as correct, run the next code cell to calculate the updated cost of your project."
   ]
  },
  {
   "cell_type": "code",
   "execution_count": 13,
   "id": "7cc1016d",
   "metadata": {
    "execution": {
     "iopub.execute_input": "2022-09-13T07:05:48.049065Z",
     "iopub.status.busy": "2022-09-13T07:05:48.048086Z",
     "iopub.status.idle": "2022-09-13T07:05:48.054806Z",
     "shell.execute_reply": "2022-09-13T07:05:48.053806Z"
    },
    "papermill": {
     "duration": 0.017269,
     "end_time": "2022-09-13T07:05:48.057048",
     "exception": false,
     "start_time": "2022-09-13T07:05:48.039779",
     "status": "completed"
    },
    "tags": []
   },
   "outputs": [
    {
     "data": {
      "text/plain": [
       "30"
      ]
     },
     "execution_count": 13,
     "metadata": {},
     "output_type": "execute_result"
    }
   ],
   "source": [
    "get_actual_cost(432, 144, 400, 15) "
   ]
  },
  {
   "cell_type": "markdown",
   "id": "5fcb83c8",
   "metadata": {
    "papermill": {
     "duration": 0.007048,
     "end_time": "2022-09-13T07:05:48.071530",
     "exception": false,
     "start_time": "2022-09-13T07:05:48.064482",
     "status": "completed"
    },
    "tags": []
   },
   "source": [
    "Say you're working with a slightly larger room.  Run the next code cell to calculate the cost of the project."
   ]
  },
  {
   "cell_type": "code",
   "execution_count": 14,
   "id": "f621f3fa",
   "metadata": {
    "execution": {
     "iopub.execute_input": "2022-09-13T07:05:48.088394Z",
     "iopub.status.busy": "2022-09-13T07:05:48.087371Z",
     "iopub.status.idle": "2022-09-13T07:05:48.093621Z",
     "shell.execute_reply": "2022-09-13T07:05:48.092846Z"
    },
    "papermill": {
     "duration": 0.016688,
     "end_time": "2022-09-13T07:05:48.095612",
     "exception": false,
     "start_time": "2022-09-13T07:05:48.078924",
     "status": "completed"
    },
    "tags": []
   },
   "outputs": [
    {
     "data": {
      "text/plain": [
       "45"
      ]
     },
     "execution_count": 14,
     "metadata": {},
     "output_type": "execute_result"
    }
   ],
   "source": [
    "get_actual_cost(594, 288, 400, 15) "
   ]
  },
  {
   "cell_type": "markdown",
   "id": "7baad4ac",
   "metadata": {
    "papermill": {
     "duration": 0.007119,
     "end_time": "2022-09-13T07:05:48.110229",
     "exception": false,
     "start_time": "2022-09-13T07:05:48.103110",
     "status": "completed"
    },
    "tags": []
   },
   "source": [
    "# Keep going\n",
    "\n",
    "Continue to learn about **[data types](https://www.kaggle.com/alexisbcook/data-types)**."
   ]
  },
  {
   "cell_type": "markdown",
   "id": "a305cd2f",
   "metadata": {
    "papermill": {
     "duration": 0.007058,
     "end_time": "2022-09-13T07:05:48.124779",
     "exception": false,
     "start_time": "2022-09-13T07:05:48.117721",
     "status": "completed"
    },
    "tags": []
   },
   "source": [
    "---\n",
    "\n",
    "\n",
    "\n",
    "\n",
    "*Have questions or comments? Visit the [course discussion forum](https://www.kaggle.com/learn/intro-to-programming/discussion) to chat with other learners.*"
   ]
  }
 ],
 "metadata": {
  "kernelspec": {
   "display_name": "Python 3",
   "language": "python",
   "name": "python3"
  },
  "language_info": {
   "codemirror_mode": {
    "name": "ipython",
    "version": 3
   },
   "file_extension": ".py",
   "mimetype": "text/x-python",
   "name": "python",
   "nbconvert_exporter": "python",
   "pygments_lexer": "ipython3",
   "version": "3.7.12"
  },
  "papermill": {
   "default_parameters": {},
   "duration": 10.126203,
   "end_time": "2022-09-13T07:05:48.752945",
   "environment_variables": {},
   "exception": null,
   "input_path": "__notebook__.ipynb",
   "output_path": "__notebook__.ipynb",
   "parameters": {},
   "start_time": "2022-09-13T07:05:38.626742",
   "version": "2.3.4"
  }
 },
 "nbformat": 4,
 "nbformat_minor": 5
}
