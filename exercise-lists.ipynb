{
 "cells": [
  {
   "cell_type": "markdown",
   "id": "38d70141",
   "metadata": {
    "papermill": {
     "duration": 0.00654,
     "end_time": "2022-09-12T06:23:21.476151",
     "exception": false,
     "start_time": "2022-09-12T06:23:21.469611",
     "status": "completed"
    },
    "tags": []
   },
   "source": [
    "**This notebook is an exercise in the [Python](https://www.kaggle.com/learn/python) course.  You can reference the tutorial at [this link](https://www.kaggle.com/colinmorris/lists).**\n",
    "\n",
    "---\n"
   ]
  },
  {
   "cell_type": "markdown",
   "id": "162eac95",
   "metadata": {
    "papermill": {
     "duration": 0.004726,
     "end_time": "2022-09-12T06:23:21.486298",
     "exception": false,
     "start_time": "2022-09-12T06:23:21.481572",
     "status": "completed"
    },
    "tags": []
   },
   "source": [
    "Things get more interesting with lists. You'll apply your new knowledge to solve the questions below. Remember to run the following cell first."
   ]
  },
  {
   "cell_type": "code",
   "execution_count": 1,
   "id": "482053c7",
   "metadata": {
    "execution": {
     "iopub.execute_input": "2022-09-12T06:23:21.498848Z",
     "iopub.status.busy": "2022-09-12T06:23:21.498161Z",
     "iopub.status.idle": "2022-09-12T06:23:21.556100Z",
     "shell.execute_reply": "2022-09-12T06:23:21.554678Z"
    },
    "papermill": {
     "duration": 0.067821,
     "end_time": "2022-09-12T06:23:21.559201",
     "exception": false,
     "start_time": "2022-09-12T06:23:21.491380",
     "status": "completed"
    },
    "tags": []
   },
   "outputs": [
    {
     "name": "stdout",
     "output_type": "stream",
     "text": [
      "Setup complete.\n"
     ]
    }
   ],
   "source": [
    "from learntools.core import binder; binder.bind(globals())\n",
    "from learntools.python.ex4 import *\n",
    "print('Setup complete.')"
   ]
  },
  {
   "cell_type": "markdown",
   "id": "0054550a",
   "metadata": {
    "papermill": {
     "duration": 0.005067,
     "end_time": "2022-09-12T06:23:21.569759",
     "exception": false,
     "start_time": "2022-09-12T06:23:21.564692",
     "status": "completed"
    },
    "tags": []
   },
   "source": [
    "# 1.\n",
    "\n",
    "Complete the function below according to its docstring."
   ]
  },
  {
   "cell_type": "code",
   "execution_count": 2,
   "id": "b91b0194",
   "metadata": {
    "execution": {
     "iopub.execute_input": "2022-09-12T06:23:21.582297Z",
     "iopub.status.busy": "2022-09-12T06:23:21.581420Z",
     "iopub.status.idle": "2022-09-12T06:23:21.594441Z",
     "shell.execute_reply": "2022-09-12T06:23:21.593246Z"
    },
    "papermill": {
     "duration": 0.021671,
     "end_time": "2022-09-12T06:23:21.596667",
     "exception": false,
     "start_time": "2022-09-12T06:23:21.574996",
     "status": "completed"
    },
    "tags": []
   },
   "outputs": [
    {
     "data": {
      "application/javascript": [
       "parent.postMessage({\"jupyterEvent\": \"custom.exercise_interaction\", \"data\": {\"outcomeType\": 1, \"valueTowardsCompletion\": 0.2, \"interactionType\": 1, \"questionType\": 2, \"questionId\": \"1_SelectSecondItem\", \"learnToolsVersion\": \"0.3.4\", \"failureMessage\": \"\", \"exceptionClass\": \"\", \"trace\": \"\"}}, \"*\")"
      ],
      "text/plain": [
       "<IPython.core.display.Javascript object>"
      ]
     },
     "metadata": {},
     "output_type": "display_data"
    },
    {
     "data": {
      "text/markdown": [
       "<span style=\"color:#33cc33\">Correct</span>"
      ],
      "text/plain": [
       "Correct"
      ]
     },
     "metadata": {},
     "output_type": "display_data"
    }
   ],
   "source": [
    "def select_second(L):\n",
    "    \"\"\"Return the second element of the given list. If the list has no second\n",
    "    element, return None.\n",
    "    \"\"\"\n",
    "    if len(L)>1:\n",
    "        return (L[1])\n",
    "    else:return None  \n",
    "\n",
    "# Check your answer\n",
    "q1.check()"
   ]
  },
  {
   "cell_type": "code",
   "execution_count": 3,
   "id": "ddbce779",
   "metadata": {
    "execution": {
     "iopub.execute_input": "2022-09-12T06:23:21.609992Z",
     "iopub.status.busy": "2022-09-12T06:23:21.609215Z",
     "iopub.status.idle": "2022-09-12T06:23:21.614008Z",
     "shell.execute_reply": "2022-09-12T06:23:21.612756Z"
    },
    "papermill": {
     "duration": 0.014281,
     "end_time": "2022-09-12T06:23:21.616447",
     "exception": false,
     "start_time": "2022-09-12T06:23:21.602166",
     "status": "completed"
    },
    "tags": []
   },
   "outputs": [],
   "source": [
    "#q1.hint()\n",
    "#q1.solution()"
   ]
  },
  {
   "cell_type": "markdown",
   "id": "079530c4",
   "metadata": {
    "papermill": {
     "duration": 0.005203,
     "end_time": "2022-09-12T06:23:21.627194",
     "exception": false,
     "start_time": "2022-09-12T06:23:21.621991",
     "status": "completed"
    },
    "tags": []
   },
   "source": [
    "# 2.\n",
    "\n",
    "You are analyzing sports teams.  Members of each team are stored in a list. The Coach is the first name in the list, the captain is the second name in the list, and other players are listed after that. \n",
    "These lists are stored in another list, which starts with the best team and proceeds through the list to the worst team last.  Complete the function below to select the **captain** of the worst team."
   ]
  },
  {
   "cell_type": "code",
   "execution_count": 4,
   "id": "108333ea",
   "metadata": {
    "execution": {
     "iopub.execute_input": "2022-09-12T06:23:21.639812Z",
     "iopub.status.busy": "2022-09-12T06:23:21.639384Z",
     "iopub.status.idle": "2022-09-12T06:23:21.648320Z",
     "shell.execute_reply": "2022-09-12T06:23:21.647485Z"
    },
    "papermill": {
     "duration": 0.01792,
     "end_time": "2022-09-12T06:23:21.650547",
     "exception": false,
     "start_time": "2022-09-12T06:23:21.632627",
     "status": "completed"
    },
    "tags": []
   },
   "outputs": [
    {
     "data": {
      "application/javascript": [
       "parent.postMessage({\"jupyterEvent\": \"custom.exercise_interaction\", \"data\": {\"outcomeType\": 1, \"valueTowardsCompletion\": 0.2, \"interactionType\": 1, \"questionType\": 2, \"questionId\": \"2_LosingTeamCaptain\", \"learnToolsVersion\": \"0.3.4\", \"failureMessage\": \"\", \"exceptionClass\": \"\", \"trace\": \"\"}}, \"*\")"
      ],
      "text/plain": [
       "<IPython.core.display.Javascript object>"
      ]
     },
     "metadata": {},
     "output_type": "display_data"
    },
    {
     "data": {
      "text/markdown": [
       "<span style=\"color:#33cc33\">Correct</span>"
      ],
      "text/plain": [
       "Correct"
      ]
     },
     "metadata": {},
     "output_type": "display_data"
    }
   ],
   "source": [
    "def losing_team_captain(teams):\n",
    "    \"\"\"Given a list of teams, where each team is a list of names, return the 2nd player (captain)\n",
    "    from the last listed team\n",
    "    \"\"\"\n",
    "    loser_team = teams[-1:]\n",
    "    losers_team_captain = loser_team[0]\n",
    "    return losers_team_captain[1]\n",
    "\n",
    "    \n",
    "    pass\n",
    "\n",
    "# Check your answer\n",
    "q2.check()"
   ]
  },
  {
   "cell_type": "code",
   "execution_count": 5,
   "id": "22450d87",
   "metadata": {
    "execution": {
     "iopub.execute_input": "2022-09-12T06:23:21.664324Z",
     "iopub.status.busy": "2022-09-12T06:23:21.663494Z",
     "iopub.status.idle": "2022-09-12T06:23:21.668727Z",
     "shell.execute_reply": "2022-09-12T06:23:21.667403Z"
    },
    "papermill": {
     "duration": 0.015005,
     "end_time": "2022-09-12T06:23:21.671254",
     "exception": false,
     "start_time": "2022-09-12T06:23:21.656249",
     "status": "completed"
    },
    "tags": []
   },
   "outputs": [],
   "source": [
    "#q2.hint()\n",
    "#q2.solution()"
   ]
  },
  {
   "cell_type": "markdown",
   "id": "a39d6535",
   "metadata": {
    "papermill": {
     "duration": 0.005659,
     "end_time": "2022-09-12T06:23:21.682785",
     "exception": false,
     "start_time": "2022-09-12T06:23:21.677126",
     "status": "completed"
    },
    "tags": []
   },
   "source": [
    "# 3.\n",
    "\n",
    "The next iteration of Mario Kart will feature an extra-infuriating new item, the *Purple Shell*. When used, it warps the last place racer into first place and the first place racer into last place. Complete the function below to implement the Purple Shell's effect."
   ]
  },
  {
   "cell_type": "code",
   "execution_count": 6,
   "id": "4b24015c",
   "metadata": {
    "execution": {
     "iopub.execute_input": "2022-09-12T06:23:21.696138Z",
     "iopub.status.busy": "2022-09-12T06:23:21.695665Z",
     "iopub.status.idle": "2022-09-12T06:23:21.705464Z",
     "shell.execute_reply": "2022-09-12T06:23:21.704540Z"
    },
    "papermill": {
     "duration": 0.019232,
     "end_time": "2022-09-12T06:23:21.707745",
     "exception": false,
     "start_time": "2022-09-12T06:23:21.688513",
     "status": "completed"
    },
    "tags": []
   },
   "outputs": [
    {
     "data": {
      "application/javascript": [
       "parent.postMessage({\"jupyterEvent\": \"custom.exercise_interaction\", \"data\": {\"outcomeType\": 1, \"valueTowardsCompletion\": 0.2, \"interactionType\": 1, \"questionType\": 2, \"questionId\": \"3_PurpleShell\", \"learnToolsVersion\": \"0.3.4\", \"failureMessage\": \"\", \"exceptionClass\": \"\", \"trace\": \"\"}}, \"*\")"
      ],
      "text/plain": [
       "<IPython.core.display.Javascript object>"
      ]
     },
     "metadata": {},
     "output_type": "display_data"
    },
    {
     "data": {
      "text/markdown": [
       "<span style=\"color:#33cc33\">Correct</span>"
      ],
      "text/plain": [
       "Correct"
      ]
     },
     "metadata": {},
     "output_type": "display_data"
    }
   ],
   "source": [
    "def purple_shell(racers):\n",
    "    \"\"\"Given a list of racers, set the first place racer (at the front of the list) to last\n",
    "    place and vice versa.\n",
    "    \n",
    "    >>> r = [\"Mario\", \"Bowser\", \"Luigi\"]\n",
    "    >>> purple_shell(r)\n",
    "    >>> r\n",
    "    [\"Luigi\", \"Bowser\", \"Mario\"]\n",
    "    \n",
    "    \"\"\"\n",
    "    first_place = racers[-1]\n",
    "    last_place = racers[0]\n",
    "    racers[0] = first_place\n",
    "    racers[-1] = last_place\n",
    "\n",
    "    pass\n",
    "\n",
    "# Check your answer\n",
    "q3.check()"
   ]
  },
  {
   "cell_type": "code",
   "execution_count": 7,
   "id": "b922810b",
   "metadata": {
    "execution": {
     "iopub.execute_input": "2022-09-12T06:23:21.721462Z",
     "iopub.status.busy": "2022-09-12T06:23:21.720988Z",
     "iopub.status.idle": "2022-09-12T06:23:21.726093Z",
     "shell.execute_reply": "2022-09-12T06:23:21.724873Z"
    },
    "papermill": {
     "duration": 0.014739,
     "end_time": "2022-09-12T06:23:21.728607",
     "exception": false,
     "start_time": "2022-09-12T06:23:21.713868",
     "status": "completed"
    },
    "tags": []
   },
   "outputs": [],
   "source": [
    "#q3.hint()\n",
    "#q3.solution()"
   ]
  },
  {
   "cell_type": "markdown",
   "id": "561936ef",
   "metadata": {
    "papermill": {
     "duration": 0.005768,
     "end_time": "2022-09-12T06:23:21.740446",
     "exception": false,
     "start_time": "2022-09-12T06:23:21.734678",
     "status": "completed"
    },
    "tags": []
   },
   "source": [
    "# 4.\n",
    "\n",
    "What are the lengths of the following lists? Fill in the variable `lengths` with your predictions. (Try to make a prediction for each list *without* just calling `len()` on it.)"
   ]
  },
  {
   "cell_type": "code",
   "execution_count": 8,
   "id": "c60983be",
   "metadata": {
    "execution": {
     "iopub.execute_input": "2022-09-12T06:23:21.754703Z",
     "iopub.status.busy": "2022-09-12T06:23:21.754288Z",
     "iopub.status.idle": "2022-09-12T06:23:21.764297Z",
     "shell.execute_reply": "2022-09-12T06:23:21.763425Z"
    },
    "papermill": {
     "duration": 0.019886,
     "end_time": "2022-09-12T06:23:21.766453",
     "exception": false,
     "start_time": "2022-09-12T06:23:21.746567",
     "status": "completed"
    },
    "tags": []
   },
   "outputs": [
    {
     "data": {
      "application/javascript": [
       "parent.postMessage({\"jupyterEvent\": \"custom.exercise_interaction\", \"data\": {\"outcomeType\": 1, \"valueTowardsCompletion\": 0.2, \"interactionType\": 1, \"questionType\": 1, \"questionId\": \"4_UnderstandLen\", \"learnToolsVersion\": \"0.3.4\", \"failureMessage\": \"\", \"exceptionClass\": \"\", \"trace\": \"\"}}, \"*\")"
      ],
      "text/plain": [
       "<IPython.core.display.Javascript object>"
      ]
     },
     "metadata": {},
     "output_type": "display_data"
    },
    {
     "data": {
      "text/markdown": [
       "<span style=\"color:#33cc33\">Correct:</span> \n",
       "\n",
       "\n",
       "- a: There are three items in this list. Nothing tricky yet.\n",
       "- b: The list `[2, 3]` counts as a single item. It has one item before it. So we have 2 items in the list\n",
       "- c: The empty list has 0 items\n",
       "- d: The expression is the same as the list `[2, 3]`, which has length 2."
      ],
      "text/plain": [
       "Correct: \n",
       "\n",
       "\n",
       "- a: There are three items in this list. Nothing tricky yet.\n",
       "- b: The list `[2, 3]` counts as a single item. It has one item before it. So we have 2 items in the list\n",
       "- c: The empty list has 0 items\n",
       "- d: The expression is the same as the list `[2, 3]`, which has length 2."
      ]
     },
     "metadata": {},
     "output_type": "display_data"
    }
   ],
   "source": [
    "a = [1, 2, 3]\n",
    "b = [1, [2, 3]]\n",
    "c = []\n",
    "d = [1, 2, 3][1:]\n",
    "\n",
    "# Put your predictions in the list below. Lengths should contain 4 numbers, the\n",
    "# first being the length of a, the second being the length of b and so on.\n",
    "lengths = [len(a),len(b),len(c),len(d)]\n",
    "\n",
    "# Check your answer\n",
    "q4.check()"
   ]
  },
  {
   "cell_type": "code",
   "execution_count": 9,
   "id": "12168414",
   "metadata": {
    "execution": {
     "iopub.execute_input": "2022-09-12T06:23:21.781759Z",
     "iopub.status.busy": "2022-09-12T06:23:21.780656Z",
     "iopub.status.idle": "2022-09-12T06:23:21.785327Z",
     "shell.execute_reply": "2022-09-12T06:23:21.784418Z"
    },
    "papermill": {
     "duration": 0.014666,
     "end_time": "2022-09-12T06:23:21.787633",
     "exception": false,
     "start_time": "2022-09-12T06:23:21.772967",
     "status": "completed"
    },
    "tags": []
   },
   "outputs": [],
   "source": [
    "# line below provides some explanation\n",
    "#q4.solution()"
   ]
  },
  {
   "cell_type": "markdown",
   "id": "3528c632",
   "metadata": {
    "papermill": {
     "duration": 0.005801,
     "end_time": "2022-09-12T06:23:21.800526",
     "exception": false,
     "start_time": "2022-09-12T06:23:21.794725",
     "status": "completed"
    },
    "tags": []
   },
   "source": [
    "# 5. <span title=\"A bit spicy\" style=\"color: darkgreen \">🌶️</span>\n",
    "\n",
    "We're using lists to record people who attended our party and what order they arrived in. For example, the following list represents a party with 7 guests, in which Adela showed up first and Ford was the last to arrive:\n",
    "\n",
    "    party_attendees = ['Adela', 'Fleda', 'Owen', 'May', 'Mona', 'Gilbert', 'Ford']\n",
    "\n",
    "A guest is considered 'fashionably late' if they arrived after at least half of the party's guests. However, they must not be the very last guest (that's taking it too far). In the above example, Mona and Gilbert are the only guests who were fashionably late.\n",
    "\n",
    "Complete the function below which takes a list of party attendees as well as a person, and tells us whether that person is fashionably late."
   ]
  },
  {
   "cell_type": "code",
   "execution_count": null,
   "id": "1a6b31a1",
   "metadata": {
    "papermill": {
     "duration": 0.005707,
     "end_time": "2022-09-12T06:23:21.812260",
     "exception": false,
     "start_time": "2022-09-12T06:23:21.806553",
     "status": "completed"
    },
    "tags": []
   },
   "outputs": [],
   "source": []
  },
  {
   "cell_type": "code",
   "execution_count": 10,
   "id": "ad4a50e6",
   "metadata": {
    "execution": {
     "iopub.execute_input": "2022-09-12T06:23:21.826653Z",
     "iopub.status.busy": "2022-09-12T06:23:21.825929Z",
     "iopub.status.idle": "2022-09-12T06:23:21.834503Z",
     "shell.execute_reply": "2022-09-12T06:23:21.833583Z"
    },
    "papermill": {
     "duration": 0.018352,
     "end_time": "2022-09-12T06:23:21.836648",
     "exception": false,
     "start_time": "2022-09-12T06:23:21.818296",
     "status": "completed"
    },
    "tags": []
   },
   "outputs": [
    {
     "data": {
      "application/javascript": [
       "parent.postMessage({\"jupyterEvent\": \"custom.exercise_interaction\", \"data\": {\"outcomeType\": 1, \"valueTowardsCompletion\": 0.2, \"interactionType\": 1, \"questionType\": 2, \"questionId\": \"5_FashionablyLate\", \"learnToolsVersion\": \"0.3.4\", \"failureMessage\": \"\", \"exceptionClass\": \"\", \"trace\": \"\"}}, \"*\")"
      ],
      "text/plain": [
       "<IPython.core.display.Javascript object>"
      ]
     },
     "metadata": {},
     "output_type": "display_data"
    },
    {
     "data": {
      "text/markdown": [
       "<span style=\"color:#33cc33\">Correct</span>"
      ],
      "text/plain": [
       "Correct"
      ]
     },
     "metadata": {},
     "output_type": "display_data"
    }
   ],
   "source": [
    "def fashionably_late(arrivals, name):\n",
    "    \"\"\"Given an ordered list of arrivals to the party and a name, return whether the guest with that\n",
    "    name was fashionably late.\n",
    "    \"\"\"\n",
    "    order = arrivals.index(name)\n",
    "    return order >= len(arrivals) / 2 and order != len(arrivals) - 1\n",
    "    pass\n",
    "\n",
    "# Check your answer\n",
    "q5.check()"
   ]
  },
  {
   "cell_type": "code",
   "execution_count": 11,
   "id": "e1176be8",
   "metadata": {
    "execution": {
     "iopub.execute_input": "2022-09-12T06:23:21.851479Z",
     "iopub.status.busy": "2022-09-12T06:23:21.850770Z",
     "iopub.status.idle": "2022-09-12T06:23:21.854702Z",
     "shell.execute_reply": "2022-09-12T06:23:21.853817Z"
    },
    "papermill": {
     "duration": 0.013984,
     "end_time": "2022-09-12T06:23:21.856958",
     "exception": false,
     "start_time": "2022-09-12T06:23:21.842974",
     "status": "completed"
    },
    "tags": []
   },
   "outputs": [],
   "source": [
    "#q5.hint()\n",
    "#q5.solution()"
   ]
  },
  {
   "cell_type": "markdown",
   "id": "e3d5a5b0",
   "metadata": {
    "papermill": {
     "duration": 0.006208,
     "end_time": "2022-09-12T06:23:21.869694",
     "exception": false,
     "start_time": "2022-09-12T06:23:21.863486",
     "status": "completed"
    },
    "tags": []
   },
   "source": [
    "# Keep Going\n",
    "\n",
    "That's it for lists and tuples! Now you have the baseline knowledge to **[learn about loops](https://www.kaggle.com/colinmorris/loops-and-list-comprehensions)**, which is where lists and tuples get really interesting. "
   ]
  },
  {
   "cell_type": "markdown",
   "id": "00bef356",
   "metadata": {
    "papermill": {
     "duration": 0.00608,
     "end_time": "2022-09-12T06:23:21.882361",
     "exception": false,
     "start_time": "2022-09-12T06:23:21.876281",
     "status": "completed"
    },
    "tags": []
   },
   "source": [
    "---\n",
    "\n",
    "\n",
    "\n",
    "\n",
    "*Have questions or comments? Visit the [course discussion forum](https://www.kaggle.com/learn/python/discussion) to chat with other learners.*"
   ]
  }
 ],
 "metadata": {
  "kernelspec": {
   "display_name": "Python 3",
   "language": "python",
   "name": "python3"
  },
  "language_info": {
   "codemirror_mode": {
    "name": "ipython",
    "version": 3
   },
   "file_extension": ".py",
   "mimetype": "text/x-python",
   "name": "python",
   "nbconvert_exporter": "python",
   "pygments_lexer": "ipython3",
   "version": "3.7.12"
  },
  "papermill": {
   "default_parameters": {},
   "duration": 11.977842,
   "end_time": "2022-09-12T06:23:22.611000",
   "environment_variables": {},
   "exception": null,
   "input_path": "__notebook__.ipynb",
   "output_path": "__notebook__.ipynb",
   "parameters": {},
   "start_time": "2022-09-12T06:23:10.633158",
   "version": "2.3.4"
  }
 },
 "nbformat": 4,
 "nbformat_minor": 5
}
