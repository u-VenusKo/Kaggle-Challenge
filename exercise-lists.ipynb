{
 "cells": [
  {
   "cell_type": "markdown",
   "id": "173b45f6",
   "metadata": {
    "papermill": {
     "duration": 0.006171,
     "end_time": "2022-09-11T22:30:33.428767",
     "exception": false,
     "start_time": "2022-09-11T22:30:33.422596",
     "status": "completed"
    },
    "tags": []
   },
   "source": [
    "**This notebook is an exercise in the [Python](https://www.kaggle.com/learn/python) course.  You can reference the tutorial at [this link](https://www.kaggle.com/colinmorris/lists).**\n",
    "\n",
    "---\n"
   ]
  },
  {
   "cell_type": "markdown",
   "id": "f8ed3804",
   "metadata": {
    "papermill": {
     "duration": 0.00443,
     "end_time": "2022-09-11T22:30:33.438276",
     "exception": false,
     "start_time": "2022-09-11T22:30:33.433846",
     "status": "completed"
    },
    "tags": []
   },
   "source": [
    "Things get more interesting with lists. You'll apply your new knowledge to solve the questions below. Remember to run the following cell first."
   ]
  },
  {
   "cell_type": "code",
   "execution_count": 1,
   "id": "56820690",
   "metadata": {
    "execution": {
     "iopub.execute_input": "2022-09-11T22:30:33.450021Z",
     "iopub.status.busy": "2022-09-11T22:30:33.449270Z",
     "iopub.status.idle": "2022-09-11T22:30:33.501724Z",
     "shell.execute_reply": "2022-09-11T22:30:33.500870Z"
    },
    "papermill": {
     "duration": 0.061568,
     "end_time": "2022-09-11T22:30:33.504503",
     "exception": false,
     "start_time": "2022-09-11T22:30:33.442935",
     "status": "completed"
    },
    "tags": []
   },
   "outputs": [
    {
     "name": "stdout",
     "output_type": "stream",
     "text": [
      "Setup complete.\n"
     ]
    }
   ],
   "source": [
    "from learntools.core import binder; binder.bind(globals())\n",
    "from learntools.python.ex4 import *\n",
    "print('Setup complete.')"
   ]
  },
  {
   "cell_type": "markdown",
   "id": "30349460",
   "metadata": {
    "papermill": {
     "duration": 0.004539,
     "end_time": "2022-09-11T22:30:33.514076",
     "exception": false,
     "start_time": "2022-09-11T22:30:33.509537",
     "status": "completed"
    },
    "tags": []
   },
   "source": [
    "# 1.\n",
    "\n",
    "Complete the function below according to its docstring."
   ]
  },
  {
   "cell_type": "code",
   "execution_count": 2,
   "id": "9501f9bf",
   "metadata": {
    "execution": {
     "iopub.execute_input": "2022-09-11T22:30:33.525661Z",
     "iopub.status.busy": "2022-09-11T22:30:33.524937Z",
     "iopub.status.idle": "2022-09-11T22:30:33.535108Z",
     "shell.execute_reply": "2022-09-11T22:30:33.534075Z"
    },
    "papermill": {
     "duration": 0.0184,
     "end_time": "2022-09-11T22:30:33.537184",
     "exception": false,
     "start_time": "2022-09-11T22:30:33.518784",
     "status": "completed"
    },
    "tags": []
   },
   "outputs": [
    {
     "data": {
      "application/javascript": [
       "parent.postMessage({\"jupyterEvent\": \"custom.exercise_interaction\", \"data\": {\"outcomeType\": 1, \"valueTowardsCompletion\": 0.2, \"interactionType\": 1, \"questionType\": 2, \"questionId\": \"1_SelectSecondItem\", \"learnToolsVersion\": \"0.3.4\", \"failureMessage\": \"\", \"exceptionClass\": \"\", \"trace\": \"\"}}, \"*\")"
      ],
      "text/plain": [
       "<IPython.core.display.Javascript object>"
      ]
     },
     "metadata": {},
     "output_type": "display_data"
    },
    {
     "data": {
      "text/markdown": [
       "<span style=\"color:#33cc33\">Correct</span>"
      ],
      "text/plain": [
       "Correct"
      ]
     },
     "metadata": {},
     "output_type": "display_data"
    }
   ],
   "source": [
    "def select_second(L):\n",
    "    \n",
    "    if len(L) < 2:\n",
    "        return None\n",
    "    return L[1]\n",
    "    \n",
    "    pass\n",
    "\n",
    "# Check your answer\n",
    "q1.check()"
   ]
  },
  {
   "cell_type": "code",
   "execution_count": 3,
   "id": "478dfe33",
   "metadata": {
    "execution": {
     "iopub.execute_input": "2022-09-11T22:30:33.549537Z",
     "iopub.status.busy": "2022-09-11T22:30:33.548864Z",
     "iopub.status.idle": "2022-09-11T22:30:33.553073Z",
     "shell.execute_reply": "2022-09-11T22:30:33.551849Z"
    },
    "papermill": {
     "duration": 0.01287,
     "end_time": "2022-09-11T22:30:33.555294",
     "exception": false,
     "start_time": "2022-09-11T22:30:33.542424",
     "status": "completed"
    },
    "tags": []
   },
   "outputs": [],
   "source": [
    "#q1.hint()\n",
    "#q1.solution()"
   ]
  },
  {
   "cell_type": "markdown",
   "id": "7878a4d6",
   "metadata": {
    "papermill": {
     "duration": 0.005305,
     "end_time": "2022-09-11T22:30:33.565993",
     "exception": false,
     "start_time": "2022-09-11T22:30:33.560688",
     "status": "completed"
    },
    "tags": []
   },
   "source": [
    "# 2.\n",
    "\n",
    "You are analyzing sports teams.  Members of each team are stored in a list. The Coach is the first name in the list, the captain is the second name in the list, and other players are listed after that. \n",
    "These lists are stored in another list, which starts with the best team and proceeds through the list to the worst team last.  Complete the function below to select the **captain** of the worst team."
   ]
  },
  {
   "cell_type": "code",
   "execution_count": 4,
   "id": "c823f579",
   "metadata": {
    "execution": {
     "iopub.execute_input": "2022-09-11T22:30:33.579067Z",
     "iopub.status.busy": "2022-09-11T22:30:33.578294Z",
     "iopub.status.idle": "2022-09-11T22:30:33.587968Z",
     "shell.execute_reply": "2022-09-11T22:30:33.586810Z"
    },
    "papermill": {
     "duration": 0.018792,
     "end_time": "2022-09-11T22:30:33.590212",
     "exception": false,
     "start_time": "2022-09-11T22:30:33.571420",
     "status": "completed"
    },
    "tags": []
   },
   "outputs": [
    {
     "data": {
      "application/javascript": [
       "parent.postMessage({\"jupyterEvent\": \"custom.exercise_interaction\", \"data\": {\"outcomeType\": 1, \"valueTowardsCompletion\": 0.2, \"interactionType\": 1, \"questionType\": 2, \"questionId\": \"2_LosingTeamCaptain\", \"learnToolsVersion\": \"0.3.4\", \"failureMessage\": \"\", \"exceptionClass\": \"\", \"trace\": \"\"}}, \"*\")"
      ],
      "text/plain": [
       "<IPython.core.display.Javascript object>"
      ]
     },
     "metadata": {},
     "output_type": "display_data"
    },
    {
     "data": {
      "text/markdown": [
       "<span style=\"color:#33cc33\">Correct</span>"
      ],
      "text/plain": [
       "Correct"
      ]
     },
     "metadata": {},
     "output_type": "display_data"
    }
   ],
   "source": [
    "def losing_team_captain(teams):\n",
    "\n",
    "\n",
    "    \"\"\"Given a list of teams, where each team is a list of names, return the 2nd player (captain)\n",
    "    from the last listed team\n",
    "    \"\"\"\n",
    "    return teams [-1] [1]\n",
    "\n",
    "\n",
    "# Check your answer\n",
    "q2.check()"
   ]
  },
  {
   "cell_type": "code",
   "execution_count": 5,
   "id": "b10a427f",
   "metadata": {
    "execution": {
     "iopub.execute_input": "2022-09-11T22:30:33.603126Z",
     "iopub.status.busy": "2022-09-11T22:30:33.602432Z",
     "iopub.status.idle": "2022-09-11T22:30:33.606949Z",
     "shell.execute_reply": "2022-09-11T22:30:33.606062Z"
    },
    "papermill": {
     "duration": 0.01332,
     "end_time": "2022-09-11T22:30:33.609095",
     "exception": false,
     "start_time": "2022-09-11T22:30:33.595775",
     "status": "completed"
    },
    "tags": []
   },
   "outputs": [],
   "source": [
    "#q2.hint()\n",
    "#q2.solution()"
   ]
  },
  {
   "cell_type": "markdown",
   "id": "1c2f30c2",
   "metadata": {
    "papermill": {
     "duration": 0.004962,
     "end_time": "2022-09-11T22:30:33.619402",
     "exception": false,
     "start_time": "2022-09-11T22:30:33.614440",
     "status": "completed"
    },
    "tags": []
   },
   "source": [
    "# 3.\n",
    "\n",
    "The next iteration of Mario Kart will feature an extra-infuriating new item, the *Purple Shell*. When used, it warps the last place racer into first place and the first place racer into last place. Complete the function below to implement the Purple Shell's effect."
   ]
  },
  {
   "cell_type": "code",
   "execution_count": 6,
   "id": "4178337b",
   "metadata": {
    "execution": {
     "iopub.execute_input": "2022-09-11T22:30:33.631874Z",
     "iopub.status.busy": "2022-09-11T22:30:33.631121Z",
     "iopub.status.idle": "2022-09-11T22:30:33.641148Z",
     "shell.execute_reply": "2022-09-11T22:30:33.640182Z"
    },
    "papermill": {
     "duration": 0.018743,
     "end_time": "2022-09-11T22:30:33.643359",
     "exception": false,
     "start_time": "2022-09-11T22:30:33.624616",
     "status": "completed"
    },
    "tags": []
   },
   "outputs": [
    {
     "data": {
      "application/javascript": [
       "parent.postMessage({\"jupyterEvent\": \"custom.exercise_interaction\", \"data\": {\"outcomeType\": 1, \"valueTowardsCompletion\": 0.2, \"interactionType\": 1, \"questionType\": 2, \"questionId\": \"3_PurpleShell\", \"learnToolsVersion\": \"0.3.4\", \"failureMessage\": \"\", \"exceptionClass\": \"\", \"trace\": \"\"}}, \"*\")"
      ],
      "text/plain": [
       "<IPython.core.display.Javascript object>"
      ]
     },
     "metadata": {},
     "output_type": "display_data"
    },
    {
     "data": {
      "text/markdown": [
       "<span style=\"color:#33cc33\">Correct</span>"
      ],
      "text/plain": [
       "Correct"
      ]
     },
     "metadata": {},
     "output_type": "display_data"
    }
   ],
   "source": [
    "def purple_shell(racers):\n",
    "    \"\"\"Given a list of racers, set the first place racer (at the front of the list) to last\n",
    "    place and vice versa.\n",
    "    \n",
    "    >>> r = [\"Mario\", \"Bowser\", \"Luigi\"]\n",
    "    >>> purple_shell(r)\n",
    "    >>> r\n",
    "    [\"Luigi\", \"Bowser\", \"Mario\"]\n",
    "    \"\"\"\n",
    "    racers[0], racers[-1] = racers[-1], racers[0]\n",
    "\n",
    "# Check your answer\n",
    "q3.check()"
   ]
  },
  {
   "cell_type": "code",
   "execution_count": 7,
   "id": "30334e44",
   "metadata": {
    "execution": {
     "iopub.execute_input": "2022-09-11T22:30:33.656672Z",
     "iopub.status.busy": "2022-09-11T22:30:33.655764Z",
     "iopub.status.idle": "2022-09-11T22:30:33.660498Z",
     "shell.execute_reply": "2022-09-11T22:30:33.659644Z"
    },
    "papermill": {
     "duration": 0.013749,
     "end_time": "2022-09-11T22:30:33.662721",
     "exception": false,
     "start_time": "2022-09-11T22:30:33.648972",
     "status": "completed"
    },
    "tags": []
   },
   "outputs": [],
   "source": [
    "#q3.hint()\n",
    "#q3.solution()"
   ]
  },
  {
   "cell_type": "markdown",
   "id": "ced20ca4",
   "metadata": {
    "papermill": {
     "duration": 0.005369,
     "end_time": "2022-09-11T22:30:33.673816",
     "exception": false,
     "start_time": "2022-09-11T22:30:33.668447",
     "status": "completed"
    },
    "tags": []
   },
   "source": [
    "# 4.\n",
    "\n",
    "What are the lengths of the following lists? Fill in the variable `lengths` with your predictions. (Try to make a prediction for each list *without* just calling `len()` on it.)"
   ]
  },
  {
   "cell_type": "code",
   "execution_count": 8,
   "id": "bac74c64",
   "metadata": {
    "execution": {
     "iopub.execute_input": "2022-09-11T22:30:33.687243Z",
     "iopub.status.busy": "2022-09-11T22:30:33.686545Z",
     "iopub.status.idle": "2022-09-11T22:30:33.697459Z",
     "shell.execute_reply": "2022-09-11T22:30:33.696525Z"
    },
    "papermill": {
     "duration": 0.020161,
     "end_time": "2022-09-11T22:30:33.699603",
     "exception": false,
     "start_time": "2022-09-11T22:30:33.679442",
     "status": "completed"
    },
    "tags": []
   },
   "outputs": [
    {
     "data": {
      "application/javascript": [
       "parent.postMessage({\"jupyterEvent\": \"custom.exercise_interaction\", \"data\": {\"outcomeType\": 1, \"valueTowardsCompletion\": 0.2, \"interactionType\": 1, \"questionType\": 1, \"questionId\": \"4_UnderstandLen\", \"learnToolsVersion\": \"0.3.4\", \"failureMessage\": \"\", \"exceptionClass\": \"\", \"trace\": \"\"}}, \"*\")"
      ],
      "text/plain": [
       "<IPython.core.display.Javascript object>"
      ]
     },
     "metadata": {},
     "output_type": "display_data"
    },
    {
     "data": {
      "text/markdown": [
       "<span style=\"color:#33cc33\">Correct:</span> \n",
       "\n",
       "\n",
       "- a: There are three items in this list. Nothing tricky yet.\n",
       "- b: The list `[2, 3]` counts as a single item. It has one item before it. So we have 2 items in the list\n",
       "- c: The empty list has 0 items\n",
       "- d: The expression is the same as the list `[2, 3]`, which has length 2."
      ],
      "text/plain": [
       "Correct: \n",
       "\n",
       "\n",
       "- a: There are three items in this list. Nothing tricky yet.\n",
       "- b: The list `[2, 3]` counts as a single item. It has one item before it. So we have 2 items in the list\n",
       "- c: The empty list has 0 items\n",
       "- d: The expression is the same as the list `[2, 3]`, which has length 2."
      ]
     },
     "metadata": {},
     "output_type": "display_data"
    }
   ],
   "source": [
    "a = [1, 2, 3]\n",
    "b = [1, [2, 3]]\n",
    "c = []\n",
    "d = [1, 2, 3][1:]\n",
    "\n",
    "# Put your predictions in the list below. Lengths should contain 4 numbers, the\n",
    "# first being the length of a, the second being the length of b and so on.\n",
    "lengths = [len(a), len(b), len(c), len(d)]\n",
    "\n",
    "# Check your answer\n",
    "q4.check()"
   ]
  },
  {
   "cell_type": "code",
   "execution_count": 9,
   "id": "e0ccd613",
   "metadata": {
    "execution": {
     "iopub.execute_input": "2022-09-11T22:30:33.713455Z",
     "iopub.status.busy": "2022-09-11T22:30:33.712700Z",
     "iopub.status.idle": "2022-09-11T22:30:33.717567Z",
     "shell.execute_reply": "2022-09-11T22:30:33.716615Z"
    },
    "papermill": {
     "duration": 0.014225,
     "end_time": "2022-09-11T22:30:33.719782",
     "exception": false,
     "start_time": "2022-09-11T22:30:33.705557",
     "status": "completed"
    },
    "tags": []
   },
   "outputs": [],
   "source": [
    "#line below provides some explanation\n",
    "#q4.solution()"
   ]
  },
  {
   "cell_type": "markdown",
   "id": "e4c8f56f",
   "metadata": {
    "papermill": {
     "duration": 0.005434,
     "end_time": "2022-09-11T22:30:33.730990",
     "exception": false,
     "start_time": "2022-09-11T22:30:33.725556",
     "status": "completed"
    },
    "tags": []
   },
   "source": [
    "# 5. <span title=\"A bit spicy\" style=\"color: darkgreen \">🌶️</span>\n",
    "\n",
    "We're using lists to record people who attended our party and what order they arrived in. For example, the following list represents a party with 7 guests, in which Adela showed up first and Ford was the last to arrive:\n",
    "\n",
    "    party_attendees = ['Adela', 'Fleda', 'Owen', 'May', 'Mona', 'Gilbert', 'Ford']\n",
    "\n",
    "A guest is considered 'fashionably late' if they arrived after at least half of the party's guests. However, they must not be the very last guest (that's taking it too far). In the above example, Mona and Gilbert are the only guests who were fashionably late.\n",
    "\n",
    "Complete the function below which takes a list of party attendees as well as a person, and tells us whether that person is fashionably late."
   ]
  },
  {
   "cell_type": "code",
   "execution_count": 10,
   "id": "938b705a",
   "metadata": {
    "execution": {
     "iopub.execute_input": "2022-09-11T22:30:33.744435Z",
     "iopub.status.busy": "2022-09-11T22:30:33.744023Z",
     "iopub.status.idle": "2022-09-11T22:30:33.752862Z",
     "shell.execute_reply": "2022-09-11T22:30:33.752045Z"
    },
    "papermill": {
     "duration": 0.018228,
     "end_time": "2022-09-11T22:30:33.754929",
     "exception": false,
     "start_time": "2022-09-11T22:30:33.736701",
     "status": "completed"
    },
    "tags": []
   },
   "outputs": [
    {
     "data": {
      "application/javascript": [
       "parent.postMessage({\"jupyterEvent\": \"custom.exercise_interaction\", \"data\": {\"outcomeType\": 4, \"interactionType\": 1, \"questionType\": 2, \"questionId\": \"5_FashionablyLate\", \"learnToolsVersion\": \"0.3.4\", \"valueTowardsCompletion\": 0.0, \"failureMessage\": \"\", \"exceptionClass\": \"\", \"trace\": \"\"}}, \"*\")"
      ],
      "text/plain": [
       "<IPython.core.display.Javascript object>"
      ]
     },
     "metadata": {},
     "output_type": "display_data"
    },
    {
     "data": {
      "text/markdown": [
       "<span style=\"color:#ccaa33\">Check:</span> When you've updated the starter code, `check()` will tell you whether your code is correct. "
      ],
      "text/plain": [
       "Check: When you've updated the starter code, `check()` will tell you whether your code is correct. "
      ]
     },
     "metadata": {},
     "output_type": "display_data"
    }
   ],
   "source": [
    "def fashionably_late(arrivals, name):\n",
    "    \"\"\"Given an ordered list of arrivals to the party and a name, return whether the guest with that\n",
    "    name was fashionably late.\n",
    "    \"\"\"\n",
    "    pass\n",
    "\n",
    "# Check your answer\n",
    "q5.check()"
   ]
  },
  {
   "cell_type": "code",
   "execution_count": 11,
   "id": "75be38e3",
   "metadata": {
    "execution": {
     "iopub.execute_input": "2022-09-11T22:30:33.769464Z",
     "iopub.status.busy": "2022-09-11T22:30:33.768811Z",
     "iopub.status.idle": "2022-09-11T22:30:33.773004Z",
     "shell.execute_reply": "2022-09-11T22:30:33.772283Z"
    },
    "papermill": {
     "duration": 0.013486,
     "end_time": "2022-09-11T22:30:33.775067",
     "exception": false,
     "start_time": "2022-09-11T22:30:33.761581",
     "status": "completed"
    },
    "tags": []
   },
   "outputs": [],
   "source": [
    "#q5.hint()\n",
    "#q5.solution()"
   ]
  },
  {
   "cell_type": "markdown",
   "id": "74ee9616",
   "metadata": {
    "papermill": {
     "duration": 0.00568,
     "end_time": "2022-09-11T22:30:33.786705",
     "exception": false,
     "start_time": "2022-09-11T22:30:33.781025",
     "status": "completed"
    },
    "tags": []
   },
   "source": [
    "# Keep Going\n",
    "\n",
    "That's it for lists and tuples! Now you have the baseline knowledge to **[learn about loops](https://www.kaggle.com/colinmorris/loops-and-list-comprehensions)**, which is where lists and tuples get really interesting. "
   ]
  },
  {
   "cell_type": "markdown",
   "id": "123202a5",
   "metadata": {
    "papermill": {
     "duration": 0.005701,
     "end_time": "2022-09-11T22:30:33.798328",
     "exception": false,
     "start_time": "2022-09-11T22:30:33.792627",
     "status": "completed"
    },
    "tags": []
   },
   "source": [
    "---\n",
    "\n",
    "\n",
    "\n",
    "\n",
    "*Have questions or comments? Visit the [course discussion forum](https://www.kaggle.com/learn/python/discussion) to chat with other learners.*"
   ]
  }
 ],
 "metadata": {
  "kernelspec": {
   "display_name": "Python 3",
   "language": "python",
   "name": "python3"
  },
  "language_info": {
   "codemirror_mode": {
    "name": "ipython",
    "version": 3
   },
   "file_extension": ".py",
   "mimetype": "text/x-python",
   "name": "python",
   "nbconvert_exporter": "python",
   "pygments_lexer": "ipython3",
   "version": "3.7.12"
  },
  "papermill": {
   "default_parameters": {},
   "duration": 10.172097,
   "end_time": "2022-09-11T22:30:34.425254",
   "environment_variables": {},
   "exception": null,
   "input_path": "__notebook__.ipynb",
   "output_path": "__notebook__.ipynb",
   "parameters": {},
   "start_time": "2022-09-11T22:30:24.253157",
   "version": "2.3.4"
  }
 },
 "nbformat": 4,
 "nbformat_minor": 5
}
