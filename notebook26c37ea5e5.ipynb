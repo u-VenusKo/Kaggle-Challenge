{
 "cells": [
  {
   "cell_type": "markdown",
   "id": "5462429b",
   "metadata": {
    "papermill": {
     "duration": 0.006954,
     "end_time": "2022-09-12T06:21:45.427140",
     "exception": false,
     "start_time": "2022-09-12T06:21:45.420186",
     "status": "completed"
    },
    "tags": []
   },
   "source": [
    "**This notebook is an exercise in the [Python](https://www.kaggle.com/learn/python) course.  You can reference the tutorial at [this link](https://www.kaggle.com/colinmorris/lists).**\n",
    "\n",
    "---\n"
   ]
  },
  {
   "cell_type": "markdown",
   "id": "cf19c899",
   "metadata": {
    "papermill": {
     "duration": 0.008076,
     "end_time": "2022-09-12T06:21:45.441290",
     "exception": false,
     "start_time": "2022-09-12T06:21:45.433214",
     "status": "completed"
    },
    "tags": []
   },
   "source": [
    "Things get more interesting with lists. You'll apply your new knowledge to solve the questions below. Remember to run the following cell first."
   ]
  },
  {
   "cell_type": "code",
   "execution_count": 1,
   "id": "de2af2af",
   "metadata": {
    "execution": {
     "iopub.execute_input": "2022-09-12T06:21:45.454310Z",
     "iopub.status.busy": "2022-09-12T06:21:45.452992Z",
     "iopub.status.idle": "2022-09-12T06:21:45.508930Z",
     "shell.execute_reply": "2022-09-12T06:21:45.507645Z"
    },
    "papermill": {
     "duration": 0.066025,
     "end_time": "2022-09-12T06:21:45.512515",
     "exception": false,
     "start_time": "2022-09-12T06:21:45.446490",
     "status": "completed"
    },
    "tags": []
   },
   "outputs": [
    {
     "name": "stdout",
     "output_type": "stream",
     "text": [
      "Setup complete.\n"
     ]
    }
   ],
   "source": [
    "from learntools.core import binder; binder.bind(globals())\n",
    "from learntools.python.ex4 import *\n",
    "print('Setup complete.')"
   ]
  },
  {
   "cell_type": "markdown",
   "id": "ee24004b",
   "metadata": {
    "papermill": {
     "duration": 0.00585,
     "end_time": "2022-09-12T06:21:45.523669",
     "exception": false,
     "start_time": "2022-09-12T06:21:45.517819",
     "status": "completed"
    },
    "tags": []
   },
   "source": [
    "# 1.\n",
    "\n",
    "Complete the function below according to its docstring."
   ]
  },
  {
   "cell_type": "code",
   "execution_count": 2,
   "id": "790bc698",
   "metadata": {
    "execution": {
     "iopub.execute_input": "2022-09-12T06:21:45.535823Z",
     "iopub.status.busy": "2022-09-12T06:21:45.534987Z",
     "iopub.status.idle": "2022-09-12T06:21:45.548919Z",
     "shell.execute_reply": "2022-09-12T06:21:45.547887Z"
    },
    "papermill": {
     "duration": 0.022514,
     "end_time": "2022-09-12T06:21:45.551058",
     "exception": false,
     "start_time": "2022-09-12T06:21:45.528544",
     "status": "completed"
    },
    "tags": []
   },
   "outputs": [
    {
     "data": {
      "application/javascript": [
       "parent.postMessage({\"jupyterEvent\": \"custom.exercise_interaction\", \"data\": {\"outcomeType\": 1, \"valueTowardsCompletion\": 0.2, \"interactionType\": 1, \"questionType\": 2, \"questionId\": \"1_SelectSecondItem\", \"learnToolsVersion\": \"0.3.4\", \"failureMessage\": \"\", \"exceptionClass\": \"\", \"trace\": \"\"}}, \"*\")"
      ],
      "text/plain": [
       "<IPython.core.display.Javascript object>"
      ]
     },
     "metadata": {},
     "output_type": "display_data"
    },
    {
     "data": {
      "text/markdown": [
       "<span style=\"color:#33cc33\">Correct</span>"
      ],
      "text/plain": [
       "Correct"
      ]
     },
     "metadata": {},
     "output_type": "display_data"
    }
   ],
   "source": [
    "def select_second(L):\n",
    "    \"\"\"Return the second element of the given list. If the list has no second\n",
    "    element, return None.\n",
    "    \"\"\"\n",
    "    if len(L)>1:\n",
    "        return (L[1])\n",
    "    else:return None  \n",
    "\n",
    "# Check your answer\n",
    "q1.check()"
   ]
  },
  {
   "cell_type": "code",
   "execution_count": 3,
   "id": "226f798d",
   "metadata": {
    "execution": {
     "iopub.execute_input": "2022-09-12T06:21:45.563954Z",
     "iopub.status.busy": "2022-09-12T06:21:45.563128Z",
     "iopub.status.idle": "2022-09-12T06:21:45.567585Z",
     "shell.execute_reply": "2022-09-12T06:21:45.566651Z"
    },
    "papermill": {
     "duration": 0.016062,
     "end_time": "2022-09-12T06:21:45.572487",
     "exception": false,
     "start_time": "2022-09-12T06:21:45.556425",
     "status": "completed"
    },
    "tags": []
   },
   "outputs": [],
   "source": [
    "#q1.hint()\n",
    "#q1.solution()"
   ]
  },
  {
   "cell_type": "markdown",
   "id": "5a558abb",
   "metadata": {
    "papermill": {
     "duration": 0.005266,
     "end_time": "2022-09-12T06:21:45.585712",
     "exception": false,
     "start_time": "2022-09-12T06:21:45.580446",
     "status": "completed"
    },
    "tags": []
   },
   "source": [
    "# 2.\n",
    "\n",
    "You are analyzing sports teams.  Members of each team are stored in a list. The Coach is the first name in the list, the captain is the second name in the list, and other players are listed after that. \n",
    "These lists are stored in another list, which starts with the best team and proceeds through the list to the worst team last.  Complete the function below to select the **captain** of the worst team."
   ]
  },
  {
   "cell_type": "code",
   "execution_count": 4,
   "id": "74cbb4f1",
   "metadata": {
    "execution": {
     "iopub.execute_input": "2022-09-12T06:21:45.598825Z",
     "iopub.status.busy": "2022-09-12T06:21:45.598426Z",
     "iopub.status.idle": "2022-09-12T06:21:45.608798Z",
     "shell.execute_reply": "2022-09-12T06:21:45.607565Z"
    },
    "papermill": {
     "duration": 0.019179,
     "end_time": "2022-09-12T06:21:45.611007",
     "exception": false,
     "start_time": "2022-09-12T06:21:45.591828",
     "status": "completed"
    },
    "tags": []
   },
   "outputs": [
    {
     "data": {
      "application/javascript": [
       "parent.postMessage({\"jupyterEvent\": \"custom.exercise_interaction\", \"data\": {\"outcomeType\": 1, \"valueTowardsCompletion\": 0.2, \"interactionType\": 1, \"questionType\": 2, \"questionId\": \"2_LosingTeamCaptain\", \"learnToolsVersion\": \"0.3.4\", \"failureMessage\": \"\", \"exceptionClass\": \"\", \"trace\": \"\"}}, \"*\")"
      ],
      "text/plain": [
       "<IPython.core.display.Javascript object>"
      ]
     },
     "metadata": {},
     "output_type": "display_data"
    },
    {
     "data": {
      "text/markdown": [
       "<span style=\"color:#33cc33\">Correct</span>"
      ],
      "text/plain": [
       "Correct"
      ]
     },
     "metadata": {},
     "output_type": "display_data"
    }
   ],
   "source": [
    "def losing_team_captain(teams):\n",
    "    \"\"\"Given a list of teams, where each team is a list of names, return the 2nd player (captain)\n",
    "    from the last listed team\n",
    "    \"\"\"\n",
    "    loser_team = teams[-1:]\n",
    "    losers_team_captain = loser_team[0]\n",
    "    return losers_team_captain[1]\n",
    "\n",
    "    \n",
    "    pass\n",
    "\n",
    "# Check your answer\n",
    "q2.check()"
   ]
  },
  {
   "cell_type": "code",
   "execution_count": 5,
   "id": "0c079034",
   "metadata": {
    "execution": {
     "iopub.execute_input": "2022-09-12T06:21:45.627392Z",
     "iopub.status.busy": "2022-09-12T06:21:45.626654Z",
     "iopub.status.idle": "2022-09-12T06:21:45.631452Z",
     "shell.execute_reply": "2022-09-12T06:21:45.630409Z"
    },
    "papermill": {
     "duration": 0.016103,
     "end_time": "2022-09-12T06:21:45.633917",
     "exception": false,
     "start_time": "2022-09-12T06:21:45.617814",
     "status": "completed"
    },
    "tags": []
   },
   "outputs": [],
   "source": [
    "#q2.hint()\n",
    "#q2.solution()"
   ]
  },
  {
   "cell_type": "markdown",
   "id": "9e6cd230",
   "metadata": {
    "papermill": {
     "duration": 0.005321,
     "end_time": "2022-09-12T06:21:45.645010",
     "exception": false,
     "start_time": "2022-09-12T06:21:45.639689",
     "status": "completed"
    },
    "tags": []
   },
   "source": [
    "# 3.\n",
    "\n",
    "The next iteration of Mario Kart will feature an extra-infuriating new item, the *Purple Shell*. When used, it warps the last place racer into first place and the first place racer into last place. Complete the function below to implement the Purple Shell's effect."
   ]
  },
  {
   "cell_type": "code",
   "execution_count": 6,
   "id": "f1bb8588",
   "metadata": {
    "execution": {
     "iopub.execute_input": "2022-09-12T06:21:45.658730Z",
     "iopub.status.busy": "2022-09-12T06:21:45.657645Z",
     "iopub.status.idle": "2022-09-12T06:21:45.669829Z",
     "shell.execute_reply": "2022-09-12T06:21:45.668657Z"
    },
    "papermill": {
     "duration": 0.021451,
     "end_time": "2022-09-12T06:21:45.671885",
     "exception": false,
     "start_time": "2022-09-12T06:21:45.650434",
     "status": "completed"
    },
    "tags": []
   },
   "outputs": [
    {
     "data": {
      "application/javascript": [
       "parent.postMessage({\"jupyterEvent\": \"custom.exercise_interaction\", \"data\": {\"outcomeType\": 1, \"valueTowardsCompletion\": 0.2, \"interactionType\": 1, \"questionType\": 2, \"questionId\": \"3_PurpleShell\", \"learnToolsVersion\": \"0.3.4\", \"failureMessage\": \"\", \"exceptionClass\": \"\", \"trace\": \"\"}}, \"*\")"
      ],
      "text/plain": [
       "<IPython.core.display.Javascript object>"
      ]
     },
     "metadata": {},
     "output_type": "display_data"
    },
    {
     "data": {
      "text/markdown": [
       "<span style=\"color:#33cc33\">Correct</span>"
      ],
      "text/plain": [
       "Correct"
      ]
     },
     "metadata": {},
     "output_type": "display_data"
    }
   ],
   "source": [
    "def purple_shell(racers):\n",
    "    \"\"\"Given a list of racers, set the first place racer (at the front of the list) to last\n",
    "    place and vice versa.\n",
    "    \n",
    "    >>> r = [\"Mario\", \"Bowser\", \"Luigi\"]\n",
    "    >>> purple_shell(r)\n",
    "    >>> r\n",
    "    [\"Luigi\", \"Bowser\", \"Mario\"]\n",
    "    \n",
    "    \"\"\"\n",
    "    first_place = racers[-1]\n",
    "    last_place = racers[0]\n",
    "    racers[0] = first_place\n",
    "    racers[-1] = last_place\n",
    "\n",
    "    pass\n",
    "\n",
    "# Check your answer\n",
    "q3.check()"
   ]
  },
  {
   "cell_type": "code",
   "execution_count": 7,
   "id": "1d1fbe8a",
   "metadata": {
    "execution": {
     "iopub.execute_input": "2022-09-12T06:21:45.685799Z",
     "iopub.status.busy": "2022-09-12T06:21:45.685235Z",
     "iopub.status.idle": "2022-09-12T06:21:45.691053Z",
     "shell.execute_reply": "2022-09-12T06:21:45.689829Z"
    },
    "papermill": {
     "duration": 0.015763,
     "end_time": "2022-09-12T06:21:45.693344",
     "exception": false,
     "start_time": "2022-09-12T06:21:45.677581",
     "status": "completed"
    },
    "tags": []
   },
   "outputs": [],
   "source": [
    "#q3.hint()\n",
    "#q3.solution()"
   ]
  },
  {
   "cell_type": "markdown",
   "id": "51200af2",
   "metadata": {
    "papermill": {
     "duration": 0.005936,
     "end_time": "2022-09-12T06:21:45.706186",
     "exception": false,
     "start_time": "2022-09-12T06:21:45.700250",
     "status": "completed"
    },
    "tags": []
   },
   "source": [
    "# 4.\n",
    "\n",
    "What are the lengths of the following lists? Fill in the variable `lengths` with your predictions. (Try to make a prediction for each list *without* just calling `len()` on it.)"
   ]
  },
  {
   "cell_type": "code",
   "execution_count": 8,
   "id": "a48d032b",
   "metadata": {
    "execution": {
     "iopub.execute_input": "2022-09-12T06:21:45.720347Z",
     "iopub.status.busy": "2022-09-12T06:21:45.719556Z",
     "iopub.status.idle": "2022-09-12T06:21:45.729709Z",
     "shell.execute_reply": "2022-09-12T06:21:45.728849Z"
    },
    "papermill": {
     "duration": 0.019594,
     "end_time": "2022-09-12T06:21:45.731940",
     "exception": false,
     "start_time": "2022-09-12T06:21:45.712346",
     "status": "completed"
    },
    "tags": []
   },
   "outputs": [
    {
     "data": {
      "application/javascript": [
       "parent.postMessage({\"jupyterEvent\": \"custom.exercise_interaction\", \"data\": {\"outcomeType\": 1, \"valueTowardsCompletion\": 0.2, \"interactionType\": 1, \"questionType\": 1, \"questionId\": \"4_UnderstandLen\", \"learnToolsVersion\": \"0.3.4\", \"failureMessage\": \"\", \"exceptionClass\": \"\", \"trace\": \"\"}}, \"*\")"
      ],
      "text/plain": [
       "<IPython.core.display.Javascript object>"
      ]
     },
     "metadata": {},
     "output_type": "display_data"
    },
    {
     "data": {
      "text/markdown": [
       "<span style=\"color:#33cc33\">Correct:</span> \n",
       "\n",
       "\n",
       "- a: There are three items in this list. Nothing tricky yet.\n",
       "- b: The list `[2, 3]` counts as a single item. It has one item before it. So we have 2 items in the list\n",
       "- c: The empty list has 0 items\n",
       "- d: The expression is the same as the list `[2, 3]`, which has length 2."
      ],
      "text/plain": [
       "Correct: \n",
       "\n",
       "\n",
       "- a: There are three items in this list. Nothing tricky yet.\n",
       "- b: The list `[2, 3]` counts as a single item. It has one item before it. So we have 2 items in the list\n",
       "- c: The empty list has 0 items\n",
       "- d: The expression is the same as the list `[2, 3]`, which has length 2."
      ]
     },
     "metadata": {},
     "output_type": "display_data"
    }
   ],
   "source": [
    "a = [1, 2, 3]\n",
    "b = [1, [2, 3]]\n",
    "c = []\n",
    "d = [1, 2, 3][1:]\n",
    "\n",
    "# Put your predictions in the list below. Lengths should contain 4 numbers, the\n",
    "# first being the length of a, the second being the length of b and so on.\n",
    "lengths = [len(a),len(b),len(c),len(d)]\n",
    "\n",
    "# Check your answer\n",
    "q4.check()"
   ]
  },
  {
   "cell_type": "code",
   "execution_count": 9,
   "id": "4a0a0421",
   "metadata": {
    "execution": {
     "iopub.execute_input": "2022-09-12T06:21:45.746853Z",
     "iopub.status.busy": "2022-09-12T06:21:45.746372Z",
     "iopub.status.idle": "2022-09-12T06:21:45.751580Z",
     "shell.execute_reply": "2022-09-12T06:21:45.750290Z"
    },
    "papermill": {
     "duration": 0.015157,
     "end_time": "2022-09-12T06:21:45.753891",
     "exception": false,
     "start_time": "2022-09-12T06:21:45.738734",
     "status": "completed"
    },
    "tags": []
   },
   "outputs": [],
   "source": [
    "# line below provides some explanation\n",
    "#q4.solution()"
   ]
  },
  {
   "cell_type": "markdown",
   "id": "ba198de6",
   "metadata": {
    "papermill": {
     "duration": 0.00542,
     "end_time": "2022-09-12T06:21:45.765925",
     "exception": false,
     "start_time": "2022-09-12T06:21:45.760505",
     "status": "completed"
    },
    "tags": []
   },
   "source": [
    "# 5. <span title=\"A bit spicy\" style=\"color: darkgreen \">🌶️</span>\n",
    "\n",
    "We're using lists to record people who attended our party and what order they arrived in. For example, the following list represents a party with 7 guests, in which Adela showed up first and Ford was the last to arrive:\n",
    "\n",
    "    party_attendees = ['Adela', 'Fleda', 'Owen', 'May', 'Mona', 'Gilbert', 'Ford']\n",
    "\n",
    "A guest is considered 'fashionably late' if they arrived after at least half of the party's guests. However, they must not be the very last guest (that's taking it too far). In the above example, Mona and Gilbert are the only guests who were fashionably late.\n",
    "\n",
    "Complete the function below which takes a list of party attendees as well as a person, and tells us whether that person is fashionably late."
   ]
  },
  {
   "cell_type": "code",
   "execution_count": null,
   "id": "7aac6e2a",
   "metadata": {
    "papermill": {
     "duration": 0.005344,
     "end_time": "2022-09-12T06:21:45.776968",
     "exception": false,
     "start_time": "2022-09-12T06:21:45.771624",
     "status": "completed"
    },
    "tags": []
   },
   "outputs": [],
   "source": []
  },
  {
   "cell_type": "code",
   "execution_count": 10,
   "id": "bf65b3e4",
   "metadata": {
    "execution": {
     "iopub.execute_input": "2022-09-12T06:21:45.790851Z",
     "iopub.status.busy": "2022-09-12T06:21:45.790461Z",
     "iopub.status.idle": "2022-09-12T06:21:45.799892Z",
     "shell.execute_reply": "2022-09-12T06:21:45.798774Z"
    },
    "papermill": {
     "duration": 0.020049,
     "end_time": "2022-09-12T06:21:45.802741",
     "exception": false,
     "start_time": "2022-09-12T06:21:45.782692",
     "status": "completed"
    },
    "tags": []
   },
   "outputs": [
    {
     "data": {
      "application/javascript": [
       "parent.postMessage({\"jupyterEvent\": \"custom.exercise_interaction\", \"data\": {\"outcomeType\": 1, \"valueTowardsCompletion\": 0.2, \"interactionType\": 1, \"questionType\": 2, \"questionId\": \"5_FashionablyLate\", \"learnToolsVersion\": \"0.3.4\", \"failureMessage\": \"\", \"exceptionClass\": \"\", \"trace\": \"\"}}, \"*\")"
      ],
      "text/plain": [
       "<IPython.core.display.Javascript object>"
      ]
     },
     "metadata": {},
     "output_type": "display_data"
    },
    {
     "data": {
      "text/markdown": [
       "<span style=\"color:#33cc33\">Correct</span>"
      ],
      "text/plain": [
       "Correct"
      ]
     },
     "metadata": {},
     "output_type": "display_data"
    }
   ],
   "source": [
    "def fashionably_late(arrivals, name):\n",
    "    \"\"\"Given an ordered list of arrivals to the party and a name, return whether the guest with that\n",
    "    name was fashionably late.\n",
    "    \"\"\"\n",
    "    order = arrivals.index(name)\n",
    "    return order >= len(arrivals) / 2 and order != len(arrivals) - 1\n",
    "    pass\n",
    "\n",
    "# Check your answer\n",
    "q5.check()"
   ]
  },
  {
   "cell_type": "code",
   "execution_count": 11,
   "id": "4fffdcde",
   "metadata": {
    "execution": {
     "iopub.execute_input": "2022-09-12T06:21:45.821096Z",
     "iopub.status.busy": "2022-09-12T06:21:45.819930Z",
     "iopub.status.idle": "2022-09-12T06:21:45.825304Z",
     "shell.execute_reply": "2022-09-12T06:21:45.824043Z"
    },
    "papermill": {
     "duration": 0.016713,
     "end_time": "2022-09-12T06:21:45.827816",
     "exception": false,
     "start_time": "2022-09-12T06:21:45.811103",
     "status": "completed"
    },
    "tags": []
   },
   "outputs": [],
   "source": [
    "#q5.hint()\n",
    "#q5.solution()"
   ]
  },
  {
   "cell_type": "markdown",
   "id": "4558ebdb",
   "metadata": {
    "papermill": {
     "duration": 0.006545,
     "end_time": "2022-09-12T06:21:45.841733",
     "exception": false,
     "start_time": "2022-09-12T06:21:45.835188",
     "status": "completed"
    },
    "tags": []
   },
   "source": [
    "# Keep Going\n",
    "\n",
    "That's it for lists and tuples! Now you have the baseline knowledge to **[learn about loops](https://www.kaggle.com/colinmorris/loops-and-list-comprehensions)**, which is where lists and tuples get really interesting. "
   ]
  },
  {
   "cell_type": "markdown",
   "id": "435ebf8c",
   "metadata": {
    "papermill": {
     "duration": 0.006304,
     "end_time": "2022-09-12T06:21:45.855671",
     "exception": false,
     "start_time": "2022-09-12T06:21:45.849367",
     "status": "completed"
    },
    "tags": []
   },
   "source": [
    "---\n",
    "\n",
    "\n",
    "\n",
    "\n",
    "*Have questions or comments? Visit the [course discussion forum](https://www.kaggle.com/learn/python/discussion) to chat with other learners.*"
   ]
  }
 ],
 "metadata": {
  "kernelspec": {
   "display_name": "Python 3",
   "language": "python",
   "name": "python3"
  },
  "language_info": {
   "codemirror_mode": {
    "name": "ipython",
    "version": 3
   },
   "file_extension": ".py",
   "mimetype": "text/x-python",
   "name": "python",
   "nbconvert_exporter": "python",
   "pygments_lexer": "ipython3",
   "version": "3.7.12"
  },
  "papermill": {
   "default_parameters": {},
   "duration": 9.938948,
   "end_time": "2022-09-12T06:21:46.483793",
   "environment_variables": {},
   "exception": null,
   "input_path": "__notebook__.ipynb",
   "output_path": "__notebook__.ipynb",
   "parameters": {},
   "start_time": "2022-09-12T06:21:36.544845",
   "version": "2.3.4"
  }
 },
 "nbformat": 4,
 "nbformat_minor": 5
}
