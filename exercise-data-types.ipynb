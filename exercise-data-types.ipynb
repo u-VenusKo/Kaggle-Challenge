{
 "cells": [
  {
   "cell_type": "markdown",
   "id": "6ad8f1ce",
   "metadata": {
    "papermill": {
     "duration": 0.007699,
     "end_time": "2022-09-13T07:49:42.290228",
     "exception": false,
     "start_time": "2022-09-13T07:49:42.282529",
     "status": "completed"
    },
    "tags": []
   },
   "source": [
    "**This notebook is an exercise in the [Intro to Programming](https://www.kaggle.com/learn/intro-to-programming) course.  You can reference the tutorial at [this link](https://www.kaggle.com/alexisbcook/data-types).**\n",
    "\n",
    "---\n"
   ]
  },
  {
   "cell_type": "markdown",
   "id": "172c11c2",
   "metadata": {
    "papermill": {
     "duration": 0.006146,
     "end_time": "2022-09-13T07:49:42.302965",
     "exception": false,
     "start_time": "2022-09-13T07:49:42.296819",
     "status": "completed"
    },
    "tags": []
   },
   "source": [
    "In the tutorial, you learned about four different data types: floats, integers, strings, and booleans.  In this exercise, you'll experiment with them.\n",
    "\n",
    "# Set up the notebook\n",
    "\n",
    "Run the next code cell without changes to set up the notebook."
   ]
  },
  {
   "cell_type": "code",
   "execution_count": 1,
   "id": "f1f3c5f3",
   "metadata": {
    "execution": {
     "iopub.execute_input": "2022-09-13T07:49:42.319055Z",
     "iopub.status.busy": "2022-09-13T07:49:42.318019Z",
     "iopub.status.idle": "2022-09-13T07:49:42.382666Z",
     "shell.execute_reply": "2022-09-13T07:49:42.381475Z"
    },
    "papermill": {
     "duration": 0.077425,
     "end_time": "2022-09-13T07:49:42.387023",
     "exception": false,
     "start_time": "2022-09-13T07:49:42.309598",
     "status": "completed"
    },
    "tags": []
   },
   "outputs": [
    {
     "name": "stdout",
     "output_type": "stream",
     "text": [
      "Setup complete.\n"
     ]
    }
   ],
   "source": [
    "# Set up the exercise\n",
    "from learntools.core import binder\n",
    "binder.bind(globals())\n",
    "from learntools.intro_to_programming.ex3 import *\n",
    "print('Setup complete.')"
   ]
  },
  {
   "cell_type": "markdown",
   "id": "4e85dcda",
   "metadata": {
    "papermill": {
     "duration": 0.006214,
     "end_time": "2022-09-13T07:49:42.400817",
     "exception": false,
     "start_time": "2022-09-13T07:49:42.394603",
     "status": "completed"
    },
    "tags": []
   },
   "source": [
    "# Question 1\n",
    "\n",
    "You have seen how to convert a float to an integer with the `int` function.  Try this out yourself by running the code cell below."
   ]
  },
  {
   "cell_type": "code",
   "execution_count": 2,
   "id": "d1c0e133",
   "metadata": {
    "execution": {
     "iopub.execute_input": "2022-09-13T07:49:42.415933Z",
     "iopub.status.busy": "2022-09-13T07:49:42.415450Z",
     "iopub.status.idle": "2022-09-13T07:49:42.422360Z",
     "shell.execute_reply": "2022-09-13T07:49:42.421355Z"
    },
    "papermill": {
     "duration": 0.017356,
     "end_time": "2022-09-13T07:49:42.424623",
     "exception": false,
     "start_time": "2022-09-13T07:49:42.407267",
     "status": "completed"
    },
    "tags": []
   },
   "outputs": [
    {
     "name": "stdout",
     "output_type": "stream",
     "text": [
      "1.0\n",
      "<class 'float'>\n",
      "1\n",
      "<class 'int'>\n"
     ]
    }
   ],
   "source": [
    "# Define a float\n",
    "y = 1.\n",
    "print(y)\n",
    "print(type(y))\n",
    "\n",
    "# Convert float to integer with the int function\n",
    "z = int(y)\n",
    "print(z)\n",
    "print(type(z))"
   ]
  },
  {
   "cell_type": "markdown",
   "id": "c40f5daf",
   "metadata": {
    "papermill": {
     "duration": 0.006334,
     "end_time": "2022-09-13T07:49:42.437388",
     "exception": false,
     "start_time": "2022-09-13T07:49:42.431054",
     "status": "completed"
    },
    "tags": []
   },
   "source": [
    "In this case, the float you are using has no numbers after the decimal.  \n",
    "- But what happens when you try to convert a float with a fractional part to an integer?  \n",
    "- How does the outcome of the `int` function change for positive and negative numbers?\n",
    "\n",
    "Use the next code cell to investigate and answer these questions.  Feel free to add or remove any lines of code -- it is your workspace!"
   ]
  },
  {
   "cell_type": "code",
   "execution_count": 3,
   "id": "dd91062e",
   "metadata": {
    "execution": {
     "iopub.execute_input": "2022-09-13T07:49:42.453505Z",
     "iopub.status.busy": "2022-09-13T07:49:42.452199Z",
     "iopub.status.idle": "2022-09-13T07:49:42.459176Z",
     "shell.execute_reply": "2022-09-13T07:49:42.458244Z"
    },
    "papermill": {
     "duration": 0.018157,
     "end_time": "2022-09-13T07:49:42.462054",
     "exception": false,
     "start_time": "2022-09-13T07:49:42.443897",
     "status": "completed"
    },
    "tags": []
   },
   "outputs": [
    {
     "name": "stdout",
     "output_type": "stream",
     "text": [
      "<class 'int'>\n",
      "1\n",
      "1\n",
      "-3\n",
      "-2\n"
     ]
    }
   ],
   "source": [
    "# Uncomment and run this code to get started!\n",
    "print(type(int(1.2321)))\n",
    "print(int(1.2321))\n",
    "print(int(1.747))\n",
    "print(int(-3.94535))\n",
    "print(int(-2.19774))"
   ]
  },
  {
   "cell_type": "markdown",
   "id": "162acc7f",
   "metadata": {
    "papermill": {
     "duration": 0.006776,
     "end_time": "2022-09-13T07:49:42.475769",
     "exception": false,
     "start_time": "2022-09-13T07:49:42.468993",
     "status": "completed"
    },
    "tags": []
   },
   "source": [
    "Once you have an answer, run the code cell below to see the solution.  Viewing the solution will give you credit for answering the problem."
   ]
  },
  {
   "cell_type": "code",
   "execution_count": 4,
   "id": "13c2888a",
   "metadata": {
    "execution": {
     "iopub.execute_input": "2022-09-13T07:49:42.491713Z",
     "iopub.status.busy": "2022-09-13T07:49:42.490928Z",
     "iopub.status.idle": "2022-09-13T07:49:42.501326Z",
     "shell.execute_reply": "2022-09-13T07:49:42.500406Z"
    },
    "papermill": {
     "duration": 0.02137,
     "end_time": "2022-09-13T07:49:42.503979",
     "exception": false,
     "start_time": "2022-09-13T07:49:42.482609",
     "status": "completed"
    },
    "tags": []
   },
   "outputs": [
    {
     "data": {
      "application/javascript": [
       "parent.postMessage({\"jupyterEvent\": \"custom.exercise_interaction\", \"data\": {\"outcomeType\": 1, \"valueTowardsCompletion\": 0.2, \"interactionType\": 1, \"questionType\": 4, \"questionId\": \"1_FloatToInt\", \"learnToolsVersion\": \"0.3.4\", \"failureMessage\": \"\", \"exceptionClass\": \"\", \"trace\": \"\"}}, \"*\")"
      ],
      "text/plain": [
       "<IPython.core.display.Javascript object>"
      ]
     },
     "metadata": {},
     "output_type": "display_data"
    },
    {
     "data": {
      "text/markdown": [
       "<span style=\"color:#33cc33\">Correct:</span> \n",
       "\n",
       "Negative floats are always rounded UP to the closest integer (for instance, both -1.1 and -1.9 are rounded up to -1). Positive floats are always rounded DOWN to the closest integer (for instance, 2.1 and 2.9 are rounded down to 2)."
      ],
      "text/plain": [
       "Correct: \n",
       "\n",
       "Negative floats are always rounded UP to the closest integer (for instance, both -1.1 and -1.9 are rounded up to -1). Positive floats are always rounded DOWN to the closest integer (for instance, 2.1 and 2.9 are rounded down to 2)."
      ]
     },
     "metadata": {},
     "output_type": "display_data"
    }
   ],
   "source": [
    "# Check your answer (Run this code cell to receive credit!)\n",
    "q1.check()"
   ]
  },
  {
   "cell_type": "markdown",
   "id": "1bb7170b",
   "metadata": {
    "papermill": {
     "duration": 0.006994,
     "end_time": "2022-09-13T07:49:42.518318",
     "exception": false,
     "start_time": "2022-09-13T07:49:42.511324",
     "status": "completed"
    },
    "tags": []
   },
   "source": [
    "# Question 2\n",
    "\n",
    "In the tutorial, you learned about booleans (which can take a value of `True` or `False`), in addition to integers, floats, and strings.  For this question, your goal is to determine what happens when you multiply a boolean by any of these data types.  Specifically, \n",
    "- What happens when you multiply an integer or float by `True`?  What happens when you multiply them by `False`?  How does the answer change if the numbers are positive or negative?\n",
    "- What happens when you multiply a string by `True`?  By `False`?\n",
    "\n",
    "Use the next code cell for your investigation. "
   ]
  },
  {
   "cell_type": "code",
   "execution_count": 5,
   "id": "52e90e98",
   "metadata": {
    "execution": {
     "iopub.execute_input": "2022-09-13T07:49:42.535366Z",
     "iopub.status.busy": "2022-09-13T07:49:42.534595Z",
     "iopub.status.idle": "2022-09-13T07:49:42.541101Z",
     "shell.execute_reply": "2022-09-13T07:49:42.540206Z"
    },
    "papermill": {
     "duration": 0.018461,
     "end_time": "2022-09-13T07:49:42.544376",
     "exception": false,
     "start_time": "2022-09-13T07:49:42.525915",
     "status": "completed"
    },
    "tags": []
   },
   "outputs": [
    {
     "name": "stdout",
     "output_type": "stream",
     "text": [
      "3\n",
      "-3.1\n",
      "<class 'str'>\n",
      "0\n"
     ]
    }
   ],
   "source": [
    "# Uncomment and run this code to get started!\n",
    "print(3 * True)\n",
    "print(-3.1 * True)\n",
    "print(type(\"abc\" * False))\n",
    "print(len(\"abc\" * False))"
   ]
  },
  {
   "cell_type": "markdown",
   "id": "24a6aa3d",
   "metadata": {
    "papermill": {
     "duration": 0.006783,
     "end_time": "2022-09-13T07:49:42.559170",
     "exception": false,
     "start_time": "2022-09-13T07:49:42.552387",
     "status": "completed"
    },
    "tags": []
   },
   "source": [
    "Once you have an answer, run the code cell below to see the solution.  Viewing the solution will give you credit for answering the problem."
   ]
  },
  {
   "cell_type": "code",
   "execution_count": 6,
   "id": "bc901259",
   "metadata": {
    "execution": {
     "iopub.execute_input": "2022-09-13T07:49:42.575641Z",
     "iopub.status.busy": "2022-09-13T07:49:42.575031Z",
     "iopub.status.idle": "2022-09-13T07:49:42.582001Z",
     "shell.execute_reply": "2022-09-13T07:49:42.581063Z"
    },
    "papermill": {
     "duration": 0.018256,
     "end_time": "2022-09-13T07:49:42.584586",
     "exception": false,
     "start_time": "2022-09-13T07:49:42.566330",
     "status": "completed"
    },
    "tags": []
   },
   "outputs": [
    {
     "data": {
      "application/javascript": [
       "parent.postMessage({\"jupyterEvent\": \"custom.exercise_interaction\", \"data\": {\"outcomeType\": 1, \"valueTowardsCompletion\": 0.2, \"interactionType\": 1, \"questionType\": 4, \"questionId\": \"2_MultiplyBooleans\", \"learnToolsVersion\": \"0.3.4\", \"failureMessage\": \"\", \"exceptionClass\": \"\", \"trace\": \"\"}}, \"*\")"
      ],
      "text/plain": [
       "<IPython.core.display.Javascript object>"
      ]
     },
     "metadata": {},
     "output_type": "display_data"
    },
    {
     "data": {
      "text/markdown": [
       "<span style=\"color:#33cc33\">Correct:</span> \n",
       "\n",
       "When you multiple an integer or float by a boolean with value `True`, it just returns that same integer or float (and is equivalent to multiplying by 1).  If you multiply an integer or float by a boolean with value `False`, it always returns 0.  This is true for both positive and negative numbers.  If you multiply a string by a boolean with value `True`, it just returns that same string.  And if you multiply a string by a boolean with value `False`, it returns an empty string (or a string with length zero)."
      ],
      "text/plain": [
       "Correct: \n",
       "\n",
       "When you multiple an integer or float by a boolean with value `True`, it just returns that same integer or float (and is equivalent to multiplying by 1).  If you multiply an integer or float by a boolean with value `False`, it always returns 0.  This is true for both positive and negative numbers.  If you multiply a string by a boolean with value `True`, it just returns that same string.  And if you multiply a string by a boolean with value `False`, it returns an empty string (or a string with length zero)."
      ]
     },
     "metadata": {},
     "output_type": "display_data"
    }
   ],
   "source": [
    "# Check your answer (Run this code cell to receive credit!)\n",
    "q2.check()"
   ]
  },
  {
   "cell_type": "markdown",
   "id": "cb149120",
   "metadata": {
    "papermill": {
     "duration": 0.007144,
     "end_time": "2022-09-13T07:49:42.600480",
     "exception": false,
     "start_time": "2022-09-13T07:49:42.593336",
     "status": "completed"
    },
    "tags": []
   },
   "source": [
    "# Question 3\n",
    "\n",
    "In this question, you will build off your work from the previous exercise to write a function that estimates the value of a house.\n",
    "\n",
    "Use the next code cell to create a function `get_expected_cost` that takes as input three variables:\n",
    "- `beds` - number of bedrooms (data type float)\n",
    "- `baths` - number of bathrooms (data type float)\n",
    "- `has_basement` - whether or not the house has a basement (data type boolean)\n",
    "\n",
    "It should return the expected cost of a house with those characteristics. Assume that:\n",
    "- the expected cost for a house with 0 bedrooms and 0 bathrooms, and no basement is 80000, \n",
    "- each bedroom adds 30000 to the expected cost,\n",
    "- each bathroom adds 10000 to the expected cost, and\n",
    "- a basement adds 40000 to the expected cost.\n",
    "\n",
    "For instance,\n",
    "- a house with 1 bedroom, 1 bathroom, and no basement has an expected cost of 80000 + 30000 + 10000 = 120000.  This value will be calculated with `get_expected_cost(1, 1, False)`.\n",
    "- a house with 2 bedrooms, 1 bathroom, and a basement has an expected cost of 80000 + 2*30000 + 10000 + 40000 = 190000.  This value will be calculated with `get_expected_cost(2, 1, True)`.\n",
    "\n",
    "Remember you can always get a hint by uncommenting `q3.hint()` in the code cell following the next!"
   ]
  },
  {
   "cell_type": "code",
   "execution_count": 7,
   "id": "de947a2d",
   "metadata": {
    "execution": {
     "iopub.execute_input": "2022-09-13T07:49:42.617078Z",
     "iopub.status.busy": "2022-09-13T07:49:42.616706Z",
     "iopub.status.idle": "2022-09-13T07:49:42.626575Z",
     "shell.execute_reply": "2022-09-13T07:49:42.625351Z"
    },
    "papermill": {
     "duration": 0.021154,
     "end_time": "2022-09-13T07:49:42.629017",
     "exception": false,
     "start_time": "2022-09-13T07:49:42.607863",
     "status": "completed"
    },
    "tags": []
   },
   "outputs": [
    {
     "data": {
      "application/javascript": [
       "parent.postMessage({\"jupyterEvent\": \"custom.exercise_interaction\", \"data\": {\"outcomeType\": 1, \"valueTowardsCompletion\": 0.2, \"interactionType\": 1, \"questionType\": 2, \"questionId\": \"3_EstimateHouseValueBool\", \"learnToolsVersion\": \"0.3.4\", \"failureMessage\": \"\", \"exceptionClass\": \"\", \"trace\": \"\"}}, \"*\")"
      ],
      "text/plain": [
       "<IPython.core.display.Javascript object>"
      ]
     },
     "metadata": {},
     "output_type": "display_data"
    },
    {
     "data": {
      "text/markdown": [
       "<span style=\"color:#33cc33\">Correct</span>"
      ],
      "text/plain": [
       "Correct"
      ]
     },
     "metadata": {},
     "output_type": "display_data"
    }
   ],
   "source": [
    "# TODO: Complete the function\n",
    "def get_expected_cost(beds, baths, has_basement):\n",
    "    value = (80000 + (30000 * beds) + (10000 * baths) + (40000 * has_basement))\n",
    "    return value\n",
    "    \n",
    "\n",
    "# Check your answer \n",
    "q3.check()"
   ]
  },
  {
   "cell_type": "code",
   "execution_count": 8,
   "id": "f36333d1",
   "metadata": {
    "execution": {
     "iopub.execute_input": "2022-09-13T07:49:42.647960Z",
     "iopub.status.busy": "2022-09-13T07:49:42.646549Z",
     "iopub.status.idle": "2022-09-13T07:49:42.652631Z",
     "shell.execute_reply": "2022-09-13T07:49:42.651413Z"
    },
    "papermill": {
     "duration": 0.018271,
     "end_time": "2022-09-13T07:49:42.655623",
     "exception": false,
     "start_time": "2022-09-13T07:49:42.637352",
     "status": "completed"
    },
    "tags": []
   },
   "outputs": [],
   "source": [
    "# Uncomment to see a hint\n",
    "#q3.hint()\n",
    "\n",
    "# Uncomment to view the solution\n",
    "#q3.solution()"
   ]
  },
  {
   "cell_type": "markdown",
   "id": "5bb7c819",
   "metadata": {
    "papermill": {
     "duration": 0.007207,
     "end_time": "2022-09-13T07:49:42.670640",
     "exception": false,
     "start_time": "2022-09-13T07:49:42.663433",
     "status": "completed"
    },
    "tags": []
   },
   "source": [
    "# Question 4\n",
    "\n",
    "We'll continue our study of boolean arithmetic.  For this question, your task is to provide a description of what happpens when you add booleans. \n",
    "\n",
    "Use the next code cell for your investigation.  Feel free to add or remove any lines of code - use it as your workspace!"
   ]
  },
  {
   "cell_type": "code",
   "execution_count": 9,
   "id": "d085e9d6",
   "metadata": {
    "execution": {
     "iopub.execute_input": "2022-09-13T07:49:42.687929Z",
     "iopub.status.busy": "2022-09-13T07:49:42.687489Z",
     "iopub.status.idle": "2022-09-13T07:49:42.694469Z",
     "shell.execute_reply": "2022-09-13T07:49:42.693149Z"
    },
    "papermill": {
     "duration": 0.019177,
     "end_time": "2022-09-13T07:49:42.697539",
     "exception": false,
     "start_time": "2022-09-13T07:49:42.678362",
     "status": "completed"
    },
    "tags": []
   },
   "outputs": [
    {
     "name": "stdout",
     "output_type": "stream",
     "text": [
      "0\n",
      "1\n",
      "1\n",
      "2\n",
      "3\n"
     ]
    }
   ],
   "source": [
    "print(False + False)\n",
    "print(True + False)\n",
    "print(False + True)\n",
    "print(True + True)\n",
    "print(False + True + True + True)"
   ]
  },
  {
   "cell_type": "markdown",
   "id": "f2b42315",
   "metadata": {
    "papermill": {
     "duration": 0.007161,
     "end_time": "2022-09-13T07:49:42.713331",
     "exception": false,
     "start_time": "2022-09-13T07:49:42.706170",
     "status": "completed"
    },
    "tags": []
   },
   "source": [
    "Once you have an answer, run the code cell below to see the solution.  Viewing the solution will give you credit for answering the problem."
   ]
  },
  {
   "cell_type": "code",
   "execution_count": 10,
   "id": "51b4fe0b",
   "metadata": {
    "execution": {
     "iopub.execute_input": "2022-09-13T07:49:42.730990Z",
     "iopub.status.busy": "2022-09-13T07:49:42.730228Z",
     "iopub.status.idle": "2022-09-13T07:49:42.740410Z",
     "shell.execute_reply": "2022-09-13T07:49:42.739172Z"
    },
    "papermill": {
     "duration": 0.021744,
     "end_time": "2022-09-13T07:49:42.742755",
     "exception": false,
     "start_time": "2022-09-13T07:49:42.721011",
     "status": "completed"
    },
    "tags": []
   },
   "outputs": [
    {
     "data": {
      "application/javascript": [
       "parent.postMessage({\"jupyterEvent\": \"custom.exercise_interaction\", \"data\": {\"outcomeType\": 1, \"valueTowardsCompletion\": 0.2, \"interactionType\": 1, \"questionType\": 4, \"questionId\": \"4_AddingBooleans\", \"learnToolsVersion\": \"0.3.4\", \"failureMessage\": \"\", \"exceptionClass\": \"\", \"trace\": \"\"}}, \"*\")"
      ],
      "text/plain": [
       "<IPython.core.display.Javascript object>"
      ]
     },
     "metadata": {},
     "output_type": "display_data"
    },
    {
     "data": {
      "text/markdown": [
       "<span style=\"color:#33cc33\">Correct:</span> \n",
       "\n",
       "When you add booleans, adding `False` is equivalent to adding 0, and adding `True` is equivalent to adding 1."
      ],
      "text/plain": [
       "Correct: \n",
       "\n",
       "When you add booleans, adding `False` is equivalent to adding 0, and adding `True` is equivalent to adding 1."
      ]
     },
     "metadata": {},
     "output_type": "display_data"
    }
   ],
   "source": [
    "# Check your answer (Run this code cell to receive credit!)\n",
    "q4.check()"
   ]
  },
  {
   "cell_type": "markdown",
   "id": "5fefde50",
   "metadata": {
    "papermill": {
     "duration": 0.007502,
     "end_time": "2022-09-13T07:49:42.758052",
     "exception": false,
     "start_time": "2022-09-13T07:49:42.750550",
     "status": "completed"
    },
    "tags": []
   },
   "source": [
    "# 🌶️ Question 5\n",
    "\n",
    "You own an online shop where you sell rings with custom engravings.  You offer both gold plated and solid gold rings.\n",
    "- Gold plated rings have a base cost of \\\\$50, and you charge \\\\$7 per engraved unit.  \n",
    "- Solid gold rings have a base cost of \\\\$100, and you charge \\\\$10 per engraved unit.\n",
    "- Spaces and punctuation are counted as engraved units.\n",
    "\n",
    "Write a function `cost_of_project()` that takes two arguments:\n",
    "- `engraving` - a Python string with the text of the engraving\n",
    "- `solid_gold` - a Boolean that indicates whether the ring is solid gold\n",
    "\n",
    "It should return the cost of the project.  This question should be fairly challenging, and you may need a hint."
   ]
  },
  {
   "cell_type": "code",
   "execution_count": 11,
   "id": "7c12702e",
   "metadata": {
    "execution": {
     "iopub.execute_input": "2022-09-13T07:49:42.776923Z",
     "iopub.status.busy": "2022-09-13T07:49:42.775782Z",
     "iopub.status.idle": "2022-09-13T07:49:42.786362Z",
     "shell.execute_reply": "2022-09-13T07:49:42.785265Z"
    },
    "papermill": {
     "duration": 0.022731,
     "end_time": "2022-09-13T07:49:42.788577",
     "exception": false,
     "start_time": "2022-09-13T07:49:42.765846",
     "status": "completed"
    },
    "tags": []
   },
   "outputs": [
    {
     "data": {
      "application/javascript": [
       "parent.postMessage({\"jupyterEvent\": \"custom.exercise_interaction\", \"data\": {\"outcomeType\": 1, \"valueTowardsCompletion\": 0.2, \"interactionType\": 1, \"questionType\": 2, \"questionId\": \"5_CustomEngravings\", \"learnToolsVersion\": \"0.3.4\", \"failureMessage\": \"\", \"exceptionClass\": \"\", \"trace\": \"\"}}, \"*\")"
      ],
      "text/plain": [
       "<IPython.core.display.Javascript object>"
      ]
     },
     "metadata": {},
     "output_type": "display_data"
    },
    {
     "data": {
      "text/markdown": [
       "<span style=\"color:#33cc33\">Correct</span>"
      ],
      "text/plain": [
       "Correct"
      ]
     },
     "metadata": {},
     "output_type": "display_data"
    }
   ],
   "source": [
    "def cost_of_project(engraving, solid_gold):\n",
    "    \n",
    "    cost = solid_gold * (100 + 10 * len(engraving)) + (not solid_gold ) * (50 + 7 * len(engraving))\n",
    "\n",
    "    return cost\n",
    "#:(\n",
    "# Check your answer\n",
    "q5.check()"
   ]
  },
  {
   "cell_type": "code",
   "execution_count": 12,
   "id": "37dafa2c",
   "metadata": {
    "execution": {
     "iopub.execute_input": "2022-09-13T07:49:42.806405Z",
     "iopub.status.busy": "2022-09-13T07:49:42.805642Z",
     "iopub.status.idle": "2022-09-13T07:49:42.810545Z",
     "shell.execute_reply": "2022-09-13T07:49:42.809468Z"
    },
    "papermill": {
     "duration": 0.0165,
     "end_time": "2022-09-13T07:49:42.812924",
     "exception": false,
     "start_time": "2022-09-13T07:49:42.796424",
     "status": "completed"
    },
    "tags": []
   },
   "outputs": [],
   "source": [
    "# Uncomment to see a hint\n",
    "#q5.hint()\n",
    "\n",
    "# Uncomment to view the solution\n",
    "#q5.solution()"
   ]
  },
  {
   "cell_type": "markdown",
   "id": "982419c7",
   "metadata": {
    "papermill": {
     "duration": 0.007486,
     "end_time": "2022-09-13T07:49:42.828345",
     "exception": false,
     "start_time": "2022-09-13T07:49:42.820859",
     "status": "completed"
    },
    "tags": []
   },
   "source": [
    "Run the next code cell to calculate the cost of engraving `Charlie+Denver` on a solid gold ring."
   ]
  },
  {
   "cell_type": "code",
   "execution_count": 13,
   "id": "f764084d",
   "metadata": {
    "execution": {
     "iopub.execute_input": "2022-09-13T07:49:42.846019Z",
     "iopub.status.busy": "2022-09-13T07:49:42.845280Z",
     "iopub.status.idle": "2022-09-13T07:49:42.851384Z",
     "shell.execute_reply": "2022-09-13T07:49:42.850508Z"
    },
    "papermill": {
     "duration": 0.018047,
     "end_time": "2022-09-13T07:49:42.854057",
     "exception": false,
     "start_time": "2022-09-13T07:49:42.836010",
     "status": "completed"
    },
    "tags": []
   },
   "outputs": [
    {
     "name": "stdout",
     "output_type": "stream",
     "text": [
      "240\n"
     ]
    }
   ],
   "source": [
    "project_one = cost_of_project(\"Charlie+Denver\", True)\n",
    "print(project_one)"
   ]
  },
  {
   "cell_type": "markdown",
   "id": "05afb65d",
   "metadata": {
    "papermill": {
     "duration": 0.007968,
     "end_time": "2022-09-13T07:49:42.871409",
     "exception": false,
     "start_time": "2022-09-13T07:49:42.863441",
     "status": "completed"
    },
    "tags": []
   },
   "source": [
    "Use the next code cell to calculate the cost of engraving `08/10/2000` on a gold plated ring."
   ]
  },
  {
   "cell_type": "code",
   "execution_count": 14,
   "id": "226bbca1",
   "metadata": {
    "execution": {
     "iopub.execute_input": "2022-09-13T07:49:42.889971Z",
     "iopub.status.busy": "2022-09-13T07:49:42.889137Z",
     "iopub.status.idle": "2022-09-13T07:49:42.895064Z",
     "shell.execute_reply": "2022-09-13T07:49:42.894203Z"
    },
    "papermill": {
     "duration": 0.018223,
     "end_time": "2022-09-13T07:49:42.897694",
     "exception": false,
     "start_time": "2022-09-13T07:49:42.879471",
     "status": "completed"
    },
    "tags": []
   },
   "outputs": [
    {
     "name": "stdout",
     "output_type": "stream",
     "text": [
      "120\n"
     ]
    }
   ],
   "source": [
    "project_two = cost_of_project(\"08/10/2000\", False)\n",
    "print(project_two)"
   ]
  },
  {
   "cell_type": "markdown",
   "id": "9de3047c",
   "metadata": {
    "papermill": {
     "duration": 0.007797,
     "end_time": "2022-09-13T07:49:42.914573",
     "exception": false,
     "start_time": "2022-09-13T07:49:42.906776",
     "status": "completed"
    },
    "tags": []
   },
   "source": [
    "# Keep going\n",
    "\n",
    "Continue to the next lesson to **[learn about conditions and conditional statements](https://www.kaggle.com/alexisbcook/conditions-and-conditional-statements)**."
   ]
  },
  {
   "cell_type": "markdown",
   "id": "c86262c5",
   "metadata": {
    "papermill": {
     "duration": 0.007855,
     "end_time": "2022-09-13T07:49:42.930893",
     "exception": false,
     "start_time": "2022-09-13T07:49:42.923038",
     "status": "completed"
    },
    "tags": []
   },
   "source": [
    "---\n",
    "\n",
    "\n",
    "\n",
    "\n",
    "*Have questions or comments? Visit the [course discussion forum](https://www.kaggle.com/learn/intro-to-programming/discussion) to chat with other learners.*"
   ]
  }
 ],
 "metadata": {
  "kernelspec": {
   "display_name": "Python 3",
   "language": "python",
   "name": "python3"
  },
  "language_info": {
   "codemirror_mode": {
    "name": "ipython",
    "version": 3
   },
   "file_extension": ".py",
   "mimetype": "text/x-python",
   "name": "python",
   "nbconvert_exporter": "python",
   "pygments_lexer": "ipython3",
   "version": "3.7.12"
  },
  "papermill": {
   "default_parameters": {},
   "duration": 11.484973,
   "end_time": "2022-09-13T07:49:43.863499",
   "environment_variables": {},
   "exception": null,
   "input_path": "__notebook__.ipynb",
   "output_path": "__notebook__.ipynb",
   "parameters": {},
   "start_time": "2022-09-13T07:49:32.378526",
   "version": "2.3.4"
  }
 },
 "nbformat": 4,
 "nbformat_minor": 5
}
